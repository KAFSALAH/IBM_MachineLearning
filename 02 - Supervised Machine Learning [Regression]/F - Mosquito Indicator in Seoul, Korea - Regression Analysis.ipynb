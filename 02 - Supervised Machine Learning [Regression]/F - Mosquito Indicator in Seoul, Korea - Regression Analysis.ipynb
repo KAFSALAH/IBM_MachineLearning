{
 "cells": [
  {
   "cell_type": "markdown",
   "id": "8f99aeff",
   "metadata": {},
   "source": [
    "# IBM MACHINE LEARNING - PROJECT B "
   ]
  },
  {
   "cell_type": "markdown",
   "id": "b92eef7e",
   "metadata": {},
   "source": [
    "## Mosquito Indicator in Seoul, Korea - Regression Analysis"
   ]
  },
  {
   "cell_type": "code",
   "execution_count": 1,
   "id": "708717b3",
   "metadata": {},
   "outputs": [],
   "source": [
    "# Import the necessary libraries for cleaning\n",
    "import numpy as np # For linear algebra\n",
    "import pandas as pd # For data frame manipulation\n",
    "import seaborn as sns # For visualization I\n",
    "import matplotlib.pyplot as plt # For visualization II\n",
    "%matplotlib inline "
   ]
  },
  {
   "cell_type": "markdown",
   "id": "75ebcb3d",
   "metadata": {},
   "source": [
    "**Tha main objective of this analysis is to predict mosquitoes infestation, and to interpret the main attributes that lead to it. According to WHO, mosquitoes are responsible for dengue disease borne as female mosquitoes transmit the disease to humans.**"
   ]
  },
  {
   "cell_type": "markdown",
   "id": "056bf8ed",
   "metadata": {},
   "source": [
    "## Description of the data set and a summary of its attributes."
   ]
  },
  {
   "cell_type": "code",
   "execution_count": 2,
   "id": "b2db4af5",
   "metadata": {},
   "outputs": [],
   "source": [
    "# Reading the data set\n",
    "mosquito_data = pd.read_csv('/Users/salahkaf/Desktop/mosquito_Indicator.csv')"
   ]
  },
  {
   "cell_type": "markdown",
   "id": "23ecbb8f",
   "metadata": {},
   "source": [
    "**The data set provides six features about misquitoes and wheather.\n",
    "Data were measured for Specific area in Seoul.**<br>\n",
    "**Attributes of the data set are as follows,**<br>\n",
    "**1- date: ata were measured every day between 2016-05 and 2019-12 (yy-mm-dd).**<br>\n",
    "**2- mosquito_indicator: number of mosquitoes in per specific area.**<br>\n",
    "**3- rain(mm): daily percipitation.**<br>\n",
    "**4- mean_T(°C): mean temperature of day.**<br>\n",
    "**5- min_T(°C): min temperature of day.**<br>\n",
    "**6- max_T(°C): max temperature of day.**<br>"
   ]
  },
  {
   "cell_type": "markdown",
   "id": "8d61f504",
   "metadata": {},
   "source": [
    "## Brief summary of data exploration/data cleaning & feature engineering."
   ]
  },
  {
   "cell_type": "code",
   "execution_count": 3,
   "id": "597ed65d",
   "metadata": {
    "scrolled": true
   },
   "outputs": [
    {
     "name": "stdout",
     "output_type": "stream",
     "text": [
      "Data frame first three rows\n"
     ]
    },
    {
     "data": {
      "text/html": [
       "<div>\n",
       "<style scoped>\n",
       "    .dataframe tbody tr th:only-of-type {\n",
       "        vertical-align: middle;\n",
       "    }\n",
       "\n",
       "    .dataframe tbody tr th {\n",
       "        vertical-align: top;\n",
       "    }\n",
       "\n",
       "    .dataframe thead th {\n",
       "        text-align: right;\n",
       "    }\n",
       "</style>\n",
       "<table border=\"1\" class=\"dataframe\">\n",
       "  <thead>\n",
       "    <tr style=\"text-align: right;\">\n",
       "      <th></th>\n",
       "      <th>date</th>\n",
       "      <th>mosquito_Indicator</th>\n",
       "      <th>rain(mm)</th>\n",
       "      <th>mean_T(℃)</th>\n",
       "      <th>min_T(℃)</th>\n",
       "      <th>max_T(℃)</th>\n",
       "    </tr>\n",
       "  </thead>\n",
       "  <tbody>\n",
       "    <tr>\n",
       "      <th>0</th>\n",
       "      <td>01/05/2016</td>\n",
       "      <td>254.4</td>\n",
       "      <td>0.0</td>\n",
       "      <td>18.8</td>\n",
       "      <td>12.2</td>\n",
       "      <td>26.0</td>\n",
       "    </tr>\n",
       "    <tr>\n",
       "      <th>1</th>\n",
       "      <td>02/05/2016</td>\n",
       "      <td>273.5</td>\n",
       "      <td>16.5</td>\n",
       "      <td>21.1</td>\n",
       "      <td>16.5</td>\n",
       "      <td>28.4</td>\n",
       "    </tr>\n",
       "    <tr>\n",
       "      <th>2</th>\n",
       "      <td>03/05/2016</td>\n",
       "      <td>304.0</td>\n",
       "      <td>27.0</td>\n",
       "      <td>12.9</td>\n",
       "      <td>8.9</td>\n",
       "      <td>17.6</td>\n",
       "    </tr>\n",
       "  </tbody>\n",
       "</table>\n",
       "</div>"
      ],
      "text/plain": [
       "         date  mosquito_Indicator  rain(mm)  mean_T(℃)  min_T(℃)  max_T(℃)\n",
       "0  01/05/2016               254.4       0.0       18.8      12.2      26.0\n",
       "1  02/05/2016               273.5      16.5       21.1      16.5      28.4\n",
       "2  03/05/2016               304.0      27.0       12.9       8.9      17.6"
      ]
     },
     "metadata": {},
     "output_type": "display_data"
    },
    {
     "name": "stdout",
     "output_type": "stream",
     "text": [
      "\n",
      "----------------------------------------\n",
      "Data frame last thee rows\n"
     ]
    },
    {
     "data": {
      "text/html": [
       "<div>\n",
       "<style scoped>\n",
       "    .dataframe tbody tr th:only-of-type {\n",
       "        vertical-align: middle;\n",
       "    }\n",
       "\n",
       "    .dataframe tbody tr th {\n",
       "        vertical-align: top;\n",
       "    }\n",
       "\n",
       "    .dataframe thead th {\n",
       "        text-align: right;\n",
       "    }\n",
       "</style>\n",
       "<table border=\"1\" class=\"dataframe\">\n",
       "  <thead>\n",
       "    <tr style=\"text-align: right;\">\n",
       "      <th></th>\n",
       "      <th>date</th>\n",
       "      <th>mosquito_Indicator</th>\n",
       "      <th>rain(mm)</th>\n",
       "      <th>mean_T(℃)</th>\n",
       "      <th>min_T(℃)</th>\n",
       "      <th>max_T(℃)</th>\n",
       "    </tr>\n",
       "  </thead>\n",
       "  <tbody>\n",
       "    <tr>\n",
       "      <th>1339</th>\n",
       "      <td>29/12/2019</td>\n",
       "      <td>5.5</td>\n",
       "      <td>1.4</td>\n",
       "      <td>3.8</td>\n",
       "      <td>1.1</td>\n",
       "      <td>6.2</td>\n",
       "    </tr>\n",
       "    <tr>\n",
       "      <th>1340</th>\n",
       "      <td>30/12/2019</td>\n",
       "      <td>5.5</td>\n",
       "      <td>0.4</td>\n",
       "      <td>2.7</td>\n",
       "      <td>-5.7</td>\n",
       "      <td>6.8</td>\n",
       "    </tr>\n",
       "    <tr>\n",
       "      <th>1341</th>\n",
       "      <td>31/12/2019</td>\n",
       "      <td>5.5</td>\n",
       "      <td>0.0</td>\n",
       "      <td>-7.9</td>\n",
       "      <td>-10.9</td>\n",
       "      <td>-4.5</td>\n",
       "    </tr>\n",
       "  </tbody>\n",
       "</table>\n",
       "</div>"
      ],
      "text/plain": [
       "            date  mosquito_Indicator  rain(mm)  mean_T(℃)  min_T(℃)  max_T(℃)\n",
       "1339  29/12/2019                 5.5       1.4        3.8       1.1       6.2\n",
       "1340  30/12/2019                 5.5       0.4        2.7      -5.7       6.8\n",
       "1341  31/12/2019                 5.5       0.0       -7.9     -10.9      -4.5"
      ]
     },
     "metadata": {},
     "output_type": "display_data"
    }
   ],
   "source": [
    "print(\"Data frame first three rows\")\n",
    "display(mosquito_data.head(3))\n",
    "print(\"\")\n",
    "print(\"----------------------------------------\")\n",
    "print(\"Data frame last thee rows\")\n",
    "display(mosquito_data.tail(3))"
   ]
  },
  {
   "cell_type": "code",
   "execution_count": 4,
   "id": "41d25dfb",
   "metadata": {},
   "outputs": [
    {
     "data": {
      "text/plain": [
       "date                  0\n",
       "mosquito_Indicator    0\n",
       "rain(mm)              4\n",
       "mean_T(℃)             9\n",
       "min_T(℃)              6\n",
       "max_T(℃)              1\n",
       "dtype: int64"
      ]
     },
     "execution_count": 4,
     "metadata": {},
     "output_type": "execute_result"
    }
   ],
   "source": [
    "mosquito_data.isnull().sum() #Checking for missing values"
   ]
  },
  {
   "cell_type": "markdown",
   "id": "b5a6b47d",
   "metadata": {},
   "source": [
    "**Since the total missing values is less than 10%, we decided to remove the instances with missing values.**"
   ]
  },
  {
   "cell_type": "code",
   "execution_count": 5,
   "id": "6b8ed627",
   "metadata": {},
   "outputs": [
    {
     "data": {
      "text/plain": [
       "date                  0\n",
       "mosquito_Indicator    0\n",
       "rain(mm)              0\n",
       "mean_T(℃)             0\n",
       "min_T(℃)              0\n",
       "max_T(℃)              0\n",
       "dtype: int64"
      ]
     },
     "execution_count": 5,
     "metadata": {},
     "output_type": "execute_result"
    }
   ],
   "source": [
    "mosquito_data.dropna(axis = 0, inplace= True) # '0' Removes the rows,\n",
    "#'inplace' donates that missing values should be removed from the same df.\n",
    "mosquito_data.isnull().sum()"
   ]
  },
  {
   "cell_type": "code",
   "execution_count": 6,
   "id": "863f9b87",
   "metadata": {},
   "outputs": [],
   "source": [
    "# Removing date as it would not help in the prediction process.\n",
    "mosquito_data.drop('date', axis = 1, inplace = True) "
   ]
  },
  {
   "cell_type": "code",
   "execution_count": 7,
   "id": "d8e3e33b",
   "metadata": {},
   "outputs": [
    {
     "name": "stdout",
     "output_type": "stream",
     "text": [
      "Data Set dimensions (1322, 5)\n",
      "\n",
      "<class 'pandas.core.frame.DataFrame'>\n",
      "Int64Index: 1322 entries, 0 to 1341\n",
      "Data columns (total 5 columns):\n",
      " #   Column              Non-Null Count  Dtype  \n",
      "---  ------              --------------  -----  \n",
      " 0   mosquito_Indicator  1322 non-null   float64\n",
      " 1   rain(mm)            1322 non-null   float64\n",
      " 2   mean_T(℃)           1322 non-null   float64\n",
      " 3   min_T(℃)            1322 non-null   float64\n",
      " 4   max_T(℃)            1322 non-null   float64\n",
      "dtypes: float64(5)\n",
      "memory usage: 62.0 KB\n"
     ]
    }
   ],
   "source": [
    "print('Data Set dimensions', mosquito_data.shape) # Number of rows and columns\n",
    "print('')\n",
    "mosquito_data.info() #General summary about the columns"
   ]
  },
  {
   "cell_type": "code",
   "execution_count": 8,
   "id": "48f327b9",
   "metadata": {
    "scrolled": true
   },
   "outputs": [
    {
     "data": {
      "text/html": [
       "<div>\n",
       "<style scoped>\n",
       "    .dataframe tbody tr th:only-of-type {\n",
       "        vertical-align: middle;\n",
       "    }\n",
       "\n",
       "    .dataframe tbody tr th {\n",
       "        vertical-align: top;\n",
       "    }\n",
       "\n",
       "    .dataframe thead th {\n",
       "        text-align: right;\n",
       "    }\n",
       "</style>\n",
       "<table border=\"1\" class=\"dataframe\">\n",
       "  <thead>\n",
       "    <tr style=\"text-align: right;\">\n",
       "      <th></th>\n",
       "      <th>count</th>\n",
       "      <th>mean</th>\n",
       "      <th>std</th>\n",
       "      <th>min</th>\n",
       "      <th>25%</th>\n",
       "      <th>50%</th>\n",
       "      <th>75%</th>\n",
       "      <th>max</th>\n",
       "    </tr>\n",
       "  </thead>\n",
       "  <tbody>\n",
       "    <tr>\n",
       "      <th>mosquito_Indicator</th>\n",
       "      <td>1322.0</td>\n",
       "      <td>251.032224</td>\n",
       "      <td>295.898803</td>\n",
       "      <td>0.0</td>\n",
       "      <td>5.500</td>\n",
       "      <td>90.5</td>\n",
       "      <td>478.825</td>\n",
       "      <td>1000.0</td>\n",
       "    </tr>\n",
       "    <tr>\n",
       "      <th>rain(mm)</th>\n",
       "      <td>1322.0</td>\n",
       "      <td>3.563691</td>\n",
       "      <td>13.947215</td>\n",
       "      <td>0.0</td>\n",
       "      <td>0.000</td>\n",
       "      <td>0.0</td>\n",
       "      <td>0.400</td>\n",
       "      <td>144.5</td>\n",
       "    </tr>\n",
       "    <tr>\n",
       "      <th>mean_T(℃)</th>\n",
       "      <td>1322.0</td>\n",
       "      <td>14.138805</td>\n",
       "      <td>10.959202</td>\n",
       "      <td>-14.8</td>\n",
       "      <td>4.500</td>\n",
       "      <td>16.5</td>\n",
       "      <td>23.300</td>\n",
       "      <td>33.7</td>\n",
       "    </tr>\n",
       "    <tr>\n",
       "      <th>min_T(℃)</th>\n",
       "      <td>1322.0</td>\n",
       "      <td>9.988275</td>\n",
       "      <td>11.139700</td>\n",
       "      <td>-17.8</td>\n",
       "      <td>0.300</td>\n",
       "      <td>11.4</td>\n",
       "      <td>19.500</td>\n",
       "      <td>30.3</td>\n",
       "    </tr>\n",
       "    <tr>\n",
       "      <th>max_T(℃)</th>\n",
       "      <td>1322.0</td>\n",
       "      <td>19.060514</td>\n",
       "      <td>11.061162</td>\n",
       "      <td>-10.7</td>\n",
       "      <td>9.225</td>\n",
       "      <td>21.9</td>\n",
       "      <td>28.075</td>\n",
       "      <td>39.6</td>\n",
       "    </tr>\n",
       "  </tbody>\n",
       "</table>\n",
       "</div>"
      ],
      "text/plain": [
       "                     count        mean         std   min    25%   50%  \\\n",
       "mosquito_Indicator  1322.0  251.032224  295.898803   0.0  5.500  90.5   \n",
       "rain(mm)            1322.0    3.563691   13.947215   0.0  0.000   0.0   \n",
       "mean_T(℃)           1322.0   14.138805   10.959202 -14.8  4.500  16.5   \n",
       "min_T(℃)            1322.0    9.988275   11.139700 -17.8  0.300  11.4   \n",
       "max_T(℃)            1322.0   19.060514   11.061162 -10.7  9.225  21.9   \n",
       "\n",
       "                        75%     max  \n",
       "mosquito_Indicator  478.825  1000.0  \n",
       "rain(mm)              0.400   144.5  \n",
       "mean_T(℃)            23.300    33.7  \n",
       "min_T(℃)             19.500    30.3  \n",
       "max_T(℃)             28.075    39.6  "
      ]
     },
     "execution_count": 8,
     "metadata": {},
     "output_type": "execute_result"
    }
   ],
   "source": [
    "mosquito_data.describe().T #General statistics about the data set"
   ]
  },
  {
   "cell_type": "code",
   "execution_count": 9,
   "id": "ae1ec489",
   "metadata": {},
   "outputs": [
    {
     "data": {
      "text/plain": [
       "<AxesSubplot:>"
      ]
     },
     "execution_count": 9,
     "metadata": {},
     "output_type": "execute_result"
    },
    {
     "data": {
      "image/png": "[encoded data removed]",
      "text/plain": [
       "<Figure size 576x432 with 2 Axes>"
      ]
     },
     "metadata": {
      "needs_background": "light"
     },
     "output_type": "display_data"
    }
   ],
   "source": [
    "#Plotting Correlation map to identify attributes' relationships\n",
    "corr=mosquito_data.corr()\n",
    "\n",
    "plt.figure(figsize=(8,6))\n",
    "sns.heatmap(corr,annot=True,cmap=\"GnBu\")"
   ]
  },
  {
   "cell_type": "markdown",
   "id": "4ddcc5d4",
   "metadata": {},
   "source": [
    "**As expected. There is high multicollinearity between mean_T(℃) and [max_T(℃),min_T(℃)]**"
   ]
  },
  {
   "cell_type": "code",
   "execution_count": 10,
   "id": "2b580b80",
   "metadata": {},
   "outputs": [],
   "source": [
    "mosquito_data.drop('mean_T(℃)', axis = 1, inplace = True) # removing it to avoid multicollinearity"
   ]
  },
  {
   "cell_type": "code",
   "execution_count": 11,
   "id": "f52f0d1f",
   "metadata": {},
   "outputs": [
    {
     "data": {
      "text/plain": [
       "<seaborn.axisgrid.PairGrid at 0x7fdc256172b0>"
      ]
     },
     "execution_count": 11,
     "metadata": {},
     "output_type": "execute_result"
    },
    {
     "data": {
      "image/png": "[encoded data removed]",
      "text/plain": [
       "<Figure size 720x720 with 20 Axes>"
      ]
     },
     "metadata": {
      "needs_background": "light"
     },
     "output_type": "display_data"
    }
   ],
   "source": [
    "#Overview over data\n",
    "sns.pairplot(mosquito_data)"
   ]
  },
  {
   "cell_type": "code",
   "execution_count": 12,
   "id": "e8548cb5",
   "metadata": {
    "scrolled": true
   },
   "outputs": [
    {
     "data": {
      "text/html": [
       "<div>\n",
       "<style scoped>\n",
       "    .dataframe tbody tr th:only-of-type {\n",
       "        vertical-align: middle;\n",
       "    }\n",
       "\n",
       "    .dataframe tbody tr th {\n",
       "        vertical-align: top;\n",
       "    }\n",
       "\n",
       "    .dataframe thead th {\n",
       "        text-align: right;\n",
       "    }\n",
       "</style>\n",
       "<table border=\"1\" class=\"dataframe\">\n",
       "  <thead>\n",
       "    <tr style=\"text-align: right;\">\n",
       "      <th></th>\n",
       "      <th>Skew</th>\n",
       "    </tr>\n",
       "  </thead>\n",
       "  <tbody>\n",
       "    <tr>\n",
       "      <th>rain(mm)</th>\n",
       "      <td>6.610684</td>\n",
       "    </tr>\n",
       "    <tr>\n",
       "      <th>min_T(℃)</th>\n",
       "      <td>-0.261844</td>\n",
       "    </tr>\n",
       "    <tr>\n",
       "      <th>max_T(℃)</th>\n",
       "      <td>-0.417867</td>\n",
       "    </tr>\n",
       "  </tbody>\n",
       "</table>\n",
       "</div>"
      ],
      "text/plain": [
       "              Skew\n",
       "rain(mm)  6.610684\n",
       "min_T(℃) -0.261844\n",
       "max_T(℃) -0.417867"
      ]
     },
     "execution_count": 12,
     "metadata": {},
     "output_type": "execute_result"
    }
   ],
   "source": [
    "# Checking for skewness\n",
    "skew_vals = mosquito_data.iloc[:,1:4].skew()\n",
    "\n",
    "skew_cols =  (skew_vals\n",
    "             .sort_values(ascending=False)\n",
    "             .to_frame()\n",
    "             .rename(columns={0:'Skew'}))\n",
    "\n",
    "skew_cols"
   ]
  },
  {
   "cell_type": "markdown",
   "id": "400ee1ca",
   "metadata": {},
   "source": [
    "**Only rain(mm) skewness is alarming. We will use Polynomial transofrmation to mitigate the skewness effect**"
   ]
  },
  {
   "cell_type": "code",
   "execution_count": 13,
   "id": "805ab62e",
   "metadata": {},
   "outputs": [
    {
     "data": {
      "image/png": "[encoded data removed]",
      "text/plain": [
       "<Figure size 720x432 with 3 Axes>"
      ]
     },
     "metadata": {
      "needs_background": "light"
     },
     "output_type": "display_data"
    }
   ],
   "source": [
    "# Checking data skewness visually\n",
    "plt.figure(figsize=(10,6))\n",
    "plt.subplot(3,1,1)\n",
    "plt.hist(mosquito_data['max_T(℃)'])\n",
    "plt.title('max_T(℃)')\n",
    "plt.subplot(3,1,2)\n",
    "plt.hist(mosquito_data['min_T(℃)'])\n",
    "plt.title('min_T(℃)')\n",
    "plt.subplot(3,1,3)\n",
    "plt.hist(mosquito_data['rain(mm)'])\n",
    "plt.title('rain(mm)')\n",
    "plt.show()"
   ]
  },
  {
   "cell_type": "markdown",
   "id": "bb65f58f",
   "metadata": {},
   "source": [
    "## MACHINE LEARNING PART"
   ]
  },
  {
   "cell_type": "code",
   "execution_count": 14,
   "id": "57e39735",
   "metadata": {},
   "outputs": [],
   "source": [
    "# Import the necessary libraries for ML\n",
    "\n",
    "from sklearn.model_selection import train_test_split # for splitting the data \n",
    "from sklearn.preprocessing import PolynomialFeatures, StandardScaler # For feature transformation\n",
    "from sklearn.model_selection import KFold # to find the best parameters\n",
    "from sklearn.linear_model import LinearRegression, Lasso, Ridge # for regression\n",
    "from sklearn.ensemble import GradientBoostingRegressor # for regression\n",
    "from sklearn.metrics import r2_score, mean_squared_error # for evaluation\n",
    "from sklearn.pipeline import Pipeline # for ML automation\n",
    "from sklearn.model_selection import GridSearchCV # to find the best parameters\n",
    "\n",
    "# Mute the sklearn warning about regularization\n",
    "import warnings\n",
    "warnings.filterwarnings('ignore', module='sklearn')"
   ]
  },
  {
   "cell_type": "markdown",
   "id": "63da0ffe",
   "metadata": {},
   "source": [
    "### First: ML using train/test split and without hyperparameters tuning."
   ]
  },
  {
   "cell_type": "code",
   "execution_count": 15,
   "id": "a5581a2a",
   "metadata": {},
   "outputs": [],
   "source": [
    "# Define a root mean sequare error function\n",
    "def rmse(ytrue, ypredicted):\n",
    "    return np.sqrt(mean_squared_error(ytrue, ypredicted))"
   ]
  },
  {
   "cell_type": "code",
   "execution_count": 16,
   "id": "180bbae7",
   "metadata": {},
   "outputs": [],
   "source": [
    "# Create X & y\n",
    "X = mosquito_data.drop('mosquito_Indicator', axis = 1) # prediction attributes\n",
    "y = mosquito_data['mosquito_Indicator'] # Targer variable"
   ]
  },
  {
   "cell_type": "code",
   "execution_count": 17,
   "id": "d34465cf",
   "metadata": {},
   "outputs": [],
   "source": [
    "pf = PolynomialFeatures(degree=3, include_bias=False) #Create a polynomial features instance with degree '3'\n",
    "X_pf = pf.fit_transform(X) #Apply the transformation (we fit the x data frame into the pf instance)"
   ]
  },
  {
   "cell_type": "code",
   "execution_count": 18,
   "id": "a0f16266",
   "metadata": {},
   "outputs": [],
   "source": [
    "X_train, X_test, y_train, y_test = train_test_split(X_pf, y, test_size=0.3, random_state=7218)"
   ]
  },
  {
   "cell_type": "code",
   "execution_count": 19,
   "id": "ac4cdf81",
   "metadata": {
    "scrolled": true
   },
   "outputs": [],
   "source": [
    "s = StandardScaler() #Creating a standardscaler instance\n",
    "X_train_s = s.fit_transform(X_train)\n",
    "X_test_s = s.transform(X_test) # We apply standardscalar transformation also on the testing set, in order to let X_train and X_test have the same transformation"
   ]
  },
  {
   "cell_type": "code",
   "execution_count": 20,
   "id": "e2979dc8",
   "metadata": {},
   "outputs": [],
   "source": [
    "## Linear Regression\n",
    "lr1 = LinearRegression()"
   ]
  },
  {
   "cell_type": "code",
   "execution_count": 21,
   "id": "64f16215",
   "metadata": {},
   "outputs": [
    {
     "name": "stdout",
     "output_type": "stream",
     "text": [
      "r2 value is 0.5931780749960296\n",
      "rmse value is 189.4817793631367\n"
     ]
    }
   ],
   "source": [
    "lr1.fit(X_train_s, y_train) #We are fitting the standardscalar X_train data and the y_train\n",
    "lr1_pred = lr1.predict(X_test_s)\n",
    "print('r2 value is', r2_score(y_test,lr1_pred))\n",
    "print('rmse value is', rmse(y_test,lr1_pred))"
   ]
  },
  {
   "cell_type": "code",
   "execution_count": 22,
   "id": "ae79a54f",
   "metadata": {},
   "outputs": [],
   "source": [
    "## Lasso\n",
    "lasso1 = Lasso()"
   ]
  },
  {
   "cell_type": "code",
   "execution_count": 23,
   "id": "4dfcfe4f",
   "metadata": {
    "scrolled": true
   },
   "outputs": [
    {
     "name": "stdout",
     "output_type": "stream",
     "text": [
      "r2 value is 0.6269526279495339\n",
      "rmse value is 181.44594696447473\n"
     ]
    }
   ],
   "source": [
    "# The lasso regression model\n",
    "lasso1 = lasso1.fit(X_train_s, y_train)\n",
    "lasso1_pred = lasso1.predict(X_test_s)\n",
    "print('r2 value is', r2_score(y_test,lasso1_pred))\n",
    "print('rmse value is', rmse(y_test,lasso1_pred))"
   ]
  },
  {
   "cell_type": "code",
   "execution_count": 24,
   "id": "24dde3eb",
   "metadata": {},
   "outputs": [],
   "source": [
    "## Ridge\n",
    "rr1 = Ridge()"
   ]
  },
  {
   "cell_type": "code",
   "execution_count": 25,
   "id": "74bd31b3",
   "metadata": {},
   "outputs": [
    {
     "name": "stdout",
     "output_type": "stream",
     "text": [
      "r2 value is 0.631023739282156\n",
      "rmse value is 180.45316009183475\n"
     ]
    }
   ],
   "source": [
    "# The ridge regression model\n",
    "rr1 = rr1.fit(X_train_s, y_train)\n",
    "rr1_pred = rr1.predict(X_test_s)\n",
    "print('r2 value is', r2_score(y_test,rr1_pred))\n",
    "print('rmse value is', rmse(y_test,rr1_pred))"
   ]
  },
  {
   "cell_type": "code",
   "execution_count": 26,
   "id": "fa265693",
   "metadata": {},
   "outputs": [],
   "source": [
    "## GBR\n",
    "GBR = GradientBoostingRegressor(random_state=7218)"
   ]
  },
  {
   "cell_type": "code",
   "execution_count": 27,
   "id": "8a04008f",
   "metadata": {},
   "outputs": [
    {
     "name": "stdout",
     "output_type": "stream",
     "text": [
      "r2 value is 0.6339314554076572\n",
      "rmse value is 179.74072348021545\n"
     ]
    }
   ],
   "source": [
    "# The GBR model\n",
    "GBR.fit(X_train_s, y_train)\n",
    "GBR_pred = GBR.predict(X_test_s)\n",
    "print('r2 value is', r2_score(y_test,GBR_pred))\n",
    "print('rmse value is', rmse(y_test,GBR_pred))"
   ]
  },
  {
   "cell_type": "markdown",
   "id": "55b4c0f5",
   "metadata": {},
   "source": [
    "### Secondly, using GridSearch CV"
   ]
  },
  {
   "cell_type": "markdown",
   "id": "5ac1f31b",
   "metadata": {},
   "source": [
    "**We are using GridSearch Cross Validation to find the most suitable parameters.**"
   ]
  },
  {
   "cell_type": "markdown",
   "id": "39a43078",
   "metadata": {},
   "source": [
    "We are also using pipelines, according to IBM, **\"A pipeline contains a series of steps, where a step is (\"name of step\", actual_model). The \"name of step\" string is only used to help you identify which step you are on, and to allow you to specify parameters at that step.\"**"
   ]
  },
  {
   "cell_type": "code",
   "execution_count": 28,
   "id": "f3ac1642",
   "metadata": {},
   "outputs": [],
   "source": [
    "# initiate kf object >> 6 splits = 6 folds \n",
    "kf = KFold(shuffle=True, random_state=7218, n_splits=6)"
   ]
  },
  {
   "cell_type": "code",
   "execution_count": 29,
   "id": "9e6b6d17",
   "metadata": {},
   "outputs": [
    {
     "name": "stdout",
     "output_type": "stream",
     "text": [
      "0.6167488712836326 {'polynomial_features__degree': 3}\n"
     ]
    }
   ],
   "source": [
    "#Regular Linear Regression\n",
    "estimator = Pipeline([\n",
    "        (\"polynomial_features\", PolynomialFeatures()),\n",
    "        (\"scaler\", StandardScaler()),\n",
    "        (\"linear_regression\", LinearRegression())])\n",
    "\n",
    "params = {\n",
    "    'polynomial_features__degree': [1, 2, 3], # Two under scores (__) are used to specify the hyperparameters\n",
    "}\n",
    "\n",
    "grid = GridSearchCV(estimator, params, cv=kf)\n",
    "grid.fit(X, y)\n",
    "print(grid.best_score_, grid.best_params_)"
   ]
  },
  {
   "cell_type": "code",
   "execution_count": 30,
   "id": "694eca94",
   "metadata": {},
   "outputs": [
    {
     "name": "stdout",
     "output_type": "stream",
     "text": [
      "In-sample and out-sample combined score is 0.642504265518383\n"
     ]
    }
   ],
   "source": [
    "best_LR_estimator = Pipeline([\n",
    "            (\"polynomial_features\", PolynomialFeatures(3)),\n",
    "            (\"scaler\", StandardScaler()),\n",
    "            (\"linear_regression\", LinearRegression())])\n",
    "\n",
    "best_LR_estimator.fit(X, y)\n",
    "print('In-sample and out-sample combined score is', best_LR_estimator.score(X, y))"
   ]
  },
  {
   "cell_type": "code",
   "execution_count": 31,
   "id": "215dd87f",
   "metadata": {},
   "outputs": [
    {
     "name": "stdout",
     "output_type": "stream",
     "text": [
      "0.6291164357029215 {'lasso_regression__alpha': 0.3018367159658668, 'polynomial_features__degree': 3}\n"
     ]
    }
   ],
   "source": [
    "# Lasso\n",
    "estimator = Pipeline([\n",
    "        (\"polynomial_features\", PolynomialFeatures()),\n",
    "        (\"scaler\", StandardScaler()),\n",
    "        (\"lasso_regression\", Lasso())])\n",
    "\n",
    "params = {\n",
    "    'polynomial_features__degree': [1, 2, 3], # Two under scores (__) are used to specify the hyperparameters\n",
    "    'lasso_regression__alpha': np.geomspace(0.01, 20, 30) #30 values here, 3 in the polynomial, implies 90 different output\n",
    "}\n",
    "\n",
    "grid = GridSearchCV(estimator, params, cv=kf)\n",
    "grid.fit(X, y)\n",
    "print(grid.best_score_, grid.best_params_)"
   ]
  },
  {
   "cell_type": "code",
   "execution_count": 32,
   "id": "b86777c7",
   "metadata": {},
   "outputs": [
    {
     "name": "stdout",
     "output_type": "stream",
     "text": [
      "In-sample and out-sample combined score is 0.639293812752828\n"
     ]
    }
   ],
   "source": [
    "best_lasso_estimator = Pipeline([\n",
    "                    (\"scaler\", StandardScaler()),\n",
    "                    (\"make_higher_degree\", PolynomialFeatures(degree=3)),\n",
    "                    (\"lasso_regression\", Lasso(alpha=0.3))])\n",
    "\n",
    "best_lasso_estimator.fit(X, y)\n",
    "print('In-sample and out-sample combined score is', best_lasso_estimator.score(X, y))"
   ]
  },
  {
   "cell_type": "code",
   "execution_count": 33,
   "id": "31933e98",
   "metadata": {},
   "outputs": [
    {
     "data": {
      "text/plain": [
       "(0.6289107675018193,\n",
       " {'polynomial_features__degree': 3,\n",
       "  'ridge_regression__alpha': 0.895674774455836})"
      ]
     },
     "execution_count": 33,
     "metadata": {},
     "output_type": "execute_result"
    }
   ],
   "source": [
    "# Ridge \n",
    "estimator = Pipeline([\n",
    "        (\"polynomial_features\", PolynomialFeatures()),\n",
    "        (\"scaler\", StandardScaler()),\n",
    "        (\"ridge_regression\", Ridge())])\n",
    "\n",
    "params = {\n",
    "    'polynomial_features__degree': [1, 2, 3], # Two under scores (__) are used to specify the hyperparameters\n",
    "    'ridge_regression__alpha': np.geomspace(0.1, 20, 30) #30 values here, 3 in the polynomial, implies 90 different output\n",
    "}\n",
    "\n",
    "\n",
    "grid = GridSearchCV(estimator, params, cv=kf)\n",
    "grid.fit(X, y)\n",
    "grid.best_score_, grid.best_params_\n"
   ]
  },
  {
   "cell_type": "code",
   "execution_count": 34,
   "id": "6b55b7ae",
   "metadata": {},
   "outputs": [
    {
     "name": "stdout",
     "output_type": "stream",
     "text": [
      "In-sample and out-sample combined score is 0.6386584433208746\n"
     ]
    }
   ],
   "source": [
    "#Create a pipeline named estimator\n",
    "best_ridge_estimator = Pipeline([\n",
    "        (\"polynomial_features\", PolynomialFeatures(3)),\n",
    "        (\"scaler\", StandardScaler()),\n",
    "        (\"ridge_regression\", Ridge(0.9))])\n",
    "\n",
    "best_ridge_estimator.fit(X, y)\n",
    "print('In-sample and out-sample combined score is', best_ridge_estimator.score(X, y))"
   ]
  },
  {
   "cell_type": "markdown",
   "id": "6600f81f",
   "metadata": {},
   "source": [
    "### Lastly, Cross Validation"
   ]
  },
  {
   "cell_type": "code",
   "execution_count": 35,
   "id": "34c1b3d7",
   "metadata": {},
   "outputs": [
    {
     "name": "stdout",
     "output_type": "stream",
     "text": [
      "189.4817793631035\n",
      "0.593178074996172\n"
     ]
    }
   ],
   "source": [
    "# Regular Linear Regression \n",
    "linearRegression = LinearRegression().fit(X_train, y_train)\n",
    "linearRegression_rmse = rmse(y_test, linearRegression.predict(X_test))\n",
    "linearRegression_R2 = r2_score(y_test, linearRegression.predict(X_test)) \n",
    "print(linearRegression_rmse)\n",
    "print(linearRegression_R2)"
   ]
  },
  {
   "cell_type": "code",
   "execution_count": 36,
   "id": "a272d583",
   "metadata": {},
   "outputs": [
    {
     "name": "stdout",
     "output_type": "stream",
     "text": [
      "Lasso best alpha is  4.150097237467682\n",
      "Lasso rmse is  180.39235315159053\n",
      "Lasso R2 is  0.6312723637702515\n"
     ]
    }
   ],
   "source": [
    "from sklearn.linear_model import LassoCV\n",
    "\n",
    "alphas = np.geomspace(0.01, 20, 30)\n",
    "lassoCV = LassoCV(alphas=alphas,\n",
    "                  max_iter=100000,\n",
    "                  cv=3).fit(X_train, y_train)\n",
    "\n",
    "lassoCV_rmse = rmse(y_test, lassoCV.predict(X_test))\n",
    "lassoCV_R2 = r2_score(y_test, lassoCV.predict(X_test)) \n",
    "\n",
    "print('Lasso best alpha is ', lassoCV.alpha_)\n",
    "print('Lasso rmse is ', lassoCV_rmse)  \n",
    "print('Lasso R2 is ', lassoCV_R2)"
   ]
  },
  {
   "cell_type": "code",
   "execution_count": 37,
   "id": "edd6d13d",
   "metadata": {},
   "outputs": [
    {
     "name": "stdout",
     "output_type": "stream",
     "text": [
      "Ridge best alpha is  181.58364372009143\n",
      "Ridge rmse is  180.43950650162046\n",
      "Ridge R2 is  0.6310795727191671\n"
     ]
    }
   ],
   "source": [
    "from sklearn.linear_model import RidgeCV\n",
    "\n",
    "alphas = np.geomspace(0.001, 400, 50)\n",
    "ridgeCV = RidgeCV(alphas=alphas, cv=3).fit(X_train, y_train)\n",
    "\n",
    "ridgeCV_rmse = rmse(y_test, ridgeCV.predict(X_test))\n",
    "ridgeCV_R2 = r2_score(y_test, ridgeCV.predict(X_test)) \n",
    "\n",
    "print('Ridge best alpha is ', ridgeCV.alpha_)\n",
    "print('Ridge rmse is ', ridgeCV_rmse)  \n",
    "print('Ridge R2 is ', ridgeCV_R2)"
   ]
  },
  {
   "cell_type": "code",
   "execution_count": 38,
   "id": "2a8df2cf",
   "metadata": {},
   "outputs": [
    {
     "name": "stdout",
     "output_type": "stream",
     "text": [
      "ElasticNet alpha is  2.0\n",
      "ElasticNet l1 ratio is  0.9\n",
      "ElasticNet rmse is  180.72260208951894\n",
      "ElasticNet R2 is  0.6299210495530996\n"
     ]
    }
   ],
   "source": [
    "from sklearn.linear_model import ElasticNetCV\n",
    "alphas = np.geomspace(0.01, 2, 100)\n",
    "l1_ratios = np.linspace(0.1, 0.9, 10)\n",
    "\n",
    "elasticNetCV = ElasticNetCV(alphas=alphas, \n",
    "                            l1_ratio=l1_ratios,\n",
    "                            cv = 3,\n",
    "                            max_iter=10000).fit(X_train, y_train)\n",
    "\n",
    "elasticNetCV_rmse = rmse(y_test, elasticNetCV.predict(X_test))\n",
    "elasticNetCV_R2 = r2_score(y_test, elasticNetCV.predict(X_test)) \n",
    "\n",
    "print('ElasticNet alpha is ',elasticNetCV.alpha_)\n",
    "print('ElasticNet l1 ratio is ', elasticNetCV.l1_ratio_)\n",
    "print('ElasticNet rmse is ', elasticNetCV_rmse)\n",
    "print('ElasticNet R2 is ', elasticNetCV_R2)"
   ]
  },
  {
   "cell_type": "code",
   "execution_count": 39,
   "id": "e6d87a2d",
   "metadata": {
    "scrolled": true
   },
   "outputs": [
    {
     "data": {
      "text/html": [
       "<div>\n",
       "<style scoped>\n",
       "    .dataframe tbody tr th:only-of-type {\n",
       "        vertical-align: middle;\n",
       "    }\n",
       "\n",
       "    .dataframe tbody tr th {\n",
       "        vertical-align: top;\n",
       "    }\n",
       "\n",
       "    .dataframe thead th {\n",
       "        text-align: right;\n",
       "    }\n",
       "</style>\n",
       "<table border=\"1\" class=\"dataframe\">\n",
       "  <thead>\n",
       "    <tr style=\"text-align: right;\">\n",
       "      <th></th>\n",
       "      <th>RMSE</th>\n",
       "      <th>R2</th>\n",
       "    </tr>\n",
       "  </thead>\n",
       "  <tbody>\n",
       "    <tr>\n",
       "      <th>Linear Regression</th>\n",
       "      <td>189.481779</td>\n",
       "      <td>0.593178</td>\n",
       "    </tr>\n",
       "    <tr>\n",
       "      <th>Lasso</th>\n",
       "      <td>180.392353</td>\n",
       "      <td>0.631272</td>\n",
       "    </tr>\n",
       "    <tr>\n",
       "      <th>Ridge</th>\n",
       "      <td>180.439507</td>\n",
       "      <td>0.631080</td>\n",
       "    </tr>\n",
       "    <tr>\n",
       "      <th>ElasticNet</th>\n",
       "      <td>180.722602</td>\n",
       "      <td>0.629921</td>\n",
       "    </tr>\n",
       "  </tbody>\n",
       "</table>\n",
       "</div>"
      ],
      "text/plain": [
       "                         RMSE        R2\n",
       "Linear Regression  189.481779  0.593178\n",
       "Lasso              180.392353  0.631272\n",
       "Ridge              180.439507  0.631080\n",
       "ElasticNet         180.722602  0.629921"
      ]
     },
     "execution_count": 39,
     "metadata": {},
     "output_type": "execute_result"
    }
   ],
   "source": [
    "rmse_vals = [linearRegression_rmse, lassoCV_rmse, ridgeCV_rmse, elasticNetCV_rmse]\n",
    "R2_vals = [linearRegression_R2, lassoCV_R2, ridgeCV_R2, elasticNetCV_R2] \n",
    "\n",
    "labels = ['Linear Regression', 'Lasso', 'Ridge', 'ElasticNet']\n",
    "metric_df = pd.Series(rmse_vals, index=labels).to_frame()\n",
    "metric_df.rename(columns={0: 'RMSE'}, inplace=1)\n",
    "metric_df['R2'] = R2_vals\n",
    "metric_df"
   ]
  },
  {
   "cell_type": "markdown",
   "id": "d720d290",
   "metadata": {},
   "source": [
    "## Recommended lgorithm:\n",
    "**Since Lasso and Ridge regressions have the highest R^2 values, we recommend to use Ridge regression in the final prediction model. Because Ridge has less time complexity compared with Lasso, thus, it would be faster to use. However, The 3  attributes i.e., [Max_T, Min_T, rain(mm)], are not sufficient to gain +0.7 scores in R^2. Hence, additional data is required to obtain more accurate results.**"
   ]
  },
  {
   "cell_type": "markdown",
   "id": "9e51a689",
   "metadata": {},
   "source": [
    "## Insights from the model"
   ]
  },
  {
   "cell_type": "markdown",
   "id": "22d0332c",
   "metadata": {},
   "source": [
    "**1- Although wheather attributes are used to predict mosquitoes infestation. they are still insufficient to make acurate prediction.** <br>\n",
    "**2 - Mosquitoes are more active in warmer temperatures wheathers.** <br>\n",
    "**3 - There is no direct correlation between rain precipitation and mosquitoes infestation.**"
   ]
  },
  {
   "cell_type": "markdown",
   "id": "6d36c950",
   "metadata": {},
   "source": [
    "## Future work"
   ]
  },
  {
   "cell_type": "markdown",
   "id": "96b701db",
   "metadata": {},
   "source": [
    "**Knowing what environmental circumstances that allow mosquitoes to breed/live can help us in preventing dengue disease borne. It is highly recommended to further investigate/identify what are the other causes of mosquitoes infestation to accurately predict their volumes.** "
   ]
  }
 ],
 "metadata": {
  "kernelspec": {
   "display_name": "Python 3 (ipykernel)",
   "language": "python",
   "name": "python3"
  },
  "language_info": {
   "codemirror_mode": {
    "name": "ipython",
    "version": 3
   },
   "file_extension": ".py",
   "mimetype": "text/x-python",
   "name": "python",
   "nbconvert_exporter": "python",
   "pygments_lexer": "ipython3",
   "version": "3.9.7"
  }
 },
 "nbformat": 4,
 "nbformat_minor": 5
}
