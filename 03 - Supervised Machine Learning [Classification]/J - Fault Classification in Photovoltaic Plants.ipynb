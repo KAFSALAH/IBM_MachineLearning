{
 "cells": [
  {
   "cell_type": "markdown",
   "id": "574c0c92",
   "metadata": {},
   "source": [
    "# IBM MACHINE LEARNING - PROJECT C "
   ]
  },
  {
   "cell_type": "markdown",
   "id": "ad7135a6",
   "metadata": {},
   "source": [
    "## Fault Classification in Photovoltaic Plants"
   ]
  },
  {
   "cell_type": "markdown",
   "id": "aecbb726",
   "metadata": {},
   "source": [
    "### 1 - General Information About the Dataset\n",
    "\n",
    "**This dataset is published by Lazzaretti, A. E. et al.  (2020) in a paper named \"A Monitoring System for Online Fault Detection and Classification in Photovoltaic Plants\" in Sensors journal [1]. The authors collected the data of grid-tie PV panels in a solar plant for 16 consecutive days. The used PV plant has 2 string with 8x C6SU-330P PV Modules each. Both of the strings are attached to a 5kW grid-tie power inverter (NHS Solar 5K-GDM1). The labels in this dataset are used to demonstrate the operation status of the PV, i.e., normal or faulty, and they are as follows,**<br>\n",
    "\n",
    "\n",
    "\n",
    "| Label | Meaning | Description |\n",
    "| --- | --- | --- |\n",
    "| 0 | Normal Operation | No faults |\n",
    "| 1 | Short-Circuit | Short Circuit between 2 modules of a String |\n",
    "| 2 | Degradation | There is a resistance between 2 modules of a String |\n",
    "| 3 | Open Circuit | One String disconnected from the power inverter |\n",
    "| 4 | Shadowing | Shadow in one or more modules |\n",
    "\n",
    "\n",
    "**Furthermore, the independent features descriptions are as follows,** <br>\n",
    "\n",
    "| Label | Meaning | Description |\n",
    "| --- | --- | --- |\n",
    "| Vdc1 | String 1 voltage | Direct volt |\n",
    "| Vdc2 | String 2 voltage | Direct volt|\n",
    "| Idc1 | String 1 current | Direct current |\n",
    "| Idc2 | String 2 current | Direct current |\n",
    "| irradiance | Sun Irradiance | Watt/square m |\n",
    "|pvtemp|PV Temperature| Measured in celsius |\n",
    "\n",
    "**Data link on GitHub https://github.com/clayton-h-costa/pv_fault_dataset**<br>\n",
    "**The original dataset dimensions are [1,373,798 instances and 7 features], due to limit computational resources, I reduced dataset size by ~58% while also maintaining the ratio approximation. Moreover, the form of data is .mat, I converted it to a csv file in MATLAB using the following code.**"
   ]
  },
  {
   "cell_type": "markdown",
   "id": "617710c6",
   "metadata": {},
   "source": [
    "#### MATLAB CODE\n",
    "load('dataset_elec.mat')\n",
    "\n",
    "load('dataset_amb.mat')\n",
    "\n",
    "% most columns need to be transposed.\n",
    "\n",
    "Idc1 = idc1';\n",
    "\n",
    "Idc2 = idc2';\n",
    "\n",
    "irradiance = irr';\n",
    "\n",
    "pvtemp = pvt';\n",
    "\n",
    "Vdc1 = vdc1';\n",
    "\n",
    "Vdc2 = vdc2';\n",
    "\n",
    "myT = table(Idc1,Idc2,Vdc1,Vdc2,irradiance,pvtemp,f_nv); % Creating the table\n",
    "\n",
    "head(myT) \n",
    "\n",
    "writetable(myT,'PVdata.csv') % export to a csv file."
   ]
  },
  {
   "cell_type": "markdown",
   "id": "0aac583e",
   "metadata": {},
   "source": [
    "### 2 - Analysis Objectives\n",
    "**A - to find the impact of voltage, current, irradiance, and temperature on PV panels.**<br>\n",
    "**B - To reduce the imbalance between classes effect.**<br>\n",
    "**C - To use GridSearchCV to find the best parameters.**<br>\n",
    "**D - To benchmark Logisitc Regression vs Decision Trees vs Random Forest.**"
   ]
  },
  {
   "cell_type": "code",
   "execution_count": 1,
   "id": "9b57ebc9",
   "metadata": {},
   "outputs": [],
   "source": [
    "# Dataframe and plotting libraries\n",
    "import numpy as np # For linear algebra\n",
    "import pandas as pd # For data frame manipulation\n",
    "import seaborn as sns # For visualization I\n",
    "import matplotlib.pyplot as plt # For visualization II\n",
    "\n",
    "\n",
    "# Machine Learing libraries\n",
    "from sklearn.linear_model import LogisticRegression # Model 1\n",
    "from sklearn.tree import DecisionTreeClassifier # Model 2\n",
    "from sklearn.ensemble import RandomForestClassifier # Model 3\n",
    "\n",
    "\n",
    "from sklearn.model_selection import StratifiedShuffleSplit # To stratify split\n",
    "from sklearn.model_selection import StratifiedKFold # To stratify kfolds\n",
    "from sklearn.model_selection import GridSearchCV # To find best parameters \n",
    "from sklearn.metrics import accuracy_score, precision_recall_fscore_support # To evaluate models\n",
    "from sklearn.metrics import classification_report # To evaluate models\n",
    "from sklearn.metrics import confusion_matrix # To plot models outcome\n",
    "\n",
    "\n",
    "from sklearn.preprocessing import MinMaxScaler # To scale data\n",
    "from imblearn.under_sampling import RandomUnderSampler # To undersample data\n",
    "from imblearn.over_sampling import RandomOverSampler, SMOTE # To oversample and resample data\n",
    "\n",
    "\n",
    "# Utility library\n",
    "import pickle # Save the ML object model.\n",
    "import os # To access directory\n",
    "import warnings  # To mute warnings\n",
    "warnings.filterwarnings(\"ignore\") # Mute warning\n",
    "os.chdir('/Users/salahkaf/Desktop/data') # Changing working directory\n",
    "\n",
    "\n",
    "%matplotlib inline "
   ]
  },
  {
   "cell_type": "code",
   "execution_count": 2,
   "id": "acd19da0",
   "metadata": {},
   "outputs": [],
   "source": [
    "# Defining auxiliary function 1\n",
    "rs = 123 # Setting random state to '123' in all models and sampling.\n",
    "\n",
    "# Defining auxiliary function 2\n",
    "# evaluation metrics stored in a dictionary\n",
    "def evaluate_metrics(yt, yp):\n",
    "    results_pos = {}\n",
    "    results_pos['accuracy'] = accuracy_score(yt, yp)\n",
    "    \n",
    "    precision, recall, f_beta, _ = precision_recall_fscore_support(yt, yp)\n",
    "    W_precision, W_recall, W_fbeta, _ = precision_recall_fscore_support(yt, yp, average = 'weighted')\n",
    "    \n",
    "    results_pos['precision'] = precision\n",
    "    results_pos['Weighted precision'] = W_precision\n",
    "    results_pos['recall'] = recall\n",
    "    results_pos['Weighted recall'] = W_recall\n",
    "    results_pos['f1score'] = f_beta\n",
    "    results_pos['Weighted f1score'] = W_fbeta\n",
    "    return results_pos"
   ]
  },
  {
   "cell_type": "code",
   "execution_count": 3,
   "id": "2bf19c40",
   "metadata": {},
   "outputs": [],
   "source": [
    "df = pd.read_csv('PVdata.csv', sep  = ',')# Reading the df"
   ]
  },
  {
   "cell_type": "markdown",
   "id": "d8806299",
   "metadata": {},
   "source": [
    "#### Basic understanding about the dataset"
   ]
  },
  {
   "cell_type": "code",
   "execution_count": 4,
   "id": "f3c159cd",
   "metadata": {
    "scrolled": true
   },
   "outputs": [
    {
     "name": "stdout",
     "output_type": "stream",
     "text": [
      "The dataset first three rows are\n"
     ]
    },
    {
     "data": {
      "text/html": [
       "<div>\n",
       "<style scoped>\n",
       "    .dataframe tbody tr th:only-of-type {\n",
       "        vertical-align: middle;\n",
       "    }\n",
       "\n",
       "    .dataframe tbody tr th {\n",
       "        vertical-align: top;\n",
       "    }\n",
       "\n",
       "    .dataframe thead th {\n",
       "        text-align: right;\n",
       "    }\n",
       "</style>\n",
       "<table border=\"1\" class=\"dataframe\">\n",
       "  <thead>\n",
       "    <tr style=\"text-align: right;\">\n",
       "      <th></th>\n",
       "      <th>Idc1</th>\n",
       "      <th>Idc2</th>\n",
       "      <th>Vdc1</th>\n",
       "      <th>Vdc2</th>\n",
       "      <th>irradiance</th>\n",
       "      <th>pvtemp</th>\n",
       "      <th>f_nv</th>\n",
       "    </tr>\n",
       "  </thead>\n",
       "  <tbody>\n",
       "    <tr>\n",
       "      <th>0</th>\n",
       "      <td>0.0646</td>\n",
       "      <td>0.0067</td>\n",
       "      <td>0.7110</td>\n",
       "      <td>0.5583</td>\n",
       "      <td>1.5118</td>\n",
       "      <td>2.3883</td>\n",
       "      <td>0</td>\n",
       "    </tr>\n",
       "    <tr>\n",
       "      <th>1</th>\n",
       "      <td>0.0628</td>\n",
       "      <td>0.0067</td>\n",
       "      <td>0.6991</td>\n",
       "      <td>0.5465</td>\n",
       "      <td>1.5534</td>\n",
       "      <td>2.3920</td>\n",
       "      <td>0</td>\n",
       "    </tr>\n",
       "    <tr>\n",
       "      <th>2</th>\n",
       "      <td>0.0606</td>\n",
       "      <td>0.0076</td>\n",
       "      <td>0.7035</td>\n",
       "      <td>0.5553</td>\n",
       "      <td>1.4355</td>\n",
       "      <td>2.3920</td>\n",
       "      <td>0</td>\n",
       "    </tr>\n",
       "  </tbody>\n",
       "</table>\n",
       "</div>"
      ],
      "text/plain": [
       "     Idc1    Idc2    Vdc1    Vdc2  irradiance  pvtemp  f_nv\n",
       "0  0.0646  0.0067  0.7110  0.5583      1.5118  2.3883     0\n",
       "1  0.0628  0.0067  0.6991  0.5465      1.5534  2.3920     0\n",
       "2  0.0606  0.0076  0.7035  0.5553      1.4355  2.3920     0"
      ]
     },
     "metadata": {},
     "output_type": "display_data"
    },
    {
     "name": "stdout",
     "output_type": "stream",
     "text": [
      "\n",
      "The dataset last three rows are\n"
     ]
    },
    {
     "data": {
      "text/html": [
       "<div>\n",
       "<style scoped>\n",
       "    .dataframe tbody tr th:only-of-type {\n",
       "        vertical-align: middle;\n",
       "    }\n",
       "\n",
       "    .dataframe tbody tr th {\n",
       "        vertical-align: top;\n",
       "    }\n",
       "\n",
       "    .dataframe thead th {\n",
       "        text-align: right;\n",
       "    }\n",
       "</style>\n",
       "<table border=\"1\" class=\"dataframe\">\n",
       "  <thead>\n",
       "    <tr style=\"text-align: right;\">\n",
       "      <th></th>\n",
       "      <th>Idc1</th>\n",
       "      <th>Idc2</th>\n",
       "      <th>Vdc1</th>\n",
       "      <th>Vdc2</th>\n",
       "      <th>irradiance</th>\n",
       "      <th>pvtemp</th>\n",
       "      <th>f_nv</th>\n",
       "    </tr>\n",
       "  </thead>\n",
       "  <tbody>\n",
       "    <tr>\n",
       "      <th>583061</th>\n",
       "      <td>0.1067</td>\n",
       "      <td>0.0359</td>\n",
       "      <td>0.5447</td>\n",
       "      <td>0.6187</td>\n",
       "      <td>0.9478</td>\n",
       "      <td>10.4333</td>\n",
       "      <td>0</td>\n",
       "    </tr>\n",
       "    <tr>\n",
       "      <th>583062</th>\n",
       "      <td>0.1118</td>\n",
       "      <td>0.0360</td>\n",
       "      <td>0.5621</td>\n",
       "      <td>0.6327</td>\n",
       "      <td>0.9769</td>\n",
       "      <td>10.4333</td>\n",
       "      <td>0</td>\n",
       "    </tr>\n",
       "    <tr>\n",
       "      <th>583063</th>\n",
       "      <td>0.1121</td>\n",
       "      <td>0.0370</td>\n",
       "      <td>0.5352</td>\n",
       "      <td>0.6221</td>\n",
       "      <td>1.1632</td>\n",
       "      <td>10.4313</td>\n",
       "      <td>0</td>\n",
       "    </tr>\n",
       "  </tbody>\n",
       "</table>\n",
       "</div>"
      ],
      "text/plain": [
       "          Idc1    Idc2    Vdc1    Vdc2  irradiance   pvtemp  f_nv\n",
       "583061  0.1067  0.0359  0.5447  0.6187      0.9478  10.4333     0\n",
       "583062  0.1118  0.0360  0.5621  0.6327      0.9769  10.4333     0\n",
       "583063  0.1121  0.0370  0.5352  0.6221      1.1632  10.4313     0"
      ]
     },
     "metadata": {},
     "output_type": "display_data"
    }
   ],
   "source": [
    "print('The dataset first three rows are')\n",
    "display(df.head(3))\n",
    "print('')\n",
    "print('The dataset last three rows are')\n",
    "display(df.tail(3))"
   ]
  },
  {
   "cell_type": "code",
   "execution_count": 5,
   "id": "8f2b8059",
   "metadata": {},
   "outputs": [
    {
     "name": "stdout",
     "output_type": "stream",
     "text": [
      "The data frame encompasses 583064 instances and 7 features\n",
      "\n",
      "The features data types are as follows,\n",
      "float64    6\n",
      "int64      1\n",
      "dtype: int64\n"
     ]
    }
   ],
   "source": [
    "print(f'The data frame encompasses {df.shape[0]} instances and {df.shape[1]} features\\n')\n",
    "print('The features data types are as follows,')\n",
    "print(df.dtypes.value_counts())"
   ]
  },
  {
   "cell_type": "code",
   "execution_count": 6,
   "id": "281d5b62",
   "metadata": {},
   "outputs": [
    {
     "name": "stdout",
     "output_type": "stream",
     "text": [
      "Checking for missing values per column:\n",
      "Idc1          0\n",
      "Idc2          0\n",
      "Vdc1          0\n",
      "Vdc2          0\n",
      "irradiance    0\n",
      "pvtemp        0\n",
      "f_nv          0\n",
      "dtype: int64\n"
     ]
    }
   ],
   "source": [
    "print('Checking for missing values per column:')\n",
    "print(df.isna().sum())"
   ]
  },
  {
   "cell_type": "code",
   "execution_count": 7,
   "id": "53b2d9d9",
   "metadata": {},
   "outputs": [
    {
     "name": "stdout",
     "output_type": "stream",
     "text": [
      "The target feature is class, i.e., fault type, distributed in the dataset as follows,\n",
      "0    470714\n",
      "4     89956\n",
      "2     10371\n",
      "3      6024\n",
      "1      5999\n",
      "Name: f_nv, dtype: int64\n",
      "\n",
      "the ratios of classes are as follows\n",
      "0    0.807311\n",
      "4    0.154282\n",
      "2    0.017787\n",
      "3    0.010332\n",
      "1    0.010289\n",
      "Name: f_nv, dtype: float64\n"
     ]
    }
   ],
   "source": [
    "print('The target feature is class, i.e., fault type, distributed in the dataset as follows,')\n",
    "print(df['f_nv'].value_counts())\n",
    "print('')\n",
    "print('the ratios of classes are as follows')\n",
    "print(df['f_nv'].value_counts(normalize = True))"
   ]
  },
  {
   "cell_type": "code",
   "execution_count": 8,
   "id": "7154be0b",
   "metadata": {},
   "outputs": [
    {
     "data": {
      "image/png": "[encoded data removed]",
      "text/plain": [
       "<Figure size 1152x576 with 1 Axes>"
      ]
     },
     "metadata": {
      "needs_background": "light"
     },
     "output_type": "display_data"
    }
   ],
   "source": [
    "# Plotting the ratio between classes\n",
    "from matplotlib.pyplot import figure\n",
    "\n",
    "fig, ax = plt.subplots(figsize=(16, 8))\n",
    "df['f_nv'].value_counts().plot.bar(color= ['blue','purple','green','red','orange'])\n",
    "ax.set_ylabel('Frequency',fontsize=16)\n",
    "ax.set_xlabel('Type of Fault',fontsize=16)\n",
    "ax.set_title('Target Feature Distribution',fontsize=16)\n",
    "ax.locator_params('y', nbins=20)\n",
    "plt.show()"
   ]
  },
  {
   "cell_type": "markdown",
   "id": "8c894a04",
   "metadata": {},
   "source": [
    "#### We observe that classes are extremely skewed, because 80% of them are labeled as '0', i.e., normal operation. To solve this matter, we will fit a logistic regression model and make predictions using the original dataset, and compare the results with three rebalanced datasets (downsampled dataset, rewighted dataset, and resampled dataset). Then, the rebalancing technique that achieves the highest average scores will be used to fit and evaluate other classification algorithms.\n",
    "\n",
    "####  Moreover, rebalancing techniques will be applied only after doing validation-split to ensure that we mimic real world scenarios."
   ]
  },
  {
   "cell_type": "code",
   "execution_count": 9,
   "id": "866f1586",
   "metadata": {},
   "outputs": [
    {
     "data": {
      "text/plain": [
       "['Idc1', 'Idc2', 'Vdc1', 'Vdc2', 'irradiance', 'pvtemp']"
      ]
     },
     "execution_count": 9,
     "metadata": {},
     "output_type": "execute_result"
    }
   ],
   "source": [
    "# Identifying the feature columns\n",
    "feature_cols = df.drop('f_nv',axis = 1).columns.tolist()\n",
    "feature_cols"
   ]
  },
  {
   "cell_type": "code",
   "execution_count": 10,
   "id": "179e8603",
   "metadata": {},
   "outputs": [],
   "source": [
    "# Get the split indexes\n",
    "strat_shuf_split = StratifiedShuffleSplit(n_splits=1, \n",
    "                                          test_size=0.25, # 25% to validate our models\n",
    "                                          random_state=rs)\n",
    "\n",
    "# We use 'next' to get the arrays from the generator object.\n",
    "train_idx, test_idx = next(strat_shuf_split.split(df[feature_cols], df['f_nv']))\n",
    "# next(strat_shuf_split.split(dataframe[feature_cols], dataframe['class']))"
   ]
  },
  {
   "cell_type": "code",
   "execution_count": 11,
   "id": "90ee6676",
   "metadata": {},
   "outputs": [],
   "source": [
    "# Create the train and test sets\n",
    "X_train = df.loc[train_idx, feature_cols] # loc[index,column]\n",
    "y_train = df.loc[train_idx, 'f_nv']\n",
    "\n",
    "X_test  = df.loc[test_idx, feature_cols]\n",
    "y_test  = df.loc[test_idx, 'f_nv']"
   ]
  },
  {
   "cell_type": "code",
   "execution_count": 12,
   "id": "558e6020",
   "metadata": {},
   "outputs": [
    {
     "data": {
      "image/png": "[encoded data removed]",
      "text/plain": [
       "<Figure size 1152x576 with 1 Axes>"
      ]
     },
     "metadata": {
      "needs_background": "light"
     },
     "output_type": "display_data"
    }
   ],
   "source": [
    "# Plotting y_train distribution\n",
    "fig, ax = plt.subplots(figsize=(16, 8))\n",
    "y_train.value_counts().plot.bar(color= ['blue','purple','green','red','orange'])\n",
    "ax.set_xlabel('Type of Fault',fontsize=16)\n",
    "ax.set_ylabel('Frequency',fontsize=16)\n",
    "ax.set_title('y_train Classes Distribution',fontsize=16)\n",
    "ax.locator_params('y', nbins=20)\n",
    "plt.show()"
   ]
  },
  {
   "cell_type": "code",
   "execution_count": 13,
   "id": "1d3f9a15",
   "metadata": {},
   "outputs": [
    {
     "data": {
      "image/png": "[encoded data removed]",
      "text/plain": [
       "<Figure size 1152x576 with 1 Axes>"
      ]
     },
     "metadata": {
      "needs_background": "light"
     },
     "output_type": "display_data"
    }
   ],
   "source": [
    "# Plotting y_test distribution\n",
    "fig, ax = plt.subplots(figsize=(16, 8))\n",
    "y_test.value_counts().plot.bar(color= ['blue','purple','green','red','orange'])\n",
    "ax.set_xlabel('Type of Fault',fontsize=16)\n",
    "ax.set_ylabel('Frequency',fontsize=16)\n",
    "ax.set_title('y_test Classes Distribution',fontsize=16)\n",
    "ax.locator_params('y', nbins=20)\n",
    "plt.show()"
   ]
  },
  {
   "cell_type": "markdown",
   "id": "2f581e64",
   "metadata": {},
   "source": [
    "### A - First Approach (Reweighting classes)"
   ]
  },
  {
   "cell_type": "code",
   "execution_count": 14,
   "id": "c007a1d2",
   "metadata": {},
   "outputs": [
    {
     "data": {
      "text/plain": [
       "0    353036\n",
       "4     67467\n",
       "2      7778\n",
       "3      4518\n",
       "1      4499\n",
       "Name: f_nv, dtype: int64"
      ]
     },
     "execution_count": 14,
     "metadata": {},
     "output_type": "execute_result"
    }
   ],
   "source": [
    "y_train.value_counts()"
   ]
  },
  {
   "cell_type": "code",
   "execution_count": 15,
   "id": "82486335",
   "metadata": {},
   "outputs": [],
   "source": [
    "# Initially, let's scale data using min-max scaler. \n",
    "scaler = MinMaxScaler()\n",
    "X_train_s = scaler.fit_transform(X_train) # Fit and transform. \n",
    "X_test_s = scaler.transform(X_test) # transform only."
   ]
  },
  {
   "cell_type": "code",
   "execution_count": 16,
   "id": "f13b107f",
   "metadata": {},
   "outputs": [],
   "source": [
    "class_weight = {}\n",
    "# Weighting is approximated based on number of classes.\n",
    "class_weight[0] = 0.05\n",
    "class_weight[1] = 0.30\n",
    "class_weight[2] = 0.20\n",
    "class_weight[3] = 0.30\n",
    "class_weight[4] = 0.15"
   ]
  },
  {
   "cell_type": "code",
   "execution_count": 17,
   "id": "5d9cc4fb",
   "metadata": {},
   "outputs": [],
   "source": [
    "# Define a logistic regression with weight\n",
    "model = LogisticRegression(solver='saga', random_state=rs, class_weight=class_weight)\n",
    "model.fit(X_train_s, y_train)\n",
    "preds =  model.predict(X_test_s)"
   ]
  },
  {
   "cell_type": "code",
   "execution_count": 18,
   "id": "5195cdeb",
   "metadata": {
    "scrolled": true
   },
   "outputs": [
    {
     "data": {
      "text/plain": [
       "{'accuracy': 0.9039282137123883,\n",
       " 'precision': array([0.9611271 , 0.98031496, 0.49903148, 0.99209486, 0.71112904]),\n",
       " 'Weighted precision': 0.9148543006241275,\n",
       " 'recall': array([0.91942419, 0.996     , 0.79483224, 1.        , 0.82284673]),\n",
       " 'Weighted recall': 0.9039282137123883,\n",
       " 'f1score': array([0.93981325, 0.98809524, 0.61311914, 0.99603175, 0.76291975]),\n",
       " 'Weighted f1score': 0.9077880307113514}"
      ]
     },
     "execution_count": 18,
     "metadata": {},
     "output_type": "execute_result"
    }
   ],
   "source": [
    "# Results\n",
    "reweighted = evaluate_metrics(y_test,preds)\n",
    "reweighted"
   ]
  },
  {
   "cell_type": "code",
   "execution_count": 19,
   "id": "da4dfb1e",
   "metadata": {},
   "outputs": [
    {
     "data": {
      "text/plain": [
       "[0.9039282137123883,\n",
       " 0.9148543006241275,\n",
       " 0.9039282137123883,\n",
       " 0.9077880307113514]"
      ]
     },
     "execution_count": 19,
     "metadata": {},
     "output_type": "execute_result"
    }
   ],
   "source": [
    "# Storing evaluation metrics (average values)\n",
    "reweighted_results = list()\n",
    "keys = ['accuracy','Weighted precision','Weighted recall','Weighted f1score']\n",
    "for key in keys:\n",
    "       reweighted_results.append(reweighted.get(key))\n",
    "reweighted_results       "
   ]
  },
  {
   "cell_type": "code",
   "execution_count": 20,
   "id": "b0453f68",
   "metadata": {},
   "outputs": [
    {
     "data": {
      "text/plain": [
       "[array([0.9611271 , 0.98031496, 0.49903148, 0.99209486, 0.71112904]),\n",
       " array([0.91942419, 0.996     , 0.79483224, 1.        , 0.82284673]),\n",
       " array([0.93981325, 0.98809524, 0.61311914, 0.99603175, 0.76291975])]"
      ]
     },
     "execution_count": 20,
     "metadata": {},
     "output_type": "execute_result"
    }
   ],
   "source": [
    "# storing evaluation metrics (per class)\n",
    "reweighted_rpf = []\n",
    "elements = ['precision','recall','f1score']\n",
    "for element in elements:\n",
    "       reweighted_rpf.append(reweighted.get(element))\n",
    "reweighted_rpf       "
   ]
  },
  {
   "cell_type": "markdown",
   "id": "b89d7fbf",
   "metadata": {},
   "source": [
    "### B - Second Approach [Undersampling]"
   ]
  },
  {
   "cell_type": "code",
   "execution_count": 21,
   "id": "b82c58e0",
   "metadata": {},
   "outputs": [],
   "source": [
    "under_sampler = RandomUnderSampler(random_state=rs) #initiating undersampling object\n",
    "X_under, y_under = under_sampler.fit_resample(X_train_s, y_train)"
   ]
  },
  {
   "cell_type": "code",
   "execution_count": 22,
   "id": "f430f3e7",
   "metadata": {},
   "outputs": [
    {
     "name": "stdout",
     "output_type": "stream",
     "text": [
      "y_train after undersampling\n"
     ]
    },
    {
     "data": {
      "text/plain": [
       "4    4499\n",
       "3    4499\n",
       "2    4499\n",
       "1    4499\n",
       "0    4499\n",
       "Name: f_nv, dtype: int64"
      ]
     },
     "execution_count": 22,
     "metadata": {},
     "output_type": "execute_result"
    }
   ],
   "source": [
    "print('y_train after undersampling')\n",
    "y_under.value_counts() "
   ]
  },
  {
   "cell_type": "code",
   "execution_count": 23,
   "id": "47d81ae1",
   "metadata": {},
   "outputs": [],
   "source": [
    "model = LogisticRegression(solver='saga', random_state=rs)\n",
    "model.fit(X_under, y_under)\n",
    "preds = model.predict(X_test_s)"
   ]
  },
  {
   "cell_type": "code",
   "execution_count": 24,
   "id": "91d50154",
   "metadata": {
    "scrolled": true
   },
   "outputs": [
    {
     "data": {
      "text/plain": [
       "{'accuracy': 0.7925304940795521,\n",
       " 'precision': array([0.98144409, 0.98548813, 0.17477876, 0.99209486, 0.55353008]),\n",
       " 'Weighted precision': 0.9012269253809336,\n",
       " 'recall': array([0.76003161, 0.996     , 0.97493251, 1.        , 0.91409133]),\n",
       " 'Weighted recall': 0.7925304940795521,\n",
       " 'f1score': array([0.85666258, 0.99071618, 0.29641789, 0.99603175, 0.68951985]),\n",
       " 'Weighted f1score': 0.8237288574398645}"
      ]
     },
     "execution_count": 24,
     "metadata": {},
     "output_type": "execute_result"
    }
   ],
   "source": [
    "undersampling = evaluate_metrics(y_test,preds)\n",
    "undersampling"
   ]
  },
  {
   "cell_type": "code",
   "execution_count": 25,
   "id": "a81ae532",
   "metadata": {},
   "outputs": [
    {
     "data": {
      "text/plain": [
       "[0.7925304940795521,\n",
       " 0.9012269253809336,\n",
       " 0.7925304940795521,\n",
       " 0.8237288574398645]"
      ]
     },
     "execution_count": 25,
     "metadata": {},
     "output_type": "execute_result"
    }
   ],
   "source": [
    "# Storing evaluation metrics (average values)\n",
    "undersampling_results = list()\n",
    "for key in keys:\n",
    "       undersampling_results.append(undersampling.get(key))\n",
    "undersampling_results"
   ]
  },
  {
   "cell_type": "code",
   "execution_count": 26,
   "id": "f6edf5ad",
   "metadata": {},
   "outputs": [
    {
     "data": {
      "text/plain": [
       "[array([0.98144409, 0.98548813, 0.17477876, 0.99209486, 0.55353008]),\n",
       " array([0.76003161, 0.996     , 0.97493251, 1.        , 0.91409133]),\n",
       " array([0.85666258, 0.99071618, 0.29641789, 0.99603175, 0.68951985])]"
      ]
     },
     "execution_count": 26,
     "metadata": {},
     "output_type": "execute_result"
    }
   ],
   "source": [
    "# storing evaluation metrics (per class)\n",
    "undersampling_rpf = []\n",
    "for element in elements:\n",
    "       undersampling_rpf.append(undersampling.get(element))\n",
    "undersampling_rpf    "
   ]
  },
  {
   "cell_type": "markdown",
   "id": "cdb5eca4",
   "metadata": {},
   "source": [
    "### C -  Third Apporach [Resampling]"
   ]
  },
  {
   "cell_type": "code",
   "execution_count": 27,
   "id": "e5ba048e",
   "metadata": {},
   "outputs": [],
   "source": [
    "smote_sampler = SMOTE(random_state = rs) #Initiating SMOTE sampler\n",
    "X_smo, y_smo = smote_sampler.fit_resample(X_train_s, y_train)"
   ]
  },
  {
   "cell_type": "code",
   "execution_count": 28,
   "id": "46be0d62",
   "metadata": {
    "scrolled": true
   },
   "outputs": [
    {
     "data": {
      "text/plain": [
       "4    353036\n",
       "3    353036\n",
       "2    353036\n",
       "1    353036\n",
       "0    353036\n",
       "Name: f_nv, dtype: int64"
      ]
     },
     "execution_count": 28,
     "metadata": {},
     "output_type": "execute_result"
    }
   ],
   "source": [
    "y_smo.value_counts()"
   ]
  },
  {
   "cell_type": "code",
   "execution_count": 29,
   "id": "ed87c5a9",
   "metadata": {},
   "outputs": [],
   "source": [
    "model = LogisticRegression(solver='saga', random_state=rs)"
   ]
  },
  {
   "cell_type": "code",
   "execution_count": 30,
   "id": "b0586941",
   "metadata": {},
   "outputs": [],
   "source": [
    "model.fit(X_smo, y_smo)\n",
    "preds = model.predict(X_test_s)"
   ]
  },
  {
   "cell_type": "code",
   "execution_count": 31,
   "id": "421eda0a",
   "metadata": {},
   "outputs": [
    {
     "data": {
      "text/plain": [
       "{'accuracy': 0.8886434422293265,\n",
       " 'precision': array([0.9832507 , 0.95028681, 0.46295961, 0.98560209, 0.64429823]),\n",
       " 'Weighted precision': 0.921386329463096,\n",
       " 'recall': array([0.87798059, 0.994     , 0.98573081, 1.        , 0.91876028]),\n",
       " 'Weighted recall': 0.8886434422293265,\n",
       " 'f1score': array([0.92763864, 0.971652  , 0.63002218, 0.99274885, 0.75743246]),\n",
       " 'Weighted f1score': 0.89721034685069}"
      ]
     },
     "execution_count": 31,
     "metadata": {},
     "output_type": "execute_result"
    }
   ],
   "source": [
    "resampling = evaluate_metrics(y_test, preds)\n",
    "resampling"
   ]
  },
  {
   "cell_type": "code",
   "execution_count": 32,
   "id": "54d24fca",
   "metadata": {},
   "outputs": [
    {
     "data": {
      "text/plain": [
       "[0.8886434422293265, 0.921386329463096, 0.8886434422293265, 0.89721034685069]"
      ]
     },
     "execution_count": 32,
     "metadata": {},
     "output_type": "execute_result"
    }
   ],
   "source": [
    "# Storing evaluation metrics (average values)\n",
    "resampling_results = list()\n",
    "for key in keys:\n",
    "       resampling_results.append(resampling.get(key))\n",
    "resampling_results"
   ]
  },
  {
   "cell_type": "code",
   "execution_count": 33,
   "id": "ab0d2b94",
   "metadata": {},
   "outputs": [
    {
     "data": {
      "text/plain": [
       "[array([0.9832507 , 0.95028681, 0.46295961, 0.98560209, 0.64429823]),\n",
       " array([0.87798059, 0.994     , 0.98573081, 1.        , 0.91876028]),\n",
       " array([0.92763864, 0.971652  , 0.63002218, 0.99274885, 0.75743246])]"
      ]
     },
     "execution_count": 33,
     "metadata": {},
     "output_type": "execute_result"
    }
   ],
   "source": [
    "# storing evaluation metrics (per class)\n",
    "resampling_rpf = []\n",
    "for element in elements:\n",
    "       resampling_rpf.append(resampling.get(element))\n",
    "resampling_rpf    "
   ]
  },
  {
   "cell_type": "code",
   "execution_count": 34,
   "id": "d79f4fd4",
   "metadata": {
    "scrolled": false
   },
   "outputs": [
    {
     "data": {
      "text/html": [
       "<div>\n",
       "<style scoped>\n",
       "    .dataframe tbody tr th:only-of-type {\n",
       "        vertical-align: middle;\n",
       "    }\n",
       "\n",
       "    .dataframe tbody tr th {\n",
       "        vertical-align: top;\n",
       "    }\n",
       "\n",
       "    .dataframe thead th {\n",
       "        text-align: right;\n",
       "    }\n",
       "</style>\n",
       "<table border=\"1\" class=\"dataframe\">\n",
       "  <thead>\n",
       "    <tr style=\"text-align: right;\">\n",
       "      <th></th>\n",
       "      <th>Rewieghted</th>\n",
       "      <th>Undersampled</th>\n",
       "      <th>Resampled</th>\n",
       "    </tr>\n",
       "    <tr>\n",
       "      <th>Metric</th>\n",
       "      <th></th>\n",
       "      <th></th>\n",
       "      <th></th>\n",
       "    </tr>\n",
       "  </thead>\n",
       "  <tbody>\n",
       "    <tr>\n",
       "      <th>Accuracy</th>\n",
       "      <td>0.903928</td>\n",
       "      <td>0.792530</td>\n",
       "      <td>0.888643</td>\n",
       "    </tr>\n",
       "    <tr>\n",
       "      <th>Weighted Precision</th>\n",
       "      <td>0.914854</td>\n",
       "      <td>0.901227</td>\n",
       "      <td>0.921386</td>\n",
       "    </tr>\n",
       "    <tr>\n",
       "      <th>Weighted Recall</th>\n",
       "      <td>0.903928</td>\n",
       "      <td>0.792530</td>\n",
       "      <td>0.888643</td>\n",
       "    </tr>\n",
       "    <tr>\n",
       "      <th>Weighted F1score</th>\n",
       "      <td>0.907788</td>\n",
       "      <td>0.823729</td>\n",
       "      <td>0.897210</td>\n",
       "    </tr>\n",
       "  </tbody>\n",
       "</table>\n",
       "</div>"
      ],
      "text/plain": [
       "                     Rewieghted  Undersampled  Resampled\n",
       "Metric                                                  \n",
       "Accuracy               0.903928      0.792530   0.888643\n",
       " Weighted Precision    0.914854      0.901227   0.921386\n",
       "Weighted Recall        0.903928      0.792530   0.888643\n",
       "Weighted F1score       0.907788      0.823729   0.897210"
      ]
     },
     "metadata": {},
     "output_type": "display_data"
    }
   ],
   "source": [
    "final_results= {\n",
    "    'Metric': ['Accuracy',' Weighted Precision','Weighted Recall','Weighted F1score'],\n",
    "    'Reweighted' :reweighted_results,\n",
    "    'Undersampled':undersampling_results,\n",
    "    'Resampled':resampling_results}\n",
    "final_results = pd.DataFrame(final_results).set_index('Metric')\n",
    "display(final_results)"
   ]
  },
  {
   "cell_type": "code",
   "execution_count": 36,
   "id": "c8746437",
   "metadata": {
    "scrolled": true
   },
   "outputs": [
    {
     "data": {
      "text/html": [
       "<div>\n",
       "<style scoped>\n",
       "    .dataframe tbody tr th:only-of-type {\n",
       "        vertical-align: middle;\n",
       "    }\n",
       "\n",
       "    .dataframe tbody tr th {\n",
       "        vertical-align: top;\n",
       "    }\n",
       "\n",
       "    .dataframe thead th {\n",
       "        text-align: right;\n",
       "    }\n",
       "</style>\n",
       "<table border=\"1\" class=\"dataframe\">\n",
       "  <thead>\n",
       "    <tr style=\"text-align: right;\">\n",
       "      <th>classes</th>\n",
       "      <th>0</th>\n",
       "      <th>1</th>\n",
       "      <th>2</th>\n",
       "      <th>3</th>\n",
       "      <th>4</th>\n",
       "    </tr>\n",
       "  </thead>\n",
       "  <tbody>\n",
       "    <tr>\n",
       "      <th>Reweighted Precision</th>\n",
       "      <td>0.961127</td>\n",
       "      <td>0.980315</td>\n",
       "      <td>0.499031</td>\n",
       "      <td>0.992095</td>\n",
       "      <td>0.711129</td>\n",
       "    </tr>\n",
       "    <tr>\n",
       "      <th>Reweighted Recall</th>\n",
       "      <td>0.919424</td>\n",
       "      <td>0.996000</td>\n",
       "      <td>0.794832</td>\n",
       "      <td>1.000000</td>\n",
       "      <td>0.822847</td>\n",
       "    </tr>\n",
       "    <tr>\n",
       "      <th>Reweighted F1score</th>\n",
       "      <td>0.939813</td>\n",
       "      <td>0.988095</td>\n",
       "      <td>0.613119</td>\n",
       "      <td>0.996032</td>\n",
       "      <td>0.762920</td>\n",
       "    </tr>\n",
       "    <tr>\n",
       "      <th>Undersampled Precision</th>\n",
       "      <td>0.981444</td>\n",
       "      <td>0.985488</td>\n",
       "      <td>0.174779</td>\n",
       "      <td>0.992095</td>\n",
       "      <td>0.553530</td>\n",
       "    </tr>\n",
       "    <tr>\n",
       "      <th>Undersampled Recall</th>\n",
       "      <td>0.760032</td>\n",
       "      <td>0.996000</td>\n",
       "      <td>0.974933</td>\n",
       "      <td>1.000000</td>\n",
       "      <td>0.914091</td>\n",
       "    </tr>\n",
       "    <tr>\n",
       "      <th>Undersampled F1score</th>\n",
       "      <td>0.856663</td>\n",
       "      <td>0.990716</td>\n",
       "      <td>0.296418</td>\n",
       "      <td>0.996032</td>\n",
       "      <td>0.689520</td>\n",
       "    </tr>\n",
       "    <tr>\n",
       "      <th>Resampled Precision</th>\n",
       "      <td>0.983251</td>\n",
       "      <td>0.950287</td>\n",
       "      <td>0.462960</td>\n",
       "      <td>0.985602</td>\n",
       "      <td>0.644298</td>\n",
       "    </tr>\n",
       "    <tr>\n",
       "      <th>Resampled Recall</th>\n",
       "      <td>0.877981</td>\n",
       "      <td>0.994000</td>\n",
       "      <td>0.985731</td>\n",
       "      <td>1.000000</td>\n",
       "      <td>0.918760</td>\n",
       "    </tr>\n",
       "    <tr>\n",
       "      <th>Resampled F1score</th>\n",
       "      <td>0.927639</td>\n",
       "      <td>0.971652</td>\n",
       "      <td>0.630022</td>\n",
       "      <td>0.992749</td>\n",
       "      <td>0.757432</td>\n",
       "    </tr>\n",
       "  </tbody>\n",
       "</table>\n",
       "</div>"
      ],
      "text/plain": [
       "classes                        0         1         2         3         4\n",
       "Reweighted Precision    0.961127  0.980315  0.499031  0.992095  0.711129\n",
       "Reweighted Recall       0.919424  0.996000  0.794832  1.000000  0.822847\n",
       "Reweighted F1score      0.939813  0.988095  0.613119  0.996032  0.762920\n",
       "Undersampled Precision  0.981444  0.985488  0.174779  0.992095  0.553530\n",
       "Undersampled Recall     0.760032  0.996000  0.974933  1.000000  0.914091\n",
       "Undersampled F1score    0.856663  0.990716  0.296418  0.996032  0.689520\n",
       "Resampled Precision     0.983251  0.950287  0.462960  0.985602  0.644298\n",
       "Resampled Recall        0.877981  0.994000  0.985731  1.000000  0.918760\n",
       "Resampled F1score       0.927639  0.971652  0.630022  0.992749  0.757432"
      ]
     },
     "execution_count": 36,
     "metadata": {},
     "output_type": "execute_result"
    }
   ],
   "source": [
    "final_results_per_class = {\n",
    "    'classes': [0,1,2,3,4],\n",
    "    'Reweighted Precision' :reweighted_rpf[0],\n",
    "    'Reweighted Recall' :reweighted_rpf[1],\n",
    "    'Reweighted F1score' :reweighted_rpf[2],\n",
    "    'Undersampled Precision':undersampling_rpf[0],\n",
    "    'Undersampled Recall':undersampling_rpf[1],\n",
    "    'Undersampled F1score':undersampling_rpf[2],\n",
    "    'Resampled Precision':resampling_rpf[0],\n",
    "    'Resampled Recall':resampling_rpf[1],\n",
    "    'Resampled F1score':resampling_rpf[2]}\n",
    "final_results_per_class = pd.DataFrame(final_results_per_class).set_index('classes')\n",
    "final_results_per_class.T"
   ]
  },
  {
   "cell_type": "markdown",
   "id": "73b9868d",
   "metadata": {},
   "source": [
    "#### Based on the above findings, reweighting is the best technique in terms of overall performance. Ergo, the classes will be reweighted accordingly in all the machine learning models."
   ]
  },
  {
   "cell_type": "markdown",
   "id": "ba238180",
   "metadata": {},
   "source": [
    "### Machine Learning Models  "
   ]
  },
  {
   "cell_type": "markdown",
   "id": "2ca9d41b",
   "metadata": {},
   "source": [
    "### Steps:\n",
    "**1 - Initiating 4 stratified folds.**<br>\n",
    "**2 - Run GridSearch on LR, DT, and RF.**<br>\n",
    "**3 - Benchmark the models.**<br>\n",
    "**4 - Select the most appropriate model.**"
   ]
  },
  {
   "cell_type": "code",
   "execution_count": 37,
   "id": "12e3fa8d",
   "metadata": {},
   "outputs": [],
   "source": [
    "kf = StratifiedKFold(shuffle=True, random_state=rs , n_splits= 4 ) # 4 splits only to reduce time. "
   ]
  },
  {
   "cell_type": "markdown",
   "id": "b147c5f1",
   "metadata": {},
   "source": [
    "`A - Logistic Regression`"
   ]
  },
  {
   "cell_type": "code",
   "execution_count": 38,
   "id": "c4898f5d",
   "metadata": {},
   "outputs": [],
   "source": [
    "# Identifying the param_grid to loop through it using GridSearchCV\n",
    "param_grid = {'C':[0.1,1,10],\n",
    "              'penalty':['l1', 'l2']}\n",
    "model = LogisticRegression(random_state = rs, class_weight=class_weight, solver = 'saga')"
   ]
  },
  {
   "cell_type": "code",
   "execution_count": 39,
   "id": "f7a0c448",
   "metadata": {},
   "outputs": [
    {
     "name": "stderr",
     "output_type": "stream",
     "text": [
      "/Users/salahkaf/opt/anaconda3/lib/python3.9/site-packages/sklearn/linear_model/_sag.py:350: ConvergenceWarning: The max_iter was reached which means the coef_ did not converge\n",
      "  warnings.warn(\n",
      "/Users/salahkaf/opt/anaconda3/lib/python3.9/site-packages/sklearn/linear_model/_sag.py:350: ConvergenceWarning: The max_iter was reached which means the coef_ did not converge\n",
      "  warnings.warn(\n",
      "/Users/salahkaf/opt/anaconda3/lib/python3.9/site-packages/sklearn/linear_model/_sag.py:350: ConvergenceWarning: The max_iter was reached which means the coef_ did not converge\n",
      "  warnings.warn(\n",
      "/Users/salahkaf/opt/anaconda3/lib/python3.9/site-packages/sklearn/linear_model/_sag.py:350: ConvergenceWarning: The max_iter was reached which means the coef_ did not converge\n",
      "  warnings.warn(\n",
      "/Users/salahkaf/opt/anaconda3/lib/python3.9/site-packages/sklearn/linear_model/_sag.py:350: ConvergenceWarning: The max_iter was reached which means the coef_ did not converge\n",
      "  warnings.warn(\n",
      "/Users/salahkaf/opt/anaconda3/lib/python3.9/site-packages/sklearn/linear_model/_sag.py:350: ConvergenceWarning: The max_iter was reached which means the coef_ did not converge\n",
      "  warnings.warn(\n",
      "/Users/salahkaf/opt/anaconda3/lib/python3.9/site-packages/sklearn/linear_model/_sag.py:350: ConvergenceWarning: The max_iter was reached which means the coef_ did not converge\n",
      "  warnings.warn(\n",
      "/Users/salahkaf/opt/anaconda3/lib/python3.9/site-packages/sklearn/linear_model/_sag.py:350: ConvergenceWarning: The max_iter was reached which means the coef_ did not converge\n",
      "  warnings.warn(\n"
     ]
    },
    {
     "data": {
      "text/html": [
       "<style>#sk-container-id-1 {color: black;background-color: white;}#sk-container-id-1 pre{padding: 0;}#sk-container-id-1 div.sk-toggleable {background-color: white;}#sk-container-id-1 label.sk-toggleable__label {cursor: pointer;display: block;width: 100%;margin-bottom: 0;padding: 0.3em;box-sizing: border-box;text-align: center;}#sk-container-id-1 label.sk-toggleable__label-arrow:before {content: \"▸\";float: left;margin-right: 0.25em;color: #696969;}#sk-container-id-1 label.sk-toggleable__label-arrow:hover:before {color: black;}#sk-container-id-1 div.sk-estimator:hover label.sk-toggleable__label-arrow:before {color: black;}#sk-container-id-1 div.sk-toggleable__content {max-height: 0;max-width: 0;overflow: hidden;text-align: left;background-color: #f0f8ff;}#sk-container-id-1 div.sk-toggleable__content pre {margin: 0.2em;color: black;border-radius: 0.25em;background-color: #f0f8ff;}#sk-container-id-1 input.sk-toggleable__control:checked~div.sk-toggleable__content {max-height: 200px;max-width: 100%;overflow: auto;}#sk-container-id-1 input.sk-toggleable__control:checked~label.sk-toggleable__label-arrow:before {content: \"▾\";}#sk-container-id-1 div.sk-estimator input.sk-toggleable__control:checked~label.sk-toggleable__label {background-color: #d4ebff;}#sk-container-id-1 div.sk-label input.sk-toggleable__control:checked~label.sk-toggleable__label {background-color: #d4ebff;}#sk-container-id-1 input.sk-hidden--visually {border: 0;clip: rect(1px 1px 1px 1px);clip: rect(1px, 1px, 1px, 1px);height: 1px;margin: -1px;overflow: hidden;padding: 0;position: absolute;width: 1px;}#sk-container-id-1 div.sk-estimator {font-family: monospace;background-color: #f0f8ff;border: 1px dotted black;border-radius: 0.25em;box-sizing: border-box;margin-bottom: 0.5em;}#sk-container-id-1 div.sk-estimator:hover {background-color: #d4ebff;}#sk-container-id-1 div.sk-parallel-item::after {content: \"\";width: 100%;border-bottom: 1px solid gray;flex-grow: 1;}#sk-container-id-1 div.sk-label:hover label.sk-toggleable__label {background-color: #d4ebff;}#sk-container-id-1 div.sk-serial::before {content: \"\";position: absolute;border-left: 1px solid gray;box-sizing: border-box;top: 0;bottom: 0;left: 50%;z-index: 0;}#sk-container-id-1 div.sk-serial {display: flex;flex-direction: column;align-items: center;background-color: white;padding-right: 0.2em;padding-left: 0.2em;position: relative;}#sk-container-id-1 div.sk-item {position: relative;z-index: 1;}#sk-container-id-1 div.sk-parallel {display: flex;align-items: stretch;justify-content: center;background-color: white;position: relative;}#sk-container-id-1 div.sk-item::before, #sk-container-id-1 div.sk-parallel-item::before {content: \"\";position: absolute;border-left: 1px solid gray;box-sizing: border-box;top: 0;bottom: 0;left: 50%;z-index: -1;}#sk-container-id-1 div.sk-parallel-item {display: flex;flex-direction: column;z-index: 1;position: relative;background-color: white;}#sk-container-id-1 div.sk-parallel-item:first-child::after {align-self: flex-end;width: 50%;}#sk-container-id-1 div.sk-parallel-item:last-child::after {align-self: flex-start;width: 50%;}#sk-container-id-1 div.sk-parallel-item:only-child::after {width: 0;}#sk-container-id-1 div.sk-dashed-wrapped {border: 1px dashed gray;margin: 0 0.4em 0.5em 0.4em;box-sizing: border-box;padding-bottom: 0.4em;background-color: white;}#sk-container-id-1 div.sk-label label {font-family: monospace;font-weight: bold;display: inline-block;line-height: 1.2em;}#sk-container-id-1 div.sk-label-container {text-align: center;}#sk-container-id-1 div.sk-container {/* jupyter's `normalize.less` sets `[hidden] { display: none; }` but bootstrap.min.css set `[hidden] { display: none !important; }` so we also need the `!important` here to be able to override the default hidden behavior on the sphinx rendered scikit-learn.org. See: https://github.com/scikit-learn/scikit-learn/issues/21755 */display: inline-block !important;position: relative;}#sk-container-id-1 div.sk-text-repr-fallback {display: none;}</style><div id=\"sk-container-id-1\" class=\"sk-top-container\"><div class=\"sk-text-repr-fallback\"><pre>GridSearchCV(cv=StratifiedKFold(n_splits=4, random_state=123, shuffle=True),\n",
       "             estimator=LogisticRegression(class_weight={0: 0.05, 1: 0.3, 2: 0.2,\n",
       "                                                        3: 0.3, 4: 0.15},\n",
       "                                          random_state=123, solver=&#x27;saga&#x27;),\n",
       "             n_jobs=-1, param_grid={&#x27;C&#x27;: [0.1, 1, 10], &#x27;penalty&#x27;: [&#x27;l1&#x27;, &#x27;l2&#x27;]},\n",
       "             scoring=&#x27;accuracy&#x27;)</pre><b>In a Jupyter environment, please rerun this cell to show the HTML representation or trust the notebook. <br />On GitHub, the HTML representation is unable to render, please try loading this page with nbviewer.org.</b></div><div class=\"sk-container\" hidden><div class=\"sk-item sk-dashed-wrapped\"><div class=\"sk-label-container\"><div class=\"sk-label sk-toggleable\"><input class=\"sk-toggleable__control sk-hidden--visually\" id=\"sk-estimator-id-1\" type=\"checkbox\" ><label for=\"sk-estimator-id-1\" class=\"sk-toggleable__label sk-toggleable__label-arrow\">GridSearchCV</label><div class=\"sk-toggleable__content\"><pre>GridSearchCV(cv=StratifiedKFold(n_splits=4, random_state=123, shuffle=True),\n",
       "             estimator=LogisticRegression(class_weight={0: 0.05, 1: 0.3, 2: 0.2,\n",
       "                                                        3: 0.3, 4: 0.15},\n",
       "                                          random_state=123, solver=&#x27;saga&#x27;),\n",
       "             n_jobs=-1, param_grid={&#x27;C&#x27;: [0.1, 1, 10], &#x27;penalty&#x27;: [&#x27;l1&#x27;, &#x27;l2&#x27;]},\n",
       "             scoring=&#x27;accuracy&#x27;)</pre></div></div></div><div class=\"sk-parallel\"><div class=\"sk-parallel-item\"><div class=\"sk-item\"><div class=\"sk-label-container\"><div class=\"sk-label sk-toggleable\"><input class=\"sk-toggleable__control sk-hidden--visually\" id=\"sk-estimator-id-2\" type=\"checkbox\" ><label for=\"sk-estimator-id-2\" class=\"sk-toggleable__label sk-toggleable__label-arrow\">estimator: LogisticRegression</label><div class=\"sk-toggleable__content\"><pre>LogisticRegression(class_weight={0: 0.05, 1: 0.3, 2: 0.2, 3: 0.3, 4: 0.15},\n",
       "                   random_state=123, solver=&#x27;saga&#x27;)</pre></div></div></div><div class=\"sk-serial\"><div class=\"sk-item\"><div class=\"sk-estimator sk-toggleable\"><input class=\"sk-toggleable__control sk-hidden--visually\" id=\"sk-estimator-id-3\" type=\"checkbox\" ><label for=\"sk-estimator-id-3\" class=\"sk-toggleable__label sk-toggleable__label-arrow\">LogisticRegression</label><div class=\"sk-toggleable__content\"><pre>LogisticRegression(class_weight={0: 0.05, 1: 0.3, 2: 0.2, 3: 0.3, 4: 0.15},\n",
       "                   random_state=123, solver=&#x27;saga&#x27;)</pre></div></div></div></div></div></div></div></div></div></div>"
      ],
      "text/plain": [
       "GridSearchCV(cv=StratifiedKFold(n_splits=4, random_state=123, shuffle=True),\n",
       "             estimator=LogisticRegression(class_weight={0: 0.05, 1: 0.3, 2: 0.2,\n",
       "                                                        3: 0.3, 4: 0.15},\n",
       "                                          random_state=123, solver='saga'),\n",
       "             n_jobs=-1, param_grid={'C': [0.1, 1, 10], 'penalty': ['l1', 'l2']},\n",
       "             scoring='accuracy')"
      ]
     },
     "execution_count": 39,
     "metadata": {},
     "output_type": "execute_result"
    }
   ],
   "source": [
    "search_lr = GridSearchCV(estimator=model,\n",
    "                      param_grid=param_grid,\n",
    "                      scoring='accuracy',\n",
    "                      cv=kf,\n",
    "                      n_jobs= -1) \n",
    "search_lr.fit(X_train_s, y_train)"
   ]
  },
  {
   "cell_type": "code",
   "execution_count": 40,
   "id": "4a83c45d",
   "metadata": {},
   "outputs": [
    {
     "data": {
      "text/plain": [
       "0.9286962244276853"
      ]
     },
     "execution_count": 40,
     "metadata": {},
     "output_type": "execute_result"
    }
   ],
   "source": [
    "search_lr.best_score_"
   ]
  },
  {
   "cell_type": "code",
   "execution_count": 41,
   "id": "6c8cf4cb",
   "metadata": {
    "scrolled": true
   },
   "outputs": [
    {
     "data": {
      "text/plain": [
       "{'C': 10, 'penalty': 'l1'}"
      ]
     },
     "execution_count": 41,
     "metadata": {},
     "output_type": "execute_result"
    }
   ],
   "source": [
    "search_lr.best_params_"
   ]
  },
  {
   "cell_type": "code",
   "execution_count": 42,
   "id": "31a37ec1",
   "metadata": {},
   "outputs": [],
   "source": [
    "lr_model = LogisticRegression(random_state = rs, C = 10, penalty = 'l1',class_weight=class_weight, solver = 'saga')"
   ]
  },
  {
   "cell_type": "code",
   "execution_count": 43,
   "id": "0559826a",
   "metadata": {},
   "outputs": [
    {
     "data": {
      "text/html": [
       "<style>#sk-container-id-2 {color: black;background-color: white;}#sk-container-id-2 pre{padding: 0;}#sk-container-id-2 div.sk-toggleable {background-color: white;}#sk-container-id-2 label.sk-toggleable__label {cursor: pointer;display: block;width: 100%;margin-bottom: 0;padding: 0.3em;box-sizing: border-box;text-align: center;}#sk-container-id-2 label.sk-toggleable__label-arrow:before {content: \"▸\";float: left;margin-right: 0.25em;color: #696969;}#sk-container-id-2 label.sk-toggleable__label-arrow:hover:before {color: black;}#sk-container-id-2 div.sk-estimator:hover label.sk-toggleable__label-arrow:before {color: black;}#sk-container-id-2 div.sk-toggleable__content {max-height: 0;max-width: 0;overflow: hidden;text-align: left;background-color: #f0f8ff;}#sk-container-id-2 div.sk-toggleable__content pre {margin: 0.2em;color: black;border-radius: 0.25em;background-color: #f0f8ff;}#sk-container-id-2 input.sk-toggleable__control:checked~div.sk-toggleable__content {max-height: 200px;max-width: 100%;overflow: auto;}#sk-container-id-2 input.sk-toggleable__control:checked~label.sk-toggleable__label-arrow:before {content: \"▾\";}#sk-container-id-2 div.sk-estimator input.sk-toggleable__control:checked~label.sk-toggleable__label {background-color: #d4ebff;}#sk-container-id-2 div.sk-label input.sk-toggleable__control:checked~label.sk-toggleable__label {background-color: #d4ebff;}#sk-container-id-2 input.sk-hidden--visually {border: 0;clip: rect(1px 1px 1px 1px);clip: rect(1px, 1px, 1px, 1px);height: 1px;margin: -1px;overflow: hidden;padding: 0;position: absolute;width: 1px;}#sk-container-id-2 div.sk-estimator {font-family: monospace;background-color: #f0f8ff;border: 1px dotted black;border-radius: 0.25em;box-sizing: border-box;margin-bottom: 0.5em;}#sk-container-id-2 div.sk-estimator:hover {background-color: #d4ebff;}#sk-container-id-2 div.sk-parallel-item::after {content: \"\";width: 100%;border-bottom: 1px solid gray;flex-grow: 1;}#sk-container-id-2 div.sk-label:hover label.sk-toggleable__label {background-color: #d4ebff;}#sk-container-id-2 div.sk-serial::before {content: \"\";position: absolute;border-left: 1px solid gray;box-sizing: border-box;top: 0;bottom: 0;left: 50%;z-index: 0;}#sk-container-id-2 div.sk-serial {display: flex;flex-direction: column;align-items: center;background-color: white;padding-right: 0.2em;padding-left: 0.2em;position: relative;}#sk-container-id-2 div.sk-item {position: relative;z-index: 1;}#sk-container-id-2 div.sk-parallel {display: flex;align-items: stretch;justify-content: center;background-color: white;position: relative;}#sk-container-id-2 div.sk-item::before, #sk-container-id-2 div.sk-parallel-item::before {content: \"\";position: absolute;border-left: 1px solid gray;box-sizing: border-box;top: 0;bottom: 0;left: 50%;z-index: -1;}#sk-container-id-2 div.sk-parallel-item {display: flex;flex-direction: column;z-index: 1;position: relative;background-color: white;}#sk-container-id-2 div.sk-parallel-item:first-child::after {align-self: flex-end;width: 50%;}#sk-container-id-2 div.sk-parallel-item:last-child::after {align-self: flex-start;width: 50%;}#sk-container-id-2 div.sk-parallel-item:only-child::after {width: 0;}#sk-container-id-2 div.sk-dashed-wrapped {border: 1px dashed gray;margin: 0 0.4em 0.5em 0.4em;box-sizing: border-box;padding-bottom: 0.4em;background-color: white;}#sk-container-id-2 div.sk-label label {font-family: monospace;font-weight: bold;display: inline-block;line-height: 1.2em;}#sk-container-id-2 div.sk-label-container {text-align: center;}#sk-container-id-2 div.sk-container {/* jupyter's `normalize.less` sets `[hidden] { display: none; }` but bootstrap.min.css set `[hidden] { display: none !important; }` so we also need the `!important` here to be able to override the default hidden behavior on the sphinx rendered scikit-learn.org. See: https://github.com/scikit-learn/scikit-learn/issues/21755 */display: inline-block !important;position: relative;}#sk-container-id-2 div.sk-text-repr-fallback {display: none;}</style><div id=\"sk-container-id-2\" class=\"sk-top-container\"><div class=\"sk-text-repr-fallback\"><pre>LogisticRegression(C=10,\n",
       "                   class_weight={0: 0.05, 1: 0.3, 2: 0.2, 3: 0.3, 4: 0.15},\n",
       "                   penalty=&#x27;l1&#x27;, random_state=123, solver=&#x27;saga&#x27;)</pre><b>In a Jupyter environment, please rerun this cell to show the HTML representation or trust the notebook. <br />On GitHub, the HTML representation is unable to render, please try loading this page with nbviewer.org.</b></div><div class=\"sk-container\" hidden><div class=\"sk-item\"><div class=\"sk-estimator sk-toggleable\"><input class=\"sk-toggleable__control sk-hidden--visually\" id=\"sk-estimator-id-4\" type=\"checkbox\" checked><label for=\"sk-estimator-id-4\" class=\"sk-toggleable__label sk-toggleable__label-arrow\">LogisticRegression</label><div class=\"sk-toggleable__content\"><pre>LogisticRegression(C=10,\n",
       "                   class_weight={0: 0.05, 1: 0.3, 2: 0.2, 3: 0.3, 4: 0.15},\n",
       "                   penalty=&#x27;l1&#x27;, random_state=123, solver=&#x27;saga&#x27;)</pre></div></div></div></div></div>"
      ],
      "text/plain": [
       "LogisticRegression(C=10,\n",
       "                   class_weight={0: 0.05, 1: 0.3, 2: 0.2, 3: 0.3, 4: 0.15},\n",
       "                   penalty='l1', random_state=123, solver='saga')"
      ]
     },
     "execution_count": 43,
     "metadata": {},
     "output_type": "execute_result"
    }
   ],
   "source": [
    "lr_model.fit(X_train_s, y_train)"
   ]
  },
  {
   "cell_type": "code",
   "execution_count": 44,
   "id": "61e10d42",
   "metadata": {},
   "outputs": [],
   "source": [
    "preds = lr_model.predict(X_test_s)"
   ]
  },
  {
   "cell_type": "code",
   "execution_count": 45,
   "id": "398a2485",
   "metadata": {},
   "outputs": [
    {
     "data": {
      "text/plain": [
       "{'accuracy': 0.9282205726987088,\n",
       " 'precision': array([0.96860681, 0.9726206 , 0.97713835, 0.99013807, 0.73623755]),\n",
       " 'Weighted precision': 0.9331720515757812,\n",
       " 'recall': array([0.94309896, 0.99466667, 0.95603548, 1.        , 0.83792076]),\n",
       " 'Weighted recall': 0.9282205726987088,\n",
       " 'f1score': array([0.95568271, 0.98352011, 0.96647173, 0.9950446 , 0.78379503]),\n",
       " 'Weighted f1score': 0.9300486754286351}"
      ]
     },
     "execution_count": 45,
     "metadata": {},
     "output_type": "execute_result"
    }
   ],
   "source": [
    "logistic = evaluate_metrics(y_test, preds)\n",
    "logistic # results dict"
   ]
  },
  {
   "cell_type": "code",
   "execution_count": 46,
   "id": "900208b6",
   "metadata": {},
   "outputs": [
    {
     "name": "stdout",
     "output_type": "stream",
     "text": [
      "              precision    recall  f1-score   support\n",
      "\n",
      "           0       0.97      0.94      0.96    117678\n",
      "           1       0.97      0.99      0.98      1500\n",
      "           2       0.98      0.96      0.97      2593\n",
      "           3       0.99      1.00      1.00      1506\n",
      "           4       0.74      0.84      0.78     22489\n",
      "\n",
      "    accuracy                           0.93    145766\n",
      "   macro avg       0.93      0.95      0.94    145766\n",
      "weighted avg       0.93      0.93      0.93    145766\n",
      "\n"
     ]
    },
    {
     "data": {
      "image/png": "[encoded data removed]",
      "text/plain": [
       "<Figure size 864x576 with 2 Axes>"
      ]
     },
     "metadata": {
      "needs_background": "light"
     },
     "output_type": "display_data"
    }
   ],
   "source": [
    "# Results in more understandable manner\n",
    "print(classification_report(y_test, preds))\n",
    "\n",
    "sns.set_context('talk')\n",
    "cm = confusion_matrix(y_test, preds)\n",
    "plt.figure(figsize = (12,8)) \n",
    "ax = sns.heatmap(cm, annot=True, fmt='d', cmap='copper',\n",
    "                xticklabels=['No Fault 0', 'Short-Circuit 1', 'Degradation 2','Open-Circuit 3','Shadowing 4'], \n",
    "                 yticklabels=['No Fault 0', 'Short-Circuit 1', 'Degradation 2','Open-Circuit 3','Shadowing 4'])\n",
    "ax.set(title=\"logistic Regression Confusion Matrix\");\n",
    "ax.set_xlabel('Predicted');\n",
    "ax.set_ylabel('True');"
   ]
  },
  {
   "cell_type": "code",
   "execution_count": 47,
   "id": "21989cb9",
   "metadata": {},
   "outputs": [
    {
     "data": {
      "text/plain": [
       "[0.9282205726987088,\n",
       " 0.9331720515757812,\n",
       " 0.9282205726987088,\n",
       " 0.9300486754286351]"
      ]
     },
     "execution_count": 47,
     "metadata": {},
     "output_type": "execute_result"
    }
   ],
   "source": [
    "#Storing evaluation metrics (average values)\n",
    "lr_results = list()\n",
    "for key in keys:\n",
    "       lr_results.append(logistic.get(key))\n",
    "lr_results "
   ]
  },
  {
   "cell_type": "code",
   "execution_count": 48,
   "id": "4e3dccea",
   "metadata": {},
   "outputs": [
    {
     "data": {
      "text/plain": [
       "[array([0.96860681, 0.9726206 , 0.97713835, 0.99013807, 0.73623755]),\n",
       " array([0.94309896, 0.99466667, 0.95603548, 1.        , 0.83792076]),\n",
       " array([0.95568271, 0.98352011, 0.96647173, 0.9950446 , 0.78379503])]"
      ]
     },
     "execution_count": 48,
     "metadata": {},
     "output_type": "execute_result"
    }
   ],
   "source": [
    "# storing evaluation metrics (per class)\n",
    "lr_rpf = []\n",
    "for element in elements:\n",
    "       lr_rpf.append(logistic.get(element))\n",
    "lr_rpf   "
   ]
  },
  {
   "cell_type": "code",
   "execution_count": 49,
   "id": "75927af6",
   "metadata": {},
   "outputs": [],
   "source": [
    "# this will help us to resote the object even if the kernal is shutdown\n",
    "pickle.dump(search_lr, open('search_lr.p','wb')) # write it as bytes\n",
    "pickle.dump(lr_model, open('lr_model.p','wb')) # write it as bytes"
   ]
  },
  {
   "cell_type": "markdown",
   "id": "d80a7505",
   "metadata": {},
   "source": [
    "`B - Decision Trees`"
   ]
  },
  {
   "cell_type": "code",
   "execution_count": 50,
   "id": "1b3c9943",
   "metadata": {},
   "outputs": [],
   "source": [
    "# Identifying the param_grid to loop through it using GridSearchCV\n",
    "\n",
    "param_grid = {'criterion':['gini','entropy'],\n",
    "              'max_depth':[1,3,5,7],\n",
    "              'max_features' :[2,4,6]}\n",
    "model = DecisionTreeClassifier(random_state = rs, class_weight = class_weight)"
   ]
  },
  {
   "cell_type": "code",
   "execution_count": 51,
   "id": "59a2d4bb",
   "metadata": {
    "scrolled": true
   },
   "outputs": [
    {
     "data": {
      "text/html": [
       "<style>#sk-container-id-3 {color: black;background-color: white;}#sk-container-id-3 pre{padding: 0;}#sk-container-id-3 div.sk-toggleable {background-color: white;}#sk-container-id-3 label.sk-toggleable__label {cursor: pointer;display: block;width: 100%;margin-bottom: 0;padding: 0.3em;box-sizing: border-box;text-align: center;}#sk-container-id-3 label.sk-toggleable__label-arrow:before {content: \"▸\";float: left;margin-right: 0.25em;color: #696969;}#sk-container-id-3 label.sk-toggleable__label-arrow:hover:before {color: black;}#sk-container-id-3 div.sk-estimator:hover label.sk-toggleable__label-arrow:before {color: black;}#sk-container-id-3 div.sk-toggleable__content {max-height: 0;max-width: 0;overflow: hidden;text-align: left;background-color: #f0f8ff;}#sk-container-id-3 div.sk-toggleable__content pre {margin: 0.2em;color: black;border-radius: 0.25em;background-color: #f0f8ff;}#sk-container-id-3 input.sk-toggleable__control:checked~div.sk-toggleable__content {max-height: 200px;max-width: 100%;overflow: auto;}#sk-container-id-3 input.sk-toggleable__control:checked~label.sk-toggleable__label-arrow:before {content: \"▾\";}#sk-container-id-3 div.sk-estimator input.sk-toggleable__control:checked~label.sk-toggleable__label {background-color: #d4ebff;}#sk-container-id-3 div.sk-label input.sk-toggleable__control:checked~label.sk-toggleable__label {background-color: #d4ebff;}#sk-container-id-3 input.sk-hidden--visually {border: 0;clip: rect(1px 1px 1px 1px);clip: rect(1px, 1px, 1px, 1px);height: 1px;margin: -1px;overflow: hidden;padding: 0;position: absolute;width: 1px;}#sk-container-id-3 div.sk-estimator {font-family: monospace;background-color: #f0f8ff;border: 1px dotted black;border-radius: 0.25em;box-sizing: border-box;margin-bottom: 0.5em;}#sk-container-id-3 div.sk-estimator:hover {background-color: #d4ebff;}#sk-container-id-3 div.sk-parallel-item::after {content: \"\";width: 100%;border-bottom: 1px solid gray;flex-grow: 1;}#sk-container-id-3 div.sk-label:hover label.sk-toggleable__label {background-color: #d4ebff;}#sk-container-id-3 div.sk-serial::before {content: \"\";position: absolute;border-left: 1px solid gray;box-sizing: border-box;top: 0;bottom: 0;left: 50%;z-index: 0;}#sk-container-id-3 div.sk-serial {display: flex;flex-direction: column;align-items: center;background-color: white;padding-right: 0.2em;padding-left: 0.2em;position: relative;}#sk-container-id-3 div.sk-item {position: relative;z-index: 1;}#sk-container-id-3 div.sk-parallel {display: flex;align-items: stretch;justify-content: center;background-color: white;position: relative;}#sk-container-id-3 div.sk-item::before, #sk-container-id-3 div.sk-parallel-item::before {content: \"\";position: absolute;border-left: 1px solid gray;box-sizing: border-box;top: 0;bottom: 0;left: 50%;z-index: -1;}#sk-container-id-3 div.sk-parallel-item {display: flex;flex-direction: column;z-index: 1;position: relative;background-color: white;}#sk-container-id-3 div.sk-parallel-item:first-child::after {align-self: flex-end;width: 50%;}#sk-container-id-3 div.sk-parallel-item:last-child::after {align-self: flex-start;width: 50%;}#sk-container-id-3 div.sk-parallel-item:only-child::after {width: 0;}#sk-container-id-3 div.sk-dashed-wrapped {border: 1px dashed gray;margin: 0 0.4em 0.5em 0.4em;box-sizing: border-box;padding-bottom: 0.4em;background-color: white;}#sk-container-id-3 div.sk-label label {font-family: monospace;font-weight: bold;display: inline-block;line-height: 1.2em;}#sk-container-id-3 div.sk-label-container {text-align: center;}#sk-container-id-3 div.sk-container {/* jupyter's `normalize.less` sets `[hidden] { display: none; }` but bootstrap.min.css set `[hidden] { display: none !important; }` so we also need the `!important` here to be able to override the default hidden behavior on the sphinx rendered scikit-learn.org. See: https://github.com/scikit-learn/scikit-learn/issues/21755 */display: inline-block !important;position: relative;}#sk-container-id-3 div.sk-text-repr-fallback {display: none;}</style><div id=\"sk-container-id-3\" class=\"sk-top-container\"><div class=\"sk-text-repr-fallback\"><pre>GridSearchCV(cv=StratifiedKFold(n_splits=4, random_state=123, shuffle=True),\n",
       "             estimator=DecisionTreeClassifier(class_weight={0: 0.05, 1: 0.3,\n",
       "                                                            2: 0.2, 3: 0.3,\n",
       "                                                            4: 0.15},\n",
       "                                              random_state=123),\n",
       "             n_jobs=-1,\n",
       "             param_grid={&#x27;criterion&#x27;: [&#x27;gini&#x27;, &#x27;entropy&#x27;],\n",
       "                         &#x27;max_depth&#x27;: [1, 3, 5, 7], &#x27;max_features&#x27;: [2, 4, 6]},\n",
       "             scoring=&#x27;accuracy&#x27;)</pre><b>In a Jupyter environment, please rerun this cell to show the HTML representation or trust the notebook. <br />On GitHub, the HTML representation is unable to render, please try loading this page with nbviewer.org.</b></div><div class=\"sk-container\" hidden><div class=\"sk-item sk-dashed-wrapped\"><div class=\"sk-label-container\"><div class=\"sk-label sk-toggleable\"><input class=\"sk-toggleable__control sk-hidden--visually\" id=\"sk-estimator-id-5\" type=\"checkbox\" ><label for=\"sk-estimator-id-5\" class=\"sk-toggleable__label sk-toggleable__label-arrow\">GridSearchCV</label><div class=\"sk-toggleable__content\"><pre>GridSearchCV(cv=StratifiedKFold(n_splits=4, random_state=123, shuffle=True),\n",
       "             estimator=DecisionTreeClassifier(class_weight={0: 0.05, 1: 0.3,\n",
       "                                                            2: 0.2, 3: 0.3,\n",
       "                                                            4: 0.15},\n",
       "                                              random_state=123),\n",
       "             n_jobs=-1,\n",
       "             param_grid={&#x27;criterion&#x27;: [&#x27;gini&#x27;, &#x27;entropy&#x27;],\n",
       "                         &#x27;max_depth&#x27;: [1, 3, 5, 7], &#x27;max_features&#x27;: [2, 4, 6]},\n",
       "             scoring=&#x27;accuracy&#x27;)</pre></div></div></div><div class=\"sk-parallel\"><div class=\"sk-parallel-item\"><div class=\"sk-item\"><div class=\"sk-label-container\"><div class=\"sk-label sk-toggleable\"><input class=\"sk-toggleable__control sk-hidden--visually\" id=\"sk-estimator-id-6\" type=\"checkbox\" ><label for=\"sk-estimator-id-6\" class=\"sk-toggleable__label sk-toggleable__label-arrow\">estimator: DecisionTreeClassifier</label><div class=\"sk-toggleable__content\"><pre>DecisionTreeClassifier(class_weight={0: 0.05, 1: 0.3, 2: 0.2, 3: 0.3, 4: 0.15},\n",
       "                       random_state=123)</pre></div></div></div><div class=\"sk-serial\"><div class=\"sk-item\"><div class=\"sk-estimator sk-toggleable\"><input class=\"sk-toggleable__control sk-hidden--visually\" id=\"sk-estimator-id-7\" type=\"checkbox\" ><label for=\"sk-estimator-id-7\" class=\"sk-toggleable__label sk-toggleable__label-arrow\">DecisionTreeClassifier</label><div class=\"sk-toggleable__content\"><pre>DecisionTreeClassifier(class_weight={0: 0.05, 1: 0.3, 2: 0.2, 3: 0.3, 4: 0.15},\n",
       "                       random_state=123)</pre></div></div></div></div></div></div></div></div></div></div>"
      ],
      "text/plain": [
       "GridSearchCV(cv=StratifiedKFold(n_splits=4, random_state=123, shuffle=True),\n",
       "             estimator=DecisionTreeClassifier(class_weight={0: 0.05, 1: 0.3,\n",
       "                                                            2: 0.2, 3: 0.3,\n",
       "                                                            4: 0.15},\n",
       "                                              random_state=123),\n",
       "             n_jobs=-1,\n",
       "             param_grid={'criterion': ['gini', 'entropy'],\n",
       "                         'max_depth': [1, 3, 5, 7], 'max_features': [2, 4, 6]},\n",
       "             scoring='accuracy')"
      ]
     },
     "execution_count": 51,
     "metadata": {},
     "output_type": "execute_result"
    }
   ],
   "source": [
    "search_dt = GridSearchCV(estimator=model,\n",
    "                      param_grid=param_grid,\n",
    "                      scoring='accuracy',\n",
    "                      cv=kf,\n",
    "                      n_jobs = -1) # Initiate search object\n",
    "search_dt.fit(X_train_s, y_train)"
   ]
  },
  {
   "cell_type": "code",
   "execution_count": 52,
   "id": "c8dda022",
   "metadata": {},
   "outputs": [
    {
     "data": {
      "text/plain": [
       "0.9645847835451163"
      ]
     },
     "execution_count": 52,
     "metadata": {},
     "output_type": "execute_result"
    }
   ],
   "source": [
    "search_dt.best_score_"
   ]
  },
  {
   "cell_type": "code",
   "execution_count": 53,
   "id": "1583055a",
   "metadata": {
    "scrolled": true
   },
   "outputs": [
    {
     "data": {
      "text/plain": [
       "{'criterion': 'gini', 'max_depth': 7, 'max_features': 4}"
      ]
     },
     "execution_count": 53,
     "metadata": {},
     "output_type": "execute_result"
    }
   ],
   "source": [
    "search_dt.best_params_"
   ]
  },
  {
   "cell_type": "code",
   "execution_count": 54,
   "id": "2f2237f0",
   "metadata": {},
   "outputs": [],
   "source": [
    "dt_model = DecisionTreeClassifier(random_state = rs, criterion = 'gini',\n",
    "                                  max_features = 4, max_depth =7, class_weight = class_weight)\n",
    "dt_model.fit(X_train_s, y_train)\n",
    "preds = dt_model.predict(X_test_s)"
   ]
  },
  {
   "cell_type": "code",
   "execution_count": 55,
   "id": "d5c0d121",
   "metadata": {},
   "outputs": [
    {
     "data": {
      "text/plain": [
       "{'accuracy': 0.9682642042726013,\n",
       " 'precision': array([0.99374204, 0.96881092, 0.91029307, 0.99602912, 0.85779672]),\n",
       " 'Weighted precision': 0.9710508060959091,\n",
       " 'recall': array([0.96753004, 0.994     , 0.98225993, 0.99933599, 0.96669483]),\n",
       " 'Weighted recall': 0.9682642042726013,\n",
       " 'f1score': array([0.98046088, 0.98124383, 0.94490818, 0.99767981, 0.90899588]),\n",
       " 'Weighted f1score': 0.9689886675918266}"
      ]
     },
     "execution_count": 55,
     "metadata": {},
     "output_type": "execute_result"
    }
   ],
   "source": [
    "tree = evaluate_metrics(y_test, preds)\n",
    "tree"
   ]
  },
  {
   "cell_type": "code",
   "execution_count": 56,
   "id": "4b517b5d",
   "metadata": {},
   "outputs": [
    {
     "name": "stdout",
     "output_type": "stream",
     "text": [
      "              precision    recall  f1-score   support\n",
      "\n",
      "           0       0.99      0.97      0.98    117678\n",
      "           1       0.97      0.99      0.98      1500\n",
      "           2       0.91      0.98      0.94      2593\n",
      "           3       1.00      1.00      1.00      1506\n",
      "           4       0.86      0.97      0.91     22489\n",
      "\n",
      "    accuracy                           0.97    145766\n",
      "   macro avg       0.95      0.98      0.96    145766\n",
      "weighted avg       0.97      0.97      0.97    145766\n",
      "\n"
     ]
    },
    {
     "data": {
      "image/png": "[encoded data removed]",
      "text/plain": [
       "<Figure size 864x576 with 2 Axes>"
      ]
     },
     "metadata": {
      "needs_background": "light"
     },
     "output_type": "display_data"
    }
   ],
   "source": [
    "print(classification_report(y_test, preds))\n",
    "\n",
    "sns.set_context('talk')\n",
    "cm = confusion_matrix(y_test, preds)\n",
    "plt.figure(figsize = (12,8)) \n",
    "ax = sns.heatmap(cm, annot=True, fmt='d', cmap='copper',\n",
    "                xticklabels=['No Fault 0', 'Short-Circuit 1', 'Degradation 2','Open-Circuit 3','Shadowing 4'], \n",
    "                 yticklabels=['No Fault 0', 'Short-Circuit 1', 'Degradation 2','Open-Circuit 3','Shadowing 4'])\n",
    "ax.set(title=\"Decision Tree Confusion Matrix\");\n",
    "ax.set_xlabel('Predicted');\n",
    "ax.set_ylabel('True');"
   ]
  },
  {
   "cell_type": "code",
   "execution_count": 57,
   "id": "1a6466b0",
   "metadata": {},
   "outputs": [
    {
     "data": {
      "text/plain": [
       "[0.9682642042726013,\n",
       " 0.9710508060959091,\n",
       " 0.9682642042726013,\n",
       " 0.9689886675918266]"
      ]
     },
     "execution_count": 57,
     "metadata": {},
     "output_type": "execute_result"
    }
   ],
   "source": [
    "#Storing evaluation metrics (average values)\n",
    "dt_results = list()\n",
    "for key in keys:\n",
    "       dt_results.append(tree.get(key))\n",
    "dt_results "
   ]
  },
  {
   "cell_type": "code",
   "execution_count": 58,
   "id": "36ef6a9b",
   "metadata": {},
   "outputs": [
    {
     "data": {
      "text/plain": [
       "[array([0.99374204, 0.96881092, 0.91029307, 0.99602912, 0.85779672]),\n",
       " array([0.96753004, 0.994     , 0.98225993, 0.99933599, 0.96669483]),\n",
       " array([0.98046088, 0.98124383, 0.94490818, 0.99767981, 0.90899588])]"
      ]
     },
     "execution_count": 58,
     "metadata": {},
     "output_type": "execute_result"
    }
   ],
   "source": [
    "# storing evaluation metrics (per class)\n",
    "dt_rpf = []\n",
    "for element in elements:\n",
    "       dt_rpf.append(tree.get(element))\n",
    "dt_rpf  "
   ]
  },
  {
   "cell_type": "code",
   "execution_count": 59,
   "id": "2c729b6c",
   "metadata": {},
   "outputs": [],
   "source": [
    "pickle.dump(search_dt, open('search_dt.p','wb')) # write it as bytes\n",
    "pickle.dump(dt_model, open('dt_model.p','wb')) # write it as bytes"
   ]
  },
  {
   "cell_type": "markdown",
   "id": "5d981c8a",
   "metadata": {},
   "source": [
    "`C - Random Forest`"
   ]
  },
  {
   "cell_type": "code",
   "execution_count": 60,
   "id": "ac027b32",
   "metadata": {},
   "outputs": [],
   "source": [
    "# GridSearch using RandomForest is computationally expensive, to save time, will be skipped.\n",
    "\n",
    "# # Identifying the param_grid to loop through it using GridSearchCV\n",
    "# param_grid = {'n_estimators':[50,100,200],\n",
    "#               'criterion':['gini', 'entropy'],\n",
    "#               'max_features':[2,4,6]}\n",
    "# model = RandomForestClassifier(random_state = rs, bootstrap = True, class_weight = class_weight)\n",
    "# search_rf = GridSearchCV(estimator=model,\n",
    "#                       param_grid=param_grid,\n",
    "#                       scoring='accuracy',\n",
    "#                       cv=kf,\n",
    "#                       n_jobs = -1) # Initiate search object\n",
    "# search_rf.fit(X_train_s, y_train)\n",
    "# search_rf.best_score_\n",
    "# search_rf.best_params_"
   ]
  },
  {
   "cell_type": "code",
   "execution_count": 61,
   "id": "1196ad04",
   "metadata": {},
   "outputs": [
    {
     "data": {
      "text/html": [
       "<style>#sk-container-id-4 {color: black;background-color: white;}#sk-container-id-4 pre{padding: 0;}#sk-container-id-4 div.sk-toggleable {background-color: white;}#sk-container-id-4 label.sk-toggleable__label {cursor: pointer;display: block;width: 100%;margin-bottom: 0;padding: 0.3em;box-sizing: border-box;text-align: center;}#sk-container-id-4 label.sk-toggleable__label-arrow:before {content: \"▸\";float: left;margin-right: 0.25em;color: #696969;}#sk-container-id-4 label.sk-toggleable__label-arrow:hover:before {color: black;}#sk-container-id-4 div.sk-estimator:hover label.sk-toggleable__label-arrow:before {color: black;}#sk-container-id-4 div.sk-toggleable__content {max-height: 0;max-width: 0;overflow: hidden;text-align: left;background-color: #f0f8ff;}#sk-container-id-4 div.sk-toggleable__content pre {margin: 0.2em;color: black;border-radius: 0.25em;background-color: #f0f8ff;}#sk-container-id-4 input.sk-toggleable__control:checked~div.sk-toggleable__content {max-height: 200px;max-width: 100%;overflow: auto;}#sk-container-id-4 input.sk-toggleable__control:checked~label.sk-toggleable__label-arrow:before {content: \"▾\";}#sk-container-id-4 div.sk-estimator input.sk-toggleable__control:checked~label.sk-toggleable__label {background-color: #d4ebff;}#sk-container-id-4 div.sk-label input.sk-toggleable__control:checked~label.sk-toggleable__label {background-color: #d4ebff;}#sk-container-id-4 input.sk-hidden--visually {border: 0;clip: rect(1px 1px 1px 1px);clip: rect(1px, 1px, 1px, 1px);height: 1px;margin: -1px;overflow: hidden;padding: 0;position: absolute;width: 1px;}#sk-container-id-4 div.sk-estimator {font-family: monospace;background-color: #f0f8ff;border: 1px dotted black;border-radius: 0.25em;box-sizing: border-box;margin-bottom: 0.5em;}#sk-container-id-4 div.sk-estimator:hover {background-color: #d4ebff;}#sk-container-id-4 div.sk-parallel-item::after {content: \"\";width: 100%;border-bottom: 1px solid gray;flex-grow: 1;}#sk-container-id-4 div.sk-label:hover label.sk-toggleable__label {background-color: #d4ebff;}#sk-container-id-4 div.sk-serial::before {content: \"\";position: absolute;border-left: 1px solid gray;box-sizing: border-box;top: 0;bottom: 0;left: 50%;z-index: 0;}#sk-container-id-4 div.sk-serial {display: flex;flex-direction: column;align-items: center;background-color: white;padding-right: 0.2em;padding-left: 0.2em;position: relative;}#sk-container-id-4 div.sk-item {position: relative;z-index: 1;}#sk-container-id-4 div.sk-parallel {display: flex;align-items: stretch;justify-content: center;background-color: white;position: relative;}#sk-container-id-4 div.sk-item::before, #sk-container-id-4 div.sk-parallel-item::before {content: \"\";position: absolute;border-left: 1px solid gray;box-sizing: border-box;top: 0;bottom: 0;left: 50%;z-index: -1;}#sk-container-id-4 div.sk-parallel-item {display: flex;flex-direction: column;z-index: 1;position: relative;background-color: white;}#sk-container-id-4 div.sk-parallel-item:first-child::after {align-self: flex-end;width: 50%;}#sk-container-id-4 div.sk-parallel-item:last-child::after {align-self: flex-start;width: 50%;}#sk-container-id-4 div.sk-parallel-item:only-child::after {width: 0;}#sk-container-id-4 div.sk-dashed-wrapped {border: 1px dashed gray;margin: 0 0.4em 0.5em 0.4em;box-sizing: border-box;padding-bottom: 0.4em;background-color: white;}#sk-container-id-4 div.sk-label label {font-family: monospace;font-weight: bold;display: inline-block;line-height: 1.2em;}#sk-container-id-4 div.sk-label-container {text-align: center;}#sk-container-id-4 div.sk-container {/* jupyter's `normalize.less` sets `[hidden] { display: none; }` but bootstrap.min.css set `[hidden] { display: none !important; }` so we also need the `!important` here to be able to override the default hidden behavior on the sphinx rendered scikit-learn.org. See: https://github.com/scikit-learn/scikit-learn/issues/21755 */display: inline-block !important;position: relative;}#sk-container-id-4 div.sk-text-repr-fallback {display: none;}</style><div id=\"sk-container-id-4\" class=\"sk-top-container\"><div class=\"sk-text-repr-fallback\"><pre>RandomForestClassifier(class_weight={0: 0.05, 1: 0.3, 2: 0.2, 3: 0.3, 4: 0.15},\n",
       "                       max_depth=4, n_estimators=200, random_state=123)</pre><b>In a Jupyter environment, please rerun this cell to show the HTML representation or trust the notebook. <br />On GitHub, the HTML representation is unable to render, please try loading this page with nbviewer.org.</b></div><div class=\"sk-container\" hidden><div class=\"sk-item\"><div class=\"sk-estimator sk-toggleable\"><input class=\"sk-toggleable__control sk-hidden--visually\" id=\"sk-estimator-id-8\" type=\"checkbox\" checked><label for=\"sk-estimator-id-8\" class=\"sk-toggleable__label sk-toggleable__label-arrow\">RandomForestClassifier</label><div class=\"sk-toggleable__content\"><pre>RandomForestClassifier(class_weight={0: 0.05, 1: 0.3, 2: 0.2, 3: 0.3, 4: 0.15},\n",
       "                       max_depth=4, n_estimators=200, random_state=123)</pre></div></div></div></div></div>"
      ],
      "text/plain": [
       "RandomForestClassifier(class_weight={0: 0.05, 1: 0.3, 2: 0.2, 3: 0.3, 4: 0.15},\n",
       "                       max_depth=4, n_estimators=200, random_state=123)"
      ]
     },
     "execution_count": 61,
     "metadata": {},
     "output_type": "execute_result"
    }
   ],
   "source": [
    "rf_model = RandomForestClassifier(random_state = rs,\n",
    "                                  bootstrap = True,\n",
    "                                  class_weight= class_weight,\n",
    "                                  criterion = 'gini',\n",
    "                                  max_depth = 4,\n",
    "                                  n_estimators = 200)\n",
    "rf_model.fit(X_train_s,y_train)"
   ]
  },
  {
   "cell_type": "code",
   "execution_count": 62,
   "id": "326119a0",
   "metadata": {},
   "outputs": [
    {
     "data": {
      "text/plain": [
       "{'accuracy': 0.9490004527804838,\n",
       " 'precision': array([0.98890938, 0.99375434, 0.98519128, 0.99274885, 0.77783821]),\n",
       " 'Weighted precision': 0.9563683817182562,\n",
       " 'recall': array([0.9479002 , 0.95466667, 0.92364057, 1.        , 0.95388857]),\n",
       " 'Weighted recall': 0.9490004527804838,\n",
       " 'f1score': array([0.96797063, 0.97381843, 0.95342357, 0.99636123, 0.8569146 ]),\n",
       " 'Weighted f1score': 0.9509314632166822}"
      ]
     },
     "execution_count": 62,
     "metadata": {},
     "output_type": "execute_result"
    }
   ],
   "source": [
    "preds = rf_model.predict(X_test_s)\n",
    "randomforest = evaluate_metrics(y_test,preds)\n",
    "randomforest"
   ]
  },
  {
   "cell_type": "code",
   "execution_count": 63,
   "id": "0d70ac2d",
   "metadata": {},
   "outputs": [
    {
     "name": "stdout",
     "output_type": "stream",
     "text": [
      "              precision    recall  f1-score   support\n",
      "\n",
      "           0       0.99      0.95      0.97    117678\n",
      "           1       0.99      0.95      0.97      1500\n",
      "           2       0.99      0.92      0.95      2593\n",
      "           3       0.99      1.00      1.00      1506\n",
      "           4       0.78      0.95      0.86     22489\n",
      "\n",
      "    accuracy                           0.95    145766\n",
      "   macro avg       0.95      0.96      0.95    145766\n",
      "weighted avg       0.96      0.95      0.95    145766\n",
      "\n"
     ]
    },
    {
     "data": {
      "image/png": "[encoded data removed]",
      "text/plain": [
       "<Figure size 864x576 with 2 Axes>"
      ]
     },
     "metadata": {
      "needs_background": "light"
     },
     "output_type": "display_data"
    }
   ],
   "source": [
    "print(classification_report(y_test, preds))\n",
    "\n",
    "sns.set_context('talk')\n",
    "cm = confusion_matrix(y_test, preds)\n",
    "plt.figure(figsize = (12,8)) \n",
    "ax = sns.heatmap(cm, annot=True, fmt='d', cmap='copper',\n",
    "                xticklabels=['No Fault 0', 'Short-Circuit 1', 'Degradation 2','Open-Circuit 3','Shadowing 4'], \n",
    "                 yticklabels=['No Fault 0', 'Short-Circuit 1', 'Degradation 2','Open-Circuit 3','Shadowing 4'])\n",
    "ax.set(title=\"Random Forest Confusion Matrix\");\n",
    "ax.set_xlabel('Predicted');\n",
    "ax.set_ylabel('True');"
   ]
  },
  {
   "cell_type": "code",
   "execution_count": 64,
   "id": "b1a920b2",
   "metadata": {},
   "outputs": [
    {
     "data": {
      "text/plain": [
       "[0.9490004527804838,\n",
       " 0.9563683817182562,\n",
       " 0.9490004527804838,\n",
       " 0.9509314632166822]"
      ]
     },
     "execution_count": 64,
     "metadata": {},
     "output_type": "execute_result"
    }
   ],
   "source": [
    "#Storing evaluation metrics (average values)\n",
    "rf_results = list()\n",
    "for key in keys:\n",
    "       rf_results.append(randomforest.get(key))\n",
    "rf_results "
   ]
  },
  {
   "cell_type": "code",
   "execution_count": 65,
   "id": "6701f8a1",
   "metadata": {},
   "outputs": [
    {
     "data": {
      "text/plain": [
       "[array([0.98890938, 0.99375434, 0.98519128, 0.99274885, 0.77783821]),\n",
       " array([0.9479002 , 0.95466667, 0.92364057, 1.        , 0.95388857]),\n",
       " array([0.96797063, 0.97381843, 0.95342357, 0.99636123, 0.8569146 ])]"
      ]
     },
     "execution_count": 65,
     "metadata": {},
     "output_type": "execute_result"
    }
   ],
   "source": [
    "# storing evaluation metrics (per class)\n",
    "rf_rpf = []\n",
    "for element in elements:\n",
    "       rf_rpf.append(randomforest.get(element))\n",
    "rf_rpf  "
   ]
  },
  {
   "cell_type": "code",
   "execution_count": 66,
   "id": "d6d3824b",
   "metadata": {},
   "outputs": [],
   "source": [
    "# pickle.dump(search_rf, open('search_rf.p','wb')) # write it as bytes\n",
    "pickle.dump(rf_model, open('rf_model.p','wb')) # write it as bytes"
   ]
  },
  {
   "cell_type": "code",
   "execution_count": 67,
   "id": "ec42d564",
   "metadata": {},
   "outputs": [
    {
     "data": {
      "text/html": [
       "<div>\n",
       "<style scoped>\n",
       "    .dataframe tbody tr th:only-of-type {\n",
       "        vertical-align: middle;\n",
       "    }\n",
       "\n",
       "    .dataframe tbody tr th {\n",
       "        vertical-align: top;\n",
       "    }\n",
       "\n",
       "    .dataframe thead th {\n",
       "        text-align: right;\n",
       "    }\n",
       "</style>\n",
       "<table border=\"1\" class=\"dataframe\">\n",
       "  <thead>\n",
       "    <tr style=\"text-align: right;\">\n",
       "      <th></th>\n",
       "      <th>Logistic Regression</th>\n",
       "      <th>Decision Tree</th>\n",
       "      <th>Random Forest</th>\n",
       "    </tr>\n",
       "    <tr>\n",
       "      <th>Metric</th>\n",
       "      <th></th>\n",
       "      <th></th>\n",
       "      <th></th>\n",
       "    </tr>\n",
       "  </thead>\n",
       "  <tbody>\n",
       "    <tr>\n",
       "      <th>Accuracy</th>\n",
       "      <td>0.928221</td>\n",
       "      <td>0.968264</td>\n",
       "      <td>0.949000</td>\n",
       "    </tr>\n",
       "    <tr>\n",
       "      <th>Weighted Precision</th>\n",
       "      <td>0.933172</td>\n",
       "      <td>0.971051</td>\n",
       "      <td>0.956368</td>\n",
       "    </tr>\n",
       "    <tr>\n",
       "      <th>Weighted Recall</th>\n",
       "      <td>0.928221</td>\n",
       "      <td>0.968264</td>\n",
       "      <td>0.949000</td>\n",
       "    </tr>\n",
       "    <tr>\n",
       "      <th>Weighted F1score</th>\n",
       "      <td>0.930049</td>\n",
       "      <td>0.968989</td>\n",
       "      <td>0.950931</td>\n",
       "    </tr>\n",
       "  </tbody>\n",
       "</table>\n",
       "</div>"
      ],
      "text/plain": [
       "                     Logistic Regression  Decision Tree  Random Forest\n",
       "Metric                                                                \n",
       "Accuracy                        0.928221       0.968264       0.949000\n",
       " Weighted Precision             0.933172       0.971051       0.956368\n",
       "Weighted Recall                 0.928221       0.968264       0.949000\n",
       "Weighted F1score                0.930049       0.968989       0.950931"
      ]
     },
     "metadata": {},
     "output_type": "display_data"
    }
   ],
   "source": [
    "final_results= {\n",
    "    'Metric': ['Accuracy',' Weighted Precision','Weighted Recall','Weighted F1score'],\n",
    "    'Logistic Regression' :lr_results,\n",
    "    'Decision Tree'       :dt_results,\n",
    "    'Random Forest'      :rf_results}\n",
    "final_results = pd.DataFrame(final_results).set_index('Metric')\n",
    "display(final_results)"
   ]
  },
  {
   "cell_type": "code",
   "execution_count": 68,
   "id": "97ba924e",
   "metadata": {},
   "outputs": [
    {
     "data": {
      "text/html": [
       "<div>\n",
       "<style scoped>\n",
       "    .dataframe tbody tr th:only-of-type {\n",
       "        vertical-align: middle;\n",
       "    }\n",
       "\n",
       "    .dataframe tbody tr th {\n",
       "        vertical-align: top;\n",
       "    }\n",
       "\n",
       "    .dataframe thead th {\n",
       "        text-align: right;\n",
       "    }\n",
       "</style>\n",
       "<table border=\"1\" class=\"dataframe\">\n",
       "  <thead>\n",
       "    <tr style=\"text-align: right;\">\n",
       "      <th>classes</th>\n",
       "      <th>0</th>\n",
       "      <th>1</th>\n",
       "      <th>2</th>\n",
       "      <th>3</th>\n",
       "      <th>4</th>\n",
       "    </tr>\n",
       "  </thead>\n",
       "  <tbody>\n",
       "    <tr>\n",
       "      <th>LR Precision</th>\n",
       "      <td>0.968607</td>\n",
       "      <td>0.972621</td>\n",
       "      <td>0.977138</td>\n",
       "      <td>0.990138</td>\n",
       "      <td>0.736238</td>\n",
       "    </tr>\n",
       "    <tr>\n",
       "      <th>LR Recall</th>\n",
       "      <td>0.943099</td>\n",
       "      <td>0.994667</td>\n",
       "      <td>0.956035</td>\n",
       "      <td>1.000000</td>\n",
       "      <td>0.837921</td>\n",
       "    </tr>\n",
       "    <tr>\n",
       "      <th>LR F1score</th>\n",
       "      <td>0.955683</td>\n",
       "      <td>0.983520</td>\n",
       "      <td>0.966472</td>\n",
       "      <td>0.995045</td>\n",
       "      <td>0.783795</td>\n",
       "    </tr>\n",
       "    <tr>\n",
       "      <th>DT Precision</th>\n",
       "      <td>0.993742</td>\n",
       "      <td>0.968811</td>\n",
       "      <td>0.910293</td>\n",
       "      <td>0.996029</td>\n",
       "      <td>0.857797</td>\n",
       "    </tr>\n",
       "    <tr>\n",
       "      <th>DT Recall</th>\n",
       "      <td>0.967530</td>\n",
       "      <td>0.994000</td>\n",
       "      <td>0.982260</td>\n",
       "      <td>0.999336</td>\n",
       "      <td>0.966695</td>\n",
       "    </tr>\n",
       "    <tr>\n",
       "      <th>DT F1score</th>\n",
       "      <td>0.980461</td>\n",
       "      <td>0.981244</td>\n",
       "      <td>0.944908</td>\n",
       "      <td>0.997680</td>\n",
       "      <td>0.908996</td>\n",
       "    </tr>\n",
       "    <tr>\n",
       "      <th>RF Precision</th>\n",
       "      <td>0.988909</td>\n",
       "      <td>0.993754</td>\n",
       "      <td>0.985191</td>\n",
       "      <td>0.992749</td>\n",
       "      <td>0.777838</td>\n",
       "    </tr>\n",
       "    <tr>\n",
       "      <th>RF Recall</th>\n",
       "      <td>0.947900</td>\n",
       "      <td>0.954667</td>\n",
       "      <td>0.923641</td>\n",
       "      <td>1.000000</td>\n",
       "      <td>0.953889</td>\n",
       "    </tr>\n",
       "    <tr>\n",
       "      <th>RF F1 score</th>\n",
       "      <td>0.967971</td>\n",
       "      <td>0.973818</td>\n",
       "      <td>0.953424</td>\n",
       "      <td>0.996361</td>\n",
       "      <td>0.856915</td>\n",
       "    </tr>\n",
       "  </tbody>\n",
       "</table>\n",
       "</div>"
      ],
      "text/plain": [
       "classes              0         1         2         3         4\n",
       "LR Precision  0.968607  0.972621  0.977138  0.990138  0.736238\n",
       "LR Recall     0.943099  0.994667  0.956035  1.000000  0.837921\n",
       "LR F1score    0.955683  0.983520  0.966472  0.995045  0.783795\n",
       "DT Precision  0.993742  0.968811  0.910293  0.996029  0.857797\n",
       "DT Recall     0.967530  0.994000  0.982260  0.999336  0.966695\n",
       "DT F1score    0.980461  0.981244  0.944908  0.997680  0.908996\n",
       "RF Precision  0.988909  0.993754  0.985191  0.992749  0.777838\n",
       "RF Recall     0.947900  0.954667  0.923641  1.000000  0.953889\n",
       "RF F1 score   0.967971  0.973818  0.953424  0.996361  0.856915"
      ]
     },
     "execution_count": 68,
     "metadata": {},
     "output_type": "execute_result"
    }
   ],
   "source": [
    "final_results_per_class = {\n",
    "    'classes': [0,1,2,3,4],\n",
    "    'LR Precision' :lr_rpf[0],\n",
    "    'LR Recall' :lr_rpf[1],\n",
    "    'LR F1score' :lr_rpf[2],\n",
    "    'DT Precision':dt_rpf[0],\n",
    "    'DT Recall':dt_rpf[1],\n",
    "    'DT F1score':dt_rpf[2],\n",
    "    'RF Precision':rf_rpf[0],\n",
    "    'RF Recall':rf_rpf[1],\n",
    "    'RF F1 score':rf_rpf[2]}\n",
    "final_results_per_class = pd.DataFrame(final_results_per_class).set_index('classes')\n",
    "final_results_per_class.T"
   ]
  },
  {
   "cell_type": "markdown",
   "id": "8d115207",
   "metadata": {},
   "source": [
    "### 3 - Key Findings \n",
    "**A - The dataset is extremely skewed toward 'no fault'.**<br>\n",
    "**B - Decision Tree and Random Forest models performed very well in the validation set.**<br>\n",
    "**C - In terms of performance, Decision Tree is the best algorithm to use, then Random Forest, and lastly Logistic Regression.** "
   ]
  },
  {
   "cell_type": "markdown",
   "id": "0214f19c",
   "metadata": {},
   "source": [
    "### 4 - Possible Flaws & Suggestions for Future Work\n",
    "**A - Reweighting was the best option to deal with the imbalanced data. However, there might be a room for rebalancing improvement.**<br>\n",
    "**B - Logistic Regression model has a problem identifying class '4', because class '4' has a recall of 0.63 only.**<br>\n",
    "**C - The frequency of measuring the PV panels attributes can be adjusted. Because within 16 days they measured 1,373,798 times, i.e., one measurement every second. Although it is adapting real-life scenarios, I recommend to reduce the capturing frequency to avoid plateauing the dataset with no fault status. if measurements are taken every two seconds, the dataset size will be reduced into half and same goal can be acheived.**<br>\n",
    "**D - The major confusion is between class 0 and 4.**<br>"
   ]
  },
  {
   "cell_type": "markdown",
   "id": "a4b42879",
   "metadata": {},
   "source": [
    "#### References\n",
    "[1] Lazzaretti, A. E., Costa, C. H. D., Rodrigues, M. P., Yamada, G. D., Lexinoski, G., Moritz, G. L., Oroski, E., Goes, R. E. D., Linhares, R. R., Stadzisz, P. C., Omori, J. S., & Santos, R. B. D. (2020). A Monitoring System for Online Fault Detection and Classification in Photovoltaic Plants. Sensors, 20(17), 4688. https://doi.org/10.3390/s20174688\n",
    "dataset link : https://github.com/clayton-h-costa/pv_fault_dataset"
   ]
  }
 ],
 "metadata": {
  "kernelspec": {
   "display_name": "Python 3 (ipykernel)",
   "language": "python",
   "name": "python3"
  },
  "language_info": {
   "codemirror_mode": {
    "name": "ipython",
    "version": 3
   },
   "file_extension": ".py",
   "mimetype": "text/x-python",
   "name": "python",
   "nbconvert_exporter": "python",
   "pygments_lexer": "ipython3",
   "version": "3.9.12"
  }
 },
 "nbformat": 4,
 "nbformat_minor": 5
}
