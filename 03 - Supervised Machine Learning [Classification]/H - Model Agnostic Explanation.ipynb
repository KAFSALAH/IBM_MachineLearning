{
 "cells": [
  {
   "cell_type": "markdown",
   "metadata": {},
   "source": [
    "<p style=\"text-align:center\">\n",
    "    <a href=\"https://skills.network/?utm_medium=Exinfluencer&utm_source=Exinfluencer&utm_content=000026UJ&utm_term=10006555&utm_id=NA-SkillsNetwork-Channel-SkillsNetworkCoursesIBMML241ENSkillsNetwork31576874-2022-01-01\" target=\"_blank\">\n",
    "    <img src=\"https://cf-courses-data.s3.us.cloud-object-storage.appdomain.cloud/assets/logos/SN_web_lightmode.png\" width=\"200\" alt=\"Skills Network Logo\"  />\n",
    "    </a>\n",
    "</p>\n"
   ]
  },
  {
   "cell_type": "markdown",
   "metadata": {},
   "source": [
    "# **Model-agnostic Explanations**\n"
   ]
  },
  {
   "cell_type": "markdown",
   "metadata": {},
   "source": [
    "Estimated time needed: **45** minutes\n"
   ]
  },
  {
   "cell_type": "markdown",
   "metadata": {},
   "source": [
    "In this lab, we will first train a random forest model to predict if employees are looking for a job change, then we want to interpret the trained model in order to understand how exactly it makes predictions. Since random forest model is normally very complex to understand, we will just treat it as a black-box model first. Then, you will have the practice opportunities to apply various model-agnostic explanation methods to explain the black-box model.\n"
   ]
  },
  {
   "cell_type": "markdown",
   "metadata": {},
   "source": [
    "## Objectives\n"
   ]
  },
  {
   "cell_type": "markdown",
   "metadata": {},
   "source": [
    "After completing this lab you will be able to:\n"
   ]
  },
  {
   "cell_type": "markdown",
   "metadata": {},
   "source": [
    "*   Calculate Permutation Feature Importance\n",
    "*   Use Partial Dependency Plot to illustrate relationships between feature and outcomes\n",
    "*   Build Global Surrogate Models\n",
    "*   Build Local Surrogate Models using `LIME`\n"
   ]
  },
  {
   "cell_type": "markdown",
   "metadata": {},
   "source": [
    "***\n"
   ]
  },
  {
   "cell_type": "markdown",
   "metadata": {},
   "source": [
    "## Setup\n"
   ]
  },
  {
   "cell_type": "markdown",
   "metadata": {},
   "source": [
    "Let's first import required Python packages for this lab:\n"
   ]
  },
  {
   "cell_type": "code",
   "execution_count": 1,
   "metadata": {},
   "outputs": [
    {
     "name": "stdout",
     "output_type": "stream",
     "text": [
      "Requirement already satisfied: lime==0.2.0.1 in /opt/anaconda3/lib/python3.9/site-packages (0.2.0.1)\n",
      "Requirement already satisfied: tqdm in /opt/anaconda3/lib/python3.9/site-packages (from lime==0.2.0.1) (4.64.0)\n",
      "Requirement already satisfied: numpy in /opt/anaconda3/lib/python3.9/site-packages (from lime==0.2.0.1) (1.21.5)\n",
      "Requirement already satisfied: scikit-learn>=0.18 in /opt/anaconda3/lib/python3.9/site-packages (from lime==0.2.0.1) (1.0.2)\n",
      "Requirement already satisfied: matplotlib in /opt/anaconda3/lib/python3.9/site-packages (from lime==0.2.0.1) (3.5.1)\n",
      "Requirement already satisfied: scipy in /opt/anaconda3/lib/python3.9/site-packages (from lime==0.2.0.1) (1.7.3)\n",
      "Requirement already satisfied: scikit-image>=0.12 in /opt/anaconda3/lib/python3.9/site-packages (from lime==0.2.0.1) (0.19.2)\n",
      "Requirement already satisfied: PyWavelets>=1.1.1 in /opt/anaconda3/lib/python3.9/site-packages (from scikit-image>=0.12->lime==0.2.0.1) (1.3.0)\n",
      "Requirement already satisfied: packaging>=20.0 in /opt/anaconda3/lib/python3.9/site-packages (from scikit-image>=0.12->lime==0.2.0.1) (21.3)\n",
      "Requirement already satisfied: networkx>=2.2 in /opt/anaconda3/lib/python3.9/site-packages (from scikit-image>=0.12->lime==0.2.0.1) (2.7.1)\n",
      "Requirement already satisfied: imageio>=2.4.1 in /opt/anaconda3/lib/python3.9/site-packages (from scikit-image>=0.12->lime==0.2.0.1) (2.9.0)\n",
      "Requirement already satisfied: tifffile>=2019.7.26 in /opt/anaconda3/lib/python3.9/site-packages (from scikit-image>=0.12->lime==0.2.0.1) (2021.7.2)\n",
      "Requirement already satisfied: pillow!=7.1.0,!=7.1.1,!=8.3.0,>=6.1.0 in /opt/anaconda3/lib/python3.9/site-packages (from scikit-image>=0.12->lime==0.2.0.1) (9.0.1)\n",
      "Requirement already satisfied: pyparsing!=3.0.5,>=2.0.2 in /opt/anaconda3/lib/python3.9/site-packages (from packaging>=20.0->scikit-image>=0.12->lime==0.2.0.1) (3.0.4)\n",
      "Requirement already satisfied: threadpoolctl>=2.0.0 in /opt/anaconda3/lib/python3.9/site-packages (from scikit-learn>=0.18->lime==0.2.0.1) (2.2.0)\n",
      "Requirement already satisfied: joblib>=0.11 in /opt/anaconda3/lib/python3.9/site-packages (from scikit-learn>=0.18->lime==0.2.0.1) (1.1.0)\n",
      "Requirement already satisfied: fonttools>=4.22.0 in /opt/anaconda3/lib/python3.9/site-packages (from matplotlib->lime==0.2.0.1) (4.25.0)\n",
      "Requirement already satisfied: python-dateutil>=2.7 in /opt/anaconda3/lib/python3.9/site-packages (from matplotlib->lime==0.2.0.1) (2.8.2)\n",
      "Requirement already satisfied: cycler>=0.10 in /opt/anaconda3/lib/python3.9/site-packages (from matplotlib->lime==0.2.0.1) (0.11.0)\n",
      "Requirement already satisfied: kiwisolver>=1.0.1 in /opt/anaconda3/lib/python3.9/site-packages (from matplotlib->lime==0.2.0.1) (1.3.2)\n",
      "Requirement already satisfied: six>=1.5 in /opt/anaconda3/lib/python3.9/site-packages (from python-dateutil>=2.7->matplotlib->lime==0.2.0.1) (1.16.0)\n"
     ]
    }
   ],
   "source": [
    "# All Libraries required for this lab are listed below. The libraries pre-installed on Skills Network Labs are commented.\n",
    "# !mamba install -qy pandas==1.3.3 numpy==1.21.2 ipywidgets==7.4.2 scipy==7.4.2 tqdm==4.62.3 matplotlib==3.5.0 seaborn==0.9.0\n",
    "\n",
    "# install imbalanced-learn package\n",
    "!pip install lime==0.2.0.1\n",
    "\n",
    "# Note: If your environment doesn't support \"!mamba install\", use \"!pip install\" "
   ]
  },
  {
   "cell_type": "markdown",
   "metadata": {},
   "source": [
    "And then import the required Python packages.\n"
   ]
  },
  {
   "cell_type": "code",
   "execution_count": 2,
   "metadata": {},
   "outputs": [],
   "source": [
    "## Import packages here\n",
    "import pandas as pd\n",
    "import numpy as np \n",
    "import matplotlib.pyplot as plt\n",
    "import lime.lime_tabular\n",
    "\n",
    "from sklearn import metrics\n",
    "from sklearn.ensemble import RandomForestClassifier\n",
    "from sklearn.preprocessing import MinMaxScaler, StandardScaler\n",
    "from sklearn.model_selection import train_test_split\n",
    "from sklearn.linear_model import LogisticRegression\n",
    "from sklearn.tree import DecisionTreeClassifier, export_text, export_graphviz, plot_tree\n",
    "from sklearn.inspection import permutation_importance, plot_partial_dependence\n",
    "from sklearn.inspection import PartialDependenceDisplay # The updated version"
   ]
  },
  {
   "cell_type": "markdown",
   "metadata": {},
   "source": [
    "Then, let's load the dataset to be used in this lab.\n"
   ]
  },
  {
   "cell_type": "code",
   "execution_count": 3,
   "metadata": {},
   "outputs": [],
   "source": [
    "url=\"https://cf-courses-data.s3.us.cloud-object-storage.appdomain.cloud/IBM-ML201EN-SkillsNetwork/labs/module_4/datasets/hr_new_job_processed.csv\"\n",
    "job_df=pd.read_csv(url)"
   ]
  },
  {
   "cell_type": "code",
   "execution_count": 4,
   "metadata": {},
   "outputs": [
    {
     "data": {
      "text/html": [
       "<div>\n",
       "<style scoped>\n",
       "    .dataframe tbody tr th:only-of-type {\n",
       "        vertical-align: middle;\n",
       "    }\n",
       "\n",
       "    .dataframe tbody tr th {\n",
       "        vertical-align: top;\n",
       "    }\n",
       "\n",
       "    .dataframe thead th {\n",
       "        text-align: right;\n",
       "    }\n",
       "</style>\n",
       "<table border=\"1\" class=\"dataframe\">\n",
       "  <thead>\n",
       "    <tr style=\"text-align: right;\">\n",
       "      <th></th>\n",
       "      <th>city_development_index</th>\n",
       "      <th>training_hours</th>\n",
       "      <th>company_size</th>\n",
       "      <th>experience</th>\n",
       "      <th>education_level</th>\n",
       "      <th>company_type_Early Stage Startup</th>\n",
       "      <th>company_type_Funded Startup</th>\n",
       "      <th>company_type_NGO</th>\n",
       "      <th>company_type_Other</th>\n",
       "      <th>company_type_Public Sector</th>\n",
       "      <th>company_type_Pvt Ltd</th>\n",
       "      <th>target</th>\n",
       "    </tr>\n",
       "  </thead>\n",
       "  <tbody>\n",
       "    <tr>\n",
       "      <th>0</th>\n",
       "      <td>0.698000</td>\n",
       "      <td>43.000000</td>\n",
       "      <td>2.0</td>\n",
       "      <td>10.0</td>\n",
       "      <td>3.0</td>\n",
       "      <td>0.0</td>\n",
       "      <td>0.0</td>\n",
       "      <td>0.0</td>\n",
       "      <td>0.0</td>\n",
       "      <td>0.0</td>\n",
       "      <td>1.0</td>\n",
       "      <td>0.0</td>\n",
       "    </tr>\n",
       "    <tr>\n",
       "      <th>1</th>\n",
       "      <td>0.624000</td>\n",
       "      <td>204.000000</td>\n",
       "      <td>4.0</td>\n",
       "      <td>11.0</td>\n",
       "      <td>2.0</td>\n",
       "      <td>0.0</td>\n",
       "      <td>0.0</td>\n",
       "      <td>0.0</td>\n",
       "      <td>0.0</td>\n",
       "      <td>0.0</td>\n",
       "      <td>1.0</td>\n",
       "      <td>1.0</td>\n",
       "    </tr>\n",
       "    <tr>\n",
       "      <th>2</th>\n",
       "      <td>0.815687</td>\n",
       "      <td>14.317001</td>\n",
       "      <td>3.0</td>\n",
       "      <td>15.0</td>\n",
       "      <td>2.0</td>\n",
       "      <td>0.0</td>\n",
       "      <td>0.0</td>\n",
       "      <td>0.0</td>\n",
       "      <td>0.0</td>\n",
       "      <td>0.0</td>\n",
       "      <td>1.0</td>\n",
       "      <td>1.0</td>\n",
       "    </tr>\n",
       "    <tr>\n",
       "      <th>3</th>\n",
       "      <td>0.903874</td>\n",
       "      <td>18.000000</td>\n",
       "      <td>2.0</td>\n",
       "      <td>5.0</td>\n",
       "      <td>2.0</td>\n",
       "      <td>0.0</td>\n",
       "      <td>0.0</td>\n",
       "      <td>0.0</td>\n",
       "      <td>0.0</td>\n",
       "      <td>0.0</td>\n",
       "      <td>1.0</td>\n",
       "      <td>1.0</td>\n",
       "    </tr>\n",
       "    <tr>\n",
       "      <th>4</th>\n",
       "      <td>0.624000</td>\n",
       "      <td>111.000000</td>\n",
       "      <td>0.0</td>\n",
       "      <td>7.0</td>\n",
       "      <td>2.0</td>\n",
       "      <td>1.0</td>\n",
       "      <td>0.0</td>\n",
       "      <td>0.0</td>\n",
       "      <td>0.0</td>\n",
       "      <td>0.0</td>\n",
       "      <td>0.0</td>\n",
       "      <td>1.0</td>\n",
       "    </tr>\n",
       "  </tbody>\n",
       "</table>\n",
       "</div>"
      ],
      "text/plain": [
       "   city_development_index  training_hours  company_size  experience  \\\n",
       "0                0.698000       43.000000           2.0        10.0   \n",
       "1                0.624000      204.000000           4.0        11.0   \n",
       "2                0.815687       14.317001           3.0        15.0   \n",
       "3                0.903874       18.000000           2.0         5.0   \n",
       "4                0.624000      111.000000           0.0         7.0   \n",
       "\n",
       "   education_level  company_type_Early Stage Startup  \\\n",
       "0              3.0                               0.0   \n",
       "1              2.0                               0.0   \n",
       "2              2.0                               0.0   \n",
       "3              2.0                               0.0   \n",
       "4              2.0                               1.0   \n",
       "\n",
       "   company_type_Funded Startup  company_type_NGO  company_type_Other  \\\n",
       "0                          0.0               0.0                 0.0   \n",
       "1                          0.0               0.0                 0.0   \n",
       "2                          0.0               0.0                 0.0   \n",
       "3                          0.0               0.0                 0.0   \n",
       "4                          0.0               0.0                 0.0   \n",
       "\n",
       "   company_type_Public Sector  company_type_Pvt Ltd  target  \n",
       "0                         0.0                   1.0     0.0  \n",
       "1                         0.0                   1.0     1.0  \n",
       "2                         0.0                   1.0     1.0  \n",
       "3                         0.0                   1.0     1.0  \n",
       "4                         0.0                   0.0     1.0  "
      ]
     },
     "execution_count": 4,
     "metadata": {},
     "output_type": "execute_result"
    }
   ],
   "source": [
    "job_df.head()"
   ]
  },
  {
   "cell_type": "code",
   "execution_count": 5,
   "metadata": {},
   "outputs": [
    {
     "data": {
      "text/html": [
       "<div>\n",
       "<style scoped>\n",
       "    .dataframe tbody tr th:only-of-type {\n",
       "        vertical-align: middle;\n",
       "    }\n",
       "\n",
       "    .dataframe tbody tr th {\n",
       "        vertical-align: top;\n",
       "    }\n",
       "\n",
       "    .dataframe thead th {\n",
       "        text-align: right;\n",
       "    }\n",
       "</style>\n",
       "<table border=\"1\" class=\"dataframe\">\n",
       "  <thead>\n",
       "    <tr style=\"text-align: right;\">\n",
       "      <th></th>\n",
       "      <th>city_development_index</th>\n",
       "      <th>training_hours</th>\n",
       "      <th>company_size</th>\n",
       "      <th>experience</th>\n",
       "      <th>education_level</th>\n",
       "      <th>company_type_Early Stage Startup</th>\n",
       "      <th>company_type_Funded Startup</th>\n",
       "      <th>company_type_NGO</th>\n",
       "      <th>company_type_Other</th>\n",
       "      <th>company_type_Public Sector</th>\n",
       "      <th>company_type_Pvt Ltd</th>\n",
       "      <th>target</th>\n",
       "    </tr>\n",
       "  </thead>\n",
       "  <tbody>\n",
       "    <tr>\n",
       "      <th>count</th>\n",
       "      <td>11504.000000</td>\n",
       "      <td>11504.000000</td>\n",
       "      <td>11504.000000</td>\n",
       "      <td>11504.000000</td>\n",
       "      <td>11504.000000</td>\n",
       "      <td>11504.000000</td>\n",
       "      <td>11504.000000</td>\n",
       "      <td>11504.000000</td>\n",
       "      <td>11504.000000</td>\n",
       "      <td>11504.000000</td>\n",
       "      <td>11504.000000</td>\n",
       "      <td>11504.000000</td>\n",
       "    </tr>\n",
       "    <tr>\n",
       "      <th>mean</th>\n",
       "      <td>0.806056</td>\n",
       "      <td>64.380421</td>\n",
       "      <td>2.748997</td>\n",
       "      <td>9.530985</td>\n",
       "      <td>2.131568</td>\n",
       "      <td>0.029180</td>\n",
       "      <td>0.042537</td>\n",
       "      <td>0.023619</td>\n",
       "      <td>0.005557</td>\n",
       "      <td>0.045442</td>\n",
       "      <td>0.853665</td>\n",
       "      <td>0.500000</td>\n",
       "    </tr>\n",
       "    <tr>\n",
       "      <th>std</th>\n",
       "      <td>0.128302</td>\n",
       "      <td>59.048600</td>\n",
       "      <td>1.783676</td>\n",
       "      <td>6.733267</td>\n",
       "      <td>0.627610</td>\n",
       "      <td>0.161802</td>\n",
       "      <td>0.197495</td>\n",
       "      <td>0.147348</td>\n",
       "      <td>0.070875</td>\n",
       "      <td>0.200717</td>\n",
       "      <td>0.342167</td>\n",
       "      <td>0.500022</td>\n",
       "    </tr>\n",
       "    <tr>\n",
       "      <th>min</th>\n",
       "      <td>0.448000</td>\n",
       "      <td>1.000000</td>\n",
       "      <td>0.000000</td>\n",
       "      <td>0.000000</td>\n",
       "      <td>0.000000</td>\n",
       "      <td>0.000000</td>\n",
       "      <td>0.000000</td>\n",
       "      <td>0.000000</td>\n",
       "      <td>0.000000</td>\n",
       "      <td>0.000000</td>\n",
       "      <td>0.000000</td>\n",
       "      <td>0.000000</td>\n",
       "    </tr>\n",
       "    <tr>\n",
       "      <th>25%</th>\n",
       "      <td>0.682000</td>\n",
       "      <td>23.000000</td>\n",
       "      <td>2.000000</td>\n",
       "      <td>4.000000</td>\n",
       "      <td>2.000000</td>\n",
       "      <td>0.000000</td>\n",
       "      <td>0.000000</td>\n",
       "      <td>0.000000</td>\n",
       "      <td>0.000000</td>\n",
       "      <td>0.000000</td>\n",
       "      <td>1.000000</td>\n",
       "      <td>0.000000</td>\n",
       "    </tr>\n",
       "    <tr>\n",
       "      <th>50%</th>\n",
       "      <td>0.878000</td>\n",
       "      <td>46.000000</td>\n",
       "      <td>2.000000</td>\n",
       "      <td>8.000000</td>\n",
       "      <td>2.000000</td>\n",
       "      <td>0.000000</td>\n",
       "      <td>0.000000</td>\n",
       "      <td>0.000000</td>\n",
       "      <td>0.000000</td>\n",
       "      <td>0.000000</td>\n",
       "      <td>1.000000</td>\n",
       "      <td>0.500000</td>\n",
       "    </tr>\n",
       "    <tr>\n",
       "      <th>75%</th>\n",
       "      <td>0.920000</td>\n",
       "      <td>88.000000</td>\n",
       "      <td>3.000000</td>\n",
       "      <td>15.000000</td>\n",
       "      <td>2.247823</td>\n",
       "      <td>0.000000</td>\n",
       "      <td>0.000000</td>\n",
       "      <td>0.000000</td>\n",
       "      <td>0.000000</td>\n",
       "      <td>0.000000</td>\n",
       "      <td>1.000000</td>\n",
       "      <td>1.000000</td>\n",
       "    </tr>\n",
       "    <tr>\n",
       "      <th>max</th>\n",
       "      <td>0.949000</td>\n",
       "      <td>336.000000</td>\n",
       "      <td>7.000000</td>\n",
       "      <td>21.000000</td>\n",
       "      <td>4.000000</td>\n",
       "      <td>1.000000</td>\n",
       "      <td>1.000000</td>\n",
       "      <td>1.000000</td>\n",
       "      <td>1.000000</td>\n",
       "      <td>1.000000</td>\n",
       "      <td>1.000000</td>\n",
       "      <td>1.000000</td>\n",
       "    </tr>\n",
       "  </tbody>\n",
       "</table>\n",
       "</div>"
      ],
      "text/plain": [
       "       city_development_index  training_hours  company_size    experience  \\\n",
       "count            11504.000000    11504.000000  11504.000000  11504.000000   \n",
       "mean                 0.806056       64.380421      2.748997      9.530985   \n",
       "std                  0.128302       59.048600      1.783676      6.733267   \n",
       "min                  0.448000        1.000000      0.000000      0.000000   \n",
       "25%                  0.682000       23.000000      2.000000      4.000000   \n",
       "50%                  0.878000       46.000000      2.000000      8.000000   \n",
       "75%                  0.920000       88.000000      3.000000     15.000000   \n",
       "max                  0.949000      336.000000      7.000000     21.000000   \n",
       "\n",
       "       education_level  company_type_Early Stage Startup  \\\n",
       "count     11504.000000                      11504.000000   \n",
       "mean          2.131568                          0.029180   \n",
       "std           0.627610                          0.161802   \n",
       "min           0.000000                          0.000000   \n",
       "25%           2.000000                          0.000000   \n",
       "50%           2.000000                          0.000000   \n",
       "75%           2.247823                          0.000000   \n",
       "max           4.000000                          1.000000   \n",
       "\n",
       "       company_type_Funded Startup  company_type_NGO  company_type_Other  \\\n",
       "count                 11504.000000      11504.000000        11504.000000   \n",
       "mean                      0.042537          0.023619            0.005557   \n",
       "std                       0.197495          0.147348            0.070875   \n",
       "min                       0.000000          0.000000            0.000000   \n",
       "25%                       0.000000          0.000000            0.000000   \n",
       "50%                       0.000000          0.000000            0.000000   \n",
       "75%                       0.000000          0.000000            0.000000   \n",
       "max                       1.000000          1.000000            1.000000   \n",
       "\n",
       "       company_type_Public Sector  company_type_Pvt Ltd        target  \n",
       "count                11504.000000          11504.000000  11504.000000  \n",
       "mean                     0.045442              0.853665      0.500000  \n",
       "std                      0.200717              0.342167      0.500022  \n",
       "min                      0.000000              0.000000      0.000000  \n",
       "25%                      0.000000              1.000000      0.000000  \n",
       "50%                      0.000000              1.000000      0.500000  \n",
       "75%                      0.000000              1.000000      1.000000  \n",
       "max                      1.000000              1.000000      1.000000  "
      ]
     },
     "execution_count": 5,
     "metadata": {},
     "output_type": "execute_result"
    }
   ],
   "source": [
    "job_df.describe()"
   ]
  },
  {
   "cell_type": "markdown",
   "metadata": {},
   "source": [
    "The dataset contains the following features (predictors):\n",
    "\n",
    "*   `city_ development index` : Developement index of the city, ranged from 0 to 1\n",
    "*   `training_hours`: Training hours completed, ranged from 0 to 336\n",
    "*   `company_size`: Size of the current company, ranged from 0 to 7 where 0 means less than 10 employees and 7 means more than 10,000 employees\n",
    "*   `education_level`: Education level of the candidate, ranged from 0 to 4 where 0 means Primary School and 4 means Phd\n",
    "*   `experience`: Total experience in years, ranged from 0 to 21\n",
    "*   `company_type` : *Categorical column* with one-hot encodings. Type of current company:  'Pvt Ltd', 'Funded Startup', 'Early Stage Startup', 'Other', 'Public Sector', 'NGO'\n",
    "\n",
    "and the prediction outcome is:\n",
    "\n",
    "*   `target`: `0` – Not looking for a job change, `1` – Looking for a job change\n"
   ]
  },
  {
   "cell_type": "markdown",
   "metadata": {},
   "source": [
    "The predictive task is a straightforward binary classification task, more specifically, we want to use an employee's profile features to predict if he/she is looking for a job change or not.\n"
   ]
  },
  {
   "cell_type": "markdown",
   "metadata": {},
   "source": [
    "## Build a Random Forest classifier as the Black-box model\n"
   ]
  },
  {
   "cell_type": "markdown",
   "metadata": {},
   "source": [
    "### Split the training and testing datasets\n"
   ]
  },
  {
   "cell_type": "code",
   "execution_count": 6,
   "metadata": {},
   "outputs": [],
   "source": [
    "X = job_df.loc[:, job_df.columns != 'target']\n",
    "y = job_df[['target']]"
   ]
  },
  {
   "cell_type": "code",
   "execution_count": 7,
   "metadata": {},
   "outputs": [],
   "source": [
    "X_train, X_test, y_train, y_test = train_test_split(X, y, test_size=0.2, stratify=y, random_state = 12) "
   ]
  },
  {
   "cell_type": "markdown",
   "metadata": {},
   "source": [
    "Now let's train a `Random Forest` model with the following preset arguments. If you like, you may also use hyperparameter tuning methods to tune these parameters yourself.\n",
    "\n",
    "*   `random_state = 123` as a random seed to reproduce the result\n",
    "*   `max_depth = 25` means the max depth of a tree should be less than 25\n",
    "*   `max_features = 10` means the random forest includes max 10 features\n",
    "*   `n_estimators = 100` means total 100 trees will be built\n",
    "*   `bootstrap = True` means bootstrap samples will be used to build trees\n"
   ]
  },
  {
   "cell_type": "code",
   "execution_count": 8,
   "metadata": {},
   "outputs": [
    {
     "data": {
      "text/plain": [
       "RandomForestClassifier(max_depth=25, max_features=10, random_state=123)"
      ]
     },
     "execution_count": 8,
     "metadata": {},
     "output_type": "execute_result"
    }
   ],
   "source": [
    "# Define a black-box random forest model\n",
    "black_box_model = RandomForestClassifier(random_state = 123, max_depth=25, \n",
    "                             max_features=10, n_estimators=100, \n",
    "                             bootstrap=True)\n",
    "# Train the model\n",
    "black_box_model.fit(X_train, y_train.values.ravel())"
   ]
  },
  {
   "cell_type": "markdown",
   "metadata": {},
   "source": [
    "Next, let's make some predictions and evalute the model using `AUC` score:\n"
   ]
  },
  {
   "cell_type": "code",
   "execution_count": 9,
   "metadata": {},
   "outputs": [],
   "source": [
    "#predicting test set\n",
    "y_blackbox = black_box_model.predict(X_test)"
   ]
  },
  {
   "cell_type": "code",
   "execution_count": 10,
   "metadata": {},
   "outputs": [
    {
     "data": {
      "text/plain": [
       "0.8131250708268802"
      ]
     },
     "execution_count": 10,
     "metadata": {},
     "output_type": "execute_result"
    }
   ],
   "source": [
    "metrics.roc_auc_score(y_test, y_blackbox)"
   ]
  },
  {
   "cell_type": "markdown",
   "metadata": {},
   "source": [
    "Your AUC score should be around `0.81`, which indicates the model is doing a very good job in the test dataset.\n"
   ]
  },
  {
   "cell_type": "markdown",
   "metadata": {},
   "source": [
    "Now we have a black-box random forest model trained, we want to use various model-agnostic methods to explain it.\n"
   ]
  },
  {
   "cell_type": "markdown",
   "metadata": {},
   "source": [
    "Note that if you prefer other binary classification models such as XGBoosting, you could train one here by yourself as well, and it won't affect\n",
    "the subsequent steps since our explanations are all model-agnostic.\n"
   ]
  },
  {
   "cell_type": "markdown",
   "metadata": {},
   "source": [
    "## Permutation Feature Importance\n"
   ]
  },
  {
   "cell_type": "markdown",
   "metadata": {},
   "source": [
    "One common way to explain a machine learning model is via finding its important features and **permutation feature importance** is a popular method to calculate feature importance.\n"
   ]
  },
  {
   "cell_type": "markdown",
   "metadata": {},
   "source": [
    "The basic idea of permutation feature importance is we shuffle interested feature values and make predictions using the shuffled values.\n",
    "**The feature importance will be measured by calculating the difference between the prediction errors before and after permutation.**\n"
   ]
  },
  {
   "cell_type": "markdown",
   "metadata": {},
   "source": [
    "In this lab, we will use `permutation_importance` function provided by `sklearn` to easily calculate importance for all features.\n"
   ]
  },
  {
   "cell_type": "markdown",
   "metadata": {},
   "source": [
    "You can call `permutation_importance` with the following key arguments:\n",
    "\n",
    "*   `estimator` the model to be estimated\n",
    "*   `X` training data X\n",
    "*   `y` target labels y\n",
    "*   `n_repeats`, Number of times to permute a feature, each permutation generates an importance value\n"
   ]
  },
  {
   "cell_type": "code",
   "execution_count": 11,
   "metadata": {},
   "outputs": [],
   "source": [
    "# Use permutation_importance to calculate permutation feature importances\n",
    "feature_importances = permutation_importance(estimator=black_box_model, X = X_train, y = y_train, n_repeats=5,\n",
    "                                random_state=123, n_jobs=2)"
   ]
  },
  {
   "cell_type": "markdown",
   "metadata": {},
   "source": [
    "Let's take a look at the generated importance results:\n"
   ]
  },
  {
   "cell_type": "code",
   "execution_count": 12,
   "metadata": {
    "scrolled": true
   },
   "outputs": [
    {
     "data": {
      "text/plain": [
       "(11, 5)"
      ]
     },
     "execution_count": 12,
     "metadata": {},
     "output_type": "execute_result"
    }
   ],
   "source": [
    "feature_importances.importances.shape"
   ]
  },
  {
   "cell_type": "code",
   "execution_count": 13,
   "metadata": {},
   "outputs": [
    {
     "data": {
      "text/plain": [
       "array([[0.30468326, 0.30109747, 0.30392263, 0.30174943, 0.30479192],\n",
       "       [0.15527545, 0.15103771, 0.15092904, 0.15190699, 0.15603608],\n",
       "       [0.18200587, 0.18309247, 0.18537433, 0.18254917, 0.18993806],\n",
       "       [0.15353689, 0.15114637, 0.15168967, 0.1472346 , 0.1562534 ],\n",
       "       [0.1201782 , 0.11789634, 0.11561447, 0.11659242, 0.11517983],\n",
       "       [0.00076062, 0.00065196, 0.00097794, 0.0005433 , 0.0005433 ],\n",
       "       [0.00206454, 0.00206454, 0.0021732 , 0.00206454, 0.0016299 ],\n",
       "       [0.00130392, 0.00141258, 0.00141258, 0.00152124, 0.00119526],\n",
       "       [0.00076062, 0.0005433 , 0.00065196, 0.0005433 , 0.0005433 ],\n",
       "       [0.00988808, 0.01043138, 0.00988808, 0.01097468, 0.01097468],\n",
       "       [0.04813648, 0.04857112, 0.04563729, 0.04704988, 0.04900576]])"
      ]
     },
     "execution_count": 13,
     "metadata": {},
     "output_type": "execute_result"
    }
   ],
   "source": [
    "feature_importances.importances"
   ]
  },
  {
   "cell_type": "markdown",
   "metadata": {},
   "source": [
    "It is a `11 x 5` numpy array, 11 means we have 11 features, and 5 represents the total number of permutation times.\n",
    "\n",
    "For each permutation, we will have a list of importance score calculated for each feature. The value represents the portion of increased prediction errors, important features will have larger values.\n"
   ]
  },
  {
   "cell_type": "markdown",
   "metadata": {},
   "source": [
    "However, the feature importance array above is very difficult to comprehend, let's sort and visualize it:\n"
   ]
  },
  {
   "cell_type": "code",
   "execution_count": 14,
   "metadata": {},
   "outputs": [],
   "source": [
    "def visualize_feature_importance(importance_array):\n",
    "    # Sort the array based on mean value\n",
    "    sorted_idx = importance_array.importances_mean.argsort()\n",
    "    # Visualize the feature importances using boxplot\n",
    "    fig, ax = plt.subplots()\n",
    "    fig.set_figwidth(16)\n",
    "    fig.set_figheight(10)\n",
    "    fig.tight_layout()\n",
    "    ax.boxplot(importance_array.importances[sorted_idx].T,\n",
    "               vert=False, labels=X_train.columns[sorted_idx])\n",
    "    ax.set_title(\"Permutation Importances (train set)\")\n",
    "    plt.show()"
   ]
  },
  {
   "cell_type": "code",
   "execution_count": 15,
   "metadata": {},
   "outputs": [
    {
     "data": {
      "image/png": "[encoded data removed]",
      "text/plain": [
       "<Figure size 1152x720 with 1 Axes>"
      ]
     },
     "metadata": {
      "needs_background": "light"
     },
     "output_type": "display_data"
    }
   ],
   "source": [
    "visualize_feature_importance(feature_importances)"
   ]
  },
  {
   "cell_type": "code",
   "execution_count": 16,
   "metadata": {},
   "outputs": [
    {
     "data": {
      "text/plain": [
       "city_development_index              0.318076\n",
       "training_hours                      0.239277\n",
       "company_size                        0.148100\n",
       "experience                          0.137617\n",
       "education_level                     0.097119\n",
       "company_type_Pvt Ltd                0.034708\n",
       "company_type_Public Sector          0.012199\n",
       "company_type_Funded Startup         0.004865\n",
       "company_type_NGO                    0.003307\n",
       "company_type_Early Stage Startup    0.002753\n",
       "company_type_Other                  0.001979\n",
       "dtype: float64"
      ]
     },
     "execution_count": 16,
     "metadata": {},
     "output_type": "execute_result"
    }
   ],
   "source": [
    "pd.Series(black_box_model.feature_importances_, index=X.columns).sort_values(ascending=False)\n",
    "# Checking by the privous lab code"
   ]
  },
  {
   "cell_type": "markdown",
   "metadata": {},
   "source": [
    "Now you should see a box plot show ranked feature importances, and we can see the most important features are `city_development_index`, `company_size`, `training_hours`, `experiences`, `education_level`, and so on, and you should have a general understanding of how the black-box model determines if an employee is looking for a new job or not.\n"
   ]
  },
  {
   "cell_type": "markdown",
   "metadata": {},
   "source": [
    "### Exercise: Use a different `n_repeats=10` to calculate and visualize feature importance values\n"
   ]
  },
  {
   "cell_type": "code",
   "execution_count": 17,
   "metadata": {},
   "outputs": [],
   "source": [
    "# Type your answer here\n",
    "# Update n_repeats=10 and recalculate and visualize feature importance\n",
    "# Use permutation_importance to calculate permutation feature importances\n",
    "feature_importances = permutation_importance(estimator=black_box_model, X = X_train, y = y_train, n_repeats=10,\n",
    "                                random_state=123, n_jobs=2)"
   ]
  },
  {
   "cell_type": "code",
   "execution_count": 18,
   "metadata": {},
   "outputs": [
    {
     "data": {
      "text/plain": [
       "(11, 10)"
      ]
     },
     "execution_count": 18,
     "metadata": {},
     "output_type": "execute_result"
    }
   ],
   "source": [
    "feature_importances.importances.shape"
   ]
  },
  {
   "cell_type": "code",
   "execution_count": 19,
   "metadata": {},
   "outputs": [
    {
     "data": {
      "text/plain": [
       "array([[0.30468326, 0.30109747, 0.30392263, 0.30174943, 0.30479192,\n",
       "        0.29892426, 0.30120613, 0.29359991, 0.30251005, 0.29349125],\n",
       "       [0.15527545, 0.15103771, 0.15092904, 0.15190699, 0.15603608,\n",
       "        0.15668804, 0.15277627, 0.15603608, 0.15147235, 0.15353689],\n",
       "       [0.18200587, 0.18309247, 0.18537433, 0.18254917, 0.18993806,\n",
       "        0.18059328, 0.18689558, 0.18124525, 0.18580898, 0.18689558],\n",
       "       [0.15353689, 0.15114637, 0.15168967, 0.1472346 , 0.1562534 ,\n",
       "        0.15266761, 0.14962512, 0.15636206, 0.15136369, 0.15571009],\n",
       "       [0.1201782 , 0.11789634, 0.11561447, 0.11659242, 0.11517983,\n",
       "        0.11333261, 0.11604911, 0.11583179, 0.11311529, 0.11735304],\n",
       "       [0.00076062, 0.00065196, 0.00097794, 0.0005433 , 0.0005433 ,\n",
       "        0.00076062, 0.00065196, 0.00097794, 0.00086928, 0.00076062],\n",
       "       [0.00206454, 0.00206454, 0.0021732 , 0.00206454, 0.0016299 ,\n",
       "        0.00195588, 0.0021732 , 0.00239052, 0.00228186, 0.00184722],\n",
       "       [0.00130392, 0.00141258, 0.00141258, 0.00152124, 0.00119526,\n",
       "        0.00141258, 0.00141258, 0.00141258, 0.00130392, 0.00130392],\n",
       "       [0.00076062, 0.0005433 , 0.00065196, 0.0005433 , 0.0005433 ,\n",
       "        0.0005433 , 0.00065196, 0.00065196, 0.0005433 , 0.0005433 ],\n",
       "       [0.00988808, 0.01043138, 0.00988808, 0.01097468, 0.01097468,\n",
       "        0.00977942, 0.0101054 , 0.01086602, 0.01086602, 0.01032272],\n",
       "       [0.04813648, 0.04857112, 0.04563729, 0.04704988, 0.04900576,\n",
       "        0.04672389, 0.04900576, 0.0478105 , 0.04824514, 0.04770184]])"
      ]
     },
     "execution_count": 19,
     "metadata": {},
     "output_type": "execute_result"
    }
   ],
   "source": [
    "feature_importances.importances"
   ]
  },
  {
   "cell_type": "code",
   "execution_count": 20,
   "metadata": {},
   "outputs": [
    {
     "data": {
      "image/png": "[encoded data removed]",
      "text/plain": [
       "<Figure size 1152x720 with 1 Axes>"
      ]
     },
     "metadata": {
      "needs_background": "light"
     },
     "output_type": "display_data"
    }
   ],
   "source": [
    "visualize_feature_importance(feature_importances)"
   ]
  },
  {
   "cell_type": "markdown",
   "metadata": {},
   "source": [
    "<details><summary>Click here for a sample solution</summary>\n",
    "\n",
    "```python\n",
    "feature_importances = permutation_importance(estimator=black_box_model, X = X_train, y = y_train, n_repeats=10,\n",
    "                                random_state=123, n_jobs=2)\n",
    "\n",
    "visualize_feature_importance(feature_importances)\n",
    "\n",
    "```\n",
    "\n",
    "</details>\n"
   ]
  },
  {
   "cell_type": "markdown",
   "metadata": {},
   "source": [
    "## Partial Dependency Plot (PDP)\n"
   ]
  },
  {
   "cell_type": "markdown",
   "metadata": {},
   "source": [
    "Partial Dependency Plot (PDP) is an effective way to illustrate the relationship between an interested feature and the model outcome. It essentially visualizes the marginal effects of a feature, that is, shows how the model outcome changes when a specific feature changes in its distribution.\n"
   ]
  },
  {
   "cell_type": "markdown",
   "metadata": {},
   "source": [
    "Since a machine learning model may include many features, and it is not feasible to create PDP for every single feature. Thus, we normally first find the most important features via ranking their feature importances. Then, we can only focus PDP on those important features.\n"
   ]
  },
  {
   "cell_type": "markdown",
   "metadata": {},
   "source": [
    "From the previous step, we know some important features are `city_development_index`, `company_size`, `experience`, `education_level`, and we can easily create PDP for those features using `plot_partial_dependence` in `sklearn` package.\n"
   ]
  },
  {
   "cell_type": "code",
   "execution_count": 21,
   "metadata": {
    "scrolled": true
   },
   "outputs": [
    {
     "name": "stderr",
     "output_type": "stream",
     "text": [
      "/opt/anaconda3/lib/python3.9/site-packages/sklearn/utils/deprecation.py:87: FutureWarning: Function plot_partial_dependence is deprecated; Function `plot_partial_dependence` is deprecated in 1.0 and will be removed in 1.2. Use PartialDependenceDisplay.from_estimator instead\n",
      "  warnings.warn(msg, category=FutureWarning)\n"
     ]
    },
    {
     "data": {
      "text/plain": [
       "<sklearn.inspection._plot.partial_dependence.PartialDependenceDisplay at 0x7fd96b71c6a0>"
      ]
     },
     "execution_count": 21,
     "metadata": {},
     "output_type": "execute_result"
    },
    {
     "data": {
      "image/png": "[encoded data removed]",
      "text/plain": [
       "<Figure size 432x288 with 3 Axes>"
      ]
     },
     "metadata": {
      "needs_background": "light"
     },
     "output_type": "display_data"
    }
   ],
   "source": [
    "# Important features\n",
    "important_features = ['city_development_index', 'experience']\n",
    "\"arguments: \"\n",
    "\" - estimator: the black box model\"\n",
    "\" - X is the training data X\"\n",
    "\" - features are the important features we are interested\"\n",
    "plot_partial_dependence(estimator=black_box_model, \n",
    "                        X=X_train, \n",
    "                        features=important_features,\n",
    "                        random_state=123)"
   ]
  },
  {
   "cell_type": "code",
   "execution_count": 22,
   "metadata": {},
   "outputs": [
    {
     "data": {
      "text/plain": [
       "<sklearn.inspection._plot.partial_dependence.PartialDependenceDisplay at 0x7fd96bcf9250>"
      ]
     },
     "execution_count": 22,
     "metadata": {},
     "output_type": "execute_result"
    },
    {
     "data": {
      "image/png": "[encoded data removed]",
      "text/plain": [
       "<Figure size 432x288 with 3 Axes>"
      ]
     },
     "metadata": {
      "needs_background": "light"
     },
     "output_type": "display_data"
    }
   ],
   "source": [
    "# Use the updated version\n",
    "PartialDependenceDisplay.from_estimator(estimator=black_box_model, \n",
    "                        X=X_train, \n",
    "                        features=important_features,\n",
    "                        random_state=123)"
   ]
  },
  {
   "cell_type": "markdown",
   "metadata": {},
   "source": [
    "Then you should see two PDPs are plotted for `city_development_index` and `experience`. They all have roughly negative linear relationship betweens the outcome, for example, if an employee is in a well-developed city and has a lot of experiences, then he/she is unlikely to change the current job.\n"
   ]
  },
  {
   "cell_type": "markdown",
   "metadata": {},
   "source": [
    "### Exercise: Create PDPs for other important features such as `company_size`, `education_level`, `training_hours`, and others\n"
   ]
  },
  {
   "cell_type": "code",
   "execution_count": 23,
   "metadata": {},
   "outputs": [
    {
     "data": {
      "text/plain": [
       "<sklearn.inspection._plot.partial_dependence.PartialDependenceDisplay at 0x7fd96bcf9ee0>"
      ]
     },
     "execution_count": 23,
     "metadata": {},
     "output_type": "execute_result"
    },
    {
     "data": {
      "image/png": "[encoded data removed]",
      "text/plain": [
       "<Figure size 432x288 with 4 Axes>"
      ]
     },
     "metadata": {
      "needs_background": "light"
     },
     "output_type": "display_data"
    }
   ],
   "source": [
    "# Type your solution here\n",
    "important_features = ['company_size', 'education_level','training_hours']\n",
    "# Use the updated version\n",
    "PartialDependenceDisplay.from_estimator(estimator=black_box_model, \n",
    "                        X=X_train, \n",
    "                        features=important_features,\n",
    "                        random_state=123)"
   ]
  },
  {
   "cell_type": "markdown",
   "metadata": {},
   "source": [
    "<details><summary>Click here for a sample solution</summary>\n",
    "\n",
    "```python\n",
    "important_features = ['company_size', 'education_level', 'training_hours']\n",
    "    \n",
    "plot_partial_dependence(estimator=black_box_model, \n",
    "                        X=X_train, \n",
    "                        features=important_features,\n",
    "                        random_state=123)\n",
    "```\n",
    "\n",
    "</details>\n"
   ]
  },
  {
   "cell_type": "markdown",
   "metadata": {},
   "source": [
    "## Global Surrogate Model\n"
   ]
  },
  {
   "cell_type": "markdown",
   "metadata": {},
   "source": [
    "Now you have explored how to explain the black-box model via analyzing its features. Next, we will learn how to explain it via approximate of their inputs and outputs with a global surrogate model.\n"
   ]
  },
  {
   "cell_type": "markdown",
   "metadata": {},
   "source": [
    "We will be training two self-interpretable models: 1) a logistic regression model and 2) a decision tree models using the inputs and outputs from the black-box model\n"
   ]
  },
  {
   "cell_type": "markdown",
   "metadata": {},
   "source": [
    "You can follow these general steps to build a global surrogate model:\n",
    "\n",
    "*   First, we select a dataset `X_test` as input\n",
    "\n",
    "*   Then, we use the black-box model to make predictions `y_blackbox` using the `X_test`\n",
    "\n",
    "*   With both training data and labels ready, we can use them to train a simple logistic regression model and a decision tree model\n",
    "\n",
    "*   The surrogate model outputs its own predictions `y_surrogate`\n",
    "\n",
    "*   Lastly, we can measure the difference between `y_surrogate` and `y_blackbox` using an accuracy score to determine how well the surrogate model approximating the black-box model\n"
   ]
  },
  {
   "cell_type": "markdown",
   "metadata": {},
   "source": [
    "![global_surrogate](https://cf-courses-data.s3.us.cloud-object-storage.appdomain.cloud/IBM-ML241EN-SkillsNetwork/labs/module6\\_model_interpretability/images/global_surrogate.png)\n"
   ]
  },
  {
   "cell_type": "markdown",
   "metadata": {},
   "source": [
    "### Logistic regression surrogate model\n"
   ]
  },
  {
   "cell_type": "markdown",
   "metadata": {},
   "source": [
    "In order to compare the coefficients of the logistic regression model directly, we want to normalize the input X first.\n"
   ]
  },
  {
   "cell_type": "code",
   "execution_count": 24,
   "metadata": {},
   "outputs": [],
   "source": [
    "# normalize X_test\n",
    "min_max_scaler = StandardScaler()\n",
    "X_test_minmax = min_max_scaler.fit_transform(X_test)"
   ]
  },
  {
   "cell_type": "markdown",
   "metadata": {},
   "source": [
    "Then, we can train a logistic regression model with an `L1` regularizer to simplify the model and increase interpretability. Note that `y_blackbox` is coming from the predictions of black-box model.\n"
   ]
  },
  {
   "cell_type": "code",
   "execution_count": 25,
   "metadata": {},
   "outputs": [
    {
     "data": {
      "text/plain": [
       "LogisticRegression(max_iter=1000, penalty='l1', random_state=123,\n",
       "                   solver='liblinear')"
      ]
     },
     "execution_count": 25,
     "metadata": {},
     "output_type": "execute_result"
    }
   ],
   "source": [
    "lm_surrogate = LogisticRegression(max_iter=1000, \n",
    "                                  random_state=123, penalty='l1', solver='liblinear')\n",
    "lm_surrogate.fit(X_test_minmax, y_blackbox)\n",
    "#y_blackbox is the output of the random forrest model, which we build previously"
   ]
  },
  {
   "cell_type": "markdown",
   "metadata": {},
   "source": [
    "With the surrogate model trained, we can generate predictions using `X_test`,\n"
   ]
  },
  {
   "cell_type": "code",
   "execution_count": 26,
   "metadata": {},
   "outputs": [],
   "source": [
    "y_surrogate = lm_surrogate.predict(X_test_minmax)"
   ]
  },
  {
   "cell_type": "markdown",
   "metadata": {},
   "source": [
    "and calculate how accurate the surrogate model approximates the black-box model.\n"
   ]
  },
  {
   "cell_type": "code",
   "execution_count": 27,
   "metadata": {},
   "outputs": [
    {
     "data": {
      "text/plain": [
       "0.7431551499348109"
      ]
     },
     "execution_count": 27,
     "metadata": {},
     "output_type": "execute_result"
    }
   ],
   "source": [
    "metrics.accuracy_score(y_blackbox, y_surrogate)"
   ]
  },
  {
   "cell_type": "markdown",
   "metadata": {},
   "source": [
    "The score is around 0.75 which means the logistic regression surrogate model was able to reproduce about 75% of the original black-box model correctly.\n"
   ]
  },
  {
   "cell_type": "markdown",
   "metadata": {},
   "source": [
    "Next, we can start interpreting the much simpler logistic regression model `lm_surrogate` via analyzing its feature coefficients. We defined a function called `get_feature_coeffs` to extract and sort feature coefficients from `lm_surrogate` model:\n"
   ]
  },
  {
   "cell_type": "code",
   "execution_count": 28,
   "metadata": {},
   "outputs": [],
   "source": [
    "# Extract and sort feature coefficients\n",
    "def get_feature_coefs(regression_model):\n",
    "    coef_dict = {}\n",
    "    # Filter coefficients less than 0.01\n",
    "    for coef, feat in zip(regression_model.coef_[0, :], X_test.columns):\n",
    "        if abs(coef) >= 0.01:\n",
    "            coef_dict[feat] = coef\n",
    "    # Sort coefficients\n",
    "    coef_dict = {k: v for k, v in sorted(coef_dict.items(), key=lambda item: item[1])}\n",
    "    return coef_dict"
   ]
  },
  {
   "cell_type": "code",
   "execution_count": 29,
   "metadata": {},
   "outputs": [
    {
     "data": {
      "text/plain": [
       "{'city_development_index': -1.1037003758316444,\n",
       " 'experience': -0.3153460053781259,\n",
       " 'company_size': -0.3102667491190301,\n",
       " 'company_type_Funded Startup': -0.20164083670299648,\n",
       " 'training_hours': -0.1590867045051154,\n",
       " 'company_type_Early Stage Startup': -0.13134779175452335,\n",
       " 'company_type_NGO': -0.05280389235903686,\n",
       " 'company_type_Other': 0.07697385537422002,\n",
       " 'education_level': 0.15260503732062125,\n",
       " 'company_type_Pvt Ltd': 0.44246383446492626}"
      ]
     },
     "execution_count": 29,
     "metadata": {},
     "output_type": "execute_result"
    }
   ],
   "source": [
    "coef_dict = get_feature_coefs(lm_surrogate)\n",
    "coef_dict # Now after finding features coefficients, it become very easy to interpret."
   ]
  },
  {
   "cell_type": "markdown",
   "metadata": {},
   "source": [
    "We can get a coefficient dict object whose keys are features and values are coefficients, but such dict object is not easy to understand so let's just visualize it using a bar chart:\n"
   ]
  },
  {
   "cell_type": "code",
   "execution_count": 30,
   "metadata": {},
   "outputs": [],
   "source": [
    "# Generate bar colors based on if value is negative or positive\n",
    "def get_bar_colors(values):\n",
    "    color_vals = []\n",
    "    for val in values:\n",
    "        if val <= 0:\n",
    "            color_vals.append('r')\n",
    "        else:\n",
    "            color_vals.append('g')\n",
    "    return color_vals\n",
    "\n",
    "# Visualize coefficients\n",
    "def visualize_coefs(coef_dict):\n",
    "    features = list(coef_dict.keys())\n",
    "    values = list(coef_dict.values())\n",
    "    y_pos = np.arange(len(features))\n",
    "    color_vals = get_bar_colors(values)\n",
    "    plt.rcdefaults()\n",
    "    fig, ax = plt.subplots()\n",
    "    ax.barh(y_pos, values, align='center', color=color_vals)\n",
    "    ax.set_yticks(y_pos)\n",
    "    ax.set_yticklabels(features)\n",
    "    # labels read top-to-bottom\n",
    "    ax.invert_yaxis()  \n",
    "    ax.set_xlabel('Feature Coefficients')\n",
    "    ax.set_title('')\n",
    "    plt.show()\n",
    "    "
   ]
  },
  {
   "cell_type": "markdown",
   "metadata": {},
   "source": [
    "Let's call `visualize_coefs` function to visualize the coefficients dict:\n"
   ]
  },
  {
   "cell_type": "code",
   "execution_count": 31,
   "metadata": {},
   "outputs": [
    {
     "data": {
      "image/png": "[encoded data removed]",
      "text/plain": [
       "<Figure size 640x480 with 1 Axes>"
      ]
     },
     "metadata": {},
     "output_type": "display_data"
    }
   ],
   "source": [
    "visualize_coefs(coef_dict)  # Now after finding features coefficients, it become very easy to interpret."
   ]
  },
  {
   "cell_type": "markdown",
   "metadata": {},
   "source": [
    "From the bar chart above, you can immediately find those important features with negative effects such as `city_development_index` and `experience`, and those have positive effects such as education_level or if the company is a `Pvt Ltd`.\n"
   ]
  },
  {
   "cell_type": "markdown",
   "metadata": {},
   "source": [
    "### Exercise: Build a global surrogate model using decision tree\n"
   ]
  },
  {
   "cell_type": "code",
   "execution_count": 32,
   "metadata": {},
   "outputs": [],
   "source": [
    "# Type your answer here\n",
    "# Define a decision tree model\n",
    "tree_surrogate = DecisionTreeClassifier(random_state=123, \n",
    "                                         max_depth=5, \n",
    "                                         max_features=10)"
   ]
  },
  {
   "cell_type": "markdown",
   "metadata": {},
   "source": [
    "<details><summary>Click here for a sample solution</summary>\n",
    "\n",
    "```python\n",
    "tree_surrogate = DecisionTreeClassifier(random_state=123, \n",
    "                                         max_depth=5, \n",
    "                                         max_features=10)\n",
    "```\n",
    "\n",
    "</details>\n"
   ]
  },
  {
   "cell_type": "code",
   "execution_count": 33,
   "metadata": {},
   "outputs": [],
   "source": [
    "# Type your answer here\n",
    "# Train the decision tree model with X_test and y_blackbox, and make predictions on X_test\n",
    "tree_surrogate.fit(X_test, y_blackbox) # No need for scaling in DT\n",
    "y_surrogate = tree_surrogate.predict(X_test)"
   ]
  },
  {
   "cell_type": "markdown",
   "metadata": {},
   "source": [
    "<details><summary>Click here for a sample solution</summary>\n",
    "\n",
    "```python\n",
    "tree_surrogate.fit(X_test, y_blackbox)\n",
    "y_surrogate = tree_surrogate.predict(X_test)\n",
    "```\n",
    "\n",
    "</details>\n"
   ]
  },
  {
   "cell_type": "code",
   "execution_count": 34,
   "metadata": {},
   "outputs": [
    {
     "data": {
      "text/plain": [
       "0.8213820078226858"
      ]
     },
     "execution_count": 34,
     "metadata": {},
     "output_type": "execute_result"
    }
   ],
   "source": [
    "# Type your answer here\n",
    "# Measure the difference between\n",
    "metrics.accuracy_score(y_blackbox, y_surrogate)"
   ]
  },
  {
   "cell_type": "markdown",
   "metadata": {},
   "source": [
    "<details><summary>Click here for a sample solution</summary>\n",
    "\n",
    "```python\n",
    "metrics.accuracy_score(y_blackbox, y_surrogate)\n",
    "```\n",
    "\n",
    "</details>\n"
   ]
  },
  {
   "cell_type": "markdown",
   "metadata": {},
   "source": [
    "Now, you have trained the tree surrogate model, you could interprete it by export and print the tree:\n"
   ]
  },
  {
   "cell_type": "code",
   "execution_count": 35,
   "metadata": {},
   "outputs": [],
   "source": [
    "tree_exp = export_text(tree_surrogate, feature_names=list(X_train.columns))"
   ]
  },
  {
   "cell_type": "code",
   "execution_count": 36,
   "metadata": {
    "scrolled": true
   },
   "outputs": [
    {
     "name": "stdout",
     "output_type": "stream",
     "text": [
      "|--- city_development_index <= 0.70\n",
      "|   |--- experience <= 20.92\n",
      "|   |   |--- training_hours <= 304.03\n",
      "|   |   |   |--- company_type_Funded Startup <= 0.99\n",
      "|   |   |   |   |--- city_development_index <= 0.69\n",
      "|   |   |   |   |   |--- class: 1.0\n",
      "|   |   |   |   |--- city_development_index >  0.69\n",
      "|   |   |   |   |   |--- class: 1.0\n",
      "|   |   |   |--- company_type_Funded Startup >  0.99\n",
      "|   |   |   |   |--- education_level <= 2.50\n",
      "|   |   |   |   |   |--- class: 1.0\n",
      "|   |   |   |   |--- education_level >  2.50\n",
      "|   |   |   |   |   |--- class: 0.0\n",
      "|   |   |--- training_hours >  304.03\n",
      "|   |   |   |--- class: 0.0\n",
      "|   |--- experience >  20.92\n",
      "|   |   |--- city_development_index <= 0.67\n",
      "|   |   |   |--- education_level <= 2.07\n",
      "|   |   |   |   |--- training_hours <= 44.50\n",
      "|   |   |   |   |   |--- class: 1.0\n",
      "|   |   |   |   |--- training_hours >  44.50\n",
      "|   |   |   |   |   |--- class: 0.0\n",
      "|   |   |   |--- education_level >  2.07\n",
      "|   |   |   |   |--- company_size <= 6.50\n",
      "|   |   |   |   |   |--- class: 1.0\n",
      "|   |   |   |   |--- company_size >  6.50\n",
      "|   |   |   |   |   |--- class: 0.0\n",
      "|   |   |--- city_development_index >  0.67\n",
      "|   |   |   |--- class: 0.0\n",
      "|--- city_development_index >  0.70\n",
      "|   |--- company_size <= 2.98\n",
      "|   |   |--- company_size <= 1.01\n",
      "|   |   |   |--- city_development_index <= 0.76\n",
      "|   |   |   |   |--- company_type_Funded Startup <= 0.22\n",
      "|   |   |   |   |   |--- class: 0.0\n",
      "|   |   |   |   |--- company_type_Funded Startup >  0.22\n",
      "|   |   |   |   |   |--- class: 1.0\n",
      "|   |   |   |--- city_development_index >  0.76\n",
      "|   |   |   |   |--- training_hours <= 9.50\n",
      "|   |   |   |   |   |--- class: 0.0\n",
      "|   |   |   |   |--- training_hours >  9.50\n",
      "|   |   |   |   |   |--- class: 0.0\n",
      "|   |   |--- company_size >  1.01\n",
      "|   |   |   |--- company_type_Pvt Ltd <= 0.03\n",
      "|   |   |   |   |--- training_hours <= 3.50\n",
      "|   |   |   |   |   |--- class: 0.0\n",
      "|   |   |   |   |--- training_hours >  3.50\n",
      "|   |   |   |   |   |--- class: 0.0\n",
      "|   |   |   |--- company_type_Pvt Ltd >  0.03\n",
      "|   |   |   |   |--- education_level <= 1.01\n",
      "|   |   |   |   |   |--- class: 0.0\n",
      "|   |   |   |   |--- education_level >  1.01\n",
      "|   |   |   |   |   |--- class: 1.0\n",
      "|   |--- company_size >  2.98\n",
      "|   |   |--- city_development_index <= 0.88\n",
      "|   |   |   |--- company_size <= 5.03\n",
      "|   |   |   |   |--- training_hours <= 186.83\n",
      "|   |   |   |   |   |--- class: 0.0\n",
      "|   |   |   |   |--- training_hours >  186.83\n",
      "|   |   |   |   |   |--- class: 1.0\n",
      "|   |   |   |--- company_size >  5.03\n",
      "|   |   |   |   |--- city_development_index <= 0.84\n",
      "|   |   |   |   |   |--- class: 1.0\n",
      "|   |   |   |   |--- city_development_index >  0.84\n",
      "|   |   |   |   |   |--- class: 0.0\n",
      "|   |   |--- city_development_index >  0.88\n",
      "|   |   |   |--- education_level <= 2.12\n",
      "|   |   |   |   |--- training_hours <= 17.50\n",
      "|   |   |   |   |   |--- class: 0.0\n",
      "|   |   |   |   |--- training_hours >  17.50\n",
      "|   |   |   |   |   |--- class: 0.0\n",
      "|   |   |   |--- education_level >  2.12\n",
      "|   |   |   |   |--- education_level <= 2.99\n",
      "|   |   |   |   |   |--- class: 1.0\n",
      "|   |   |   |   |--- education_level >  2.99\n",
      "|   |   |   |   |   |--- class: 0.0\n",
      "\n"
     ]
    }
   ],
   "source": [
    "print(tree_exp)"
   ]
  },
  {
   "cell_type": "markdown",
   "metadata": {},
   "source": [
    "## Local interpretable model-agnostic explanations (LIME)\n"
   ]
  },
  {
   "cell_type": "markdown",
   "metadata": {},
   "source": [
    "Global surrogate models may have large prediction inconsistency between the complex black-box model and the simple surrogate models or there are many instance groups or clusters in the dataset which make the surrogate model more generalized to those different patterns and lose the interpretability on a specific data group.\n",
    "\n",
    "On the other hand, we are also interested in how black-box models make predictions on some representative instances. By understanding these very typical examples, we can sometimes obtain valuable insights without understanding the model’s behaviors on the entire dataset.\n"
   ]
  },
  {
   "cell_type": "markdown",
   "metadata": {},
   "source": [
    "Next, you will be building a local surrogate model using LIME method whose general steps are shown in the following flowchart:\n"
   ]
  },
  {
   "cell_type": "markdown",
   "metadata": {},
   "source": [
    "![Local interpretable model-agnostic method](https://cf-courses-data.s3.us.cloud-object-storage.appdomain.cloud/IBM-ML241EN-SkillsNetwork/labs/module6\\_model_interpretability/images/lime.png)\n"
   ]
  },
  {
   "cell_type": "markdown",
   "metadata": {},
   "source": [
    "We can use a open source [lime](https://github.com/marcotcr/lime) package to easily build a LIME explainer the our black-box model, let's get started.\n"
   ]
  },
  {
   "cell_type": "markdown",
   "metadata": {},
   "source": [
    "First, we need to define a `LimeTabularExplainer` to explain those predictive models built on structured/tabular datasets, like the job-changing prediction dataset we are using.\n"
   ]
  },
  {
   "cell_type": "markdown",
   "metadata": {},
   "source": [
    "Note although LIME algorithm is a local surrogate model, it still also requires a training dataset containing your interested data instances. So that it can perform uniform sampling (feature permutations) around the interested data instances to generate the artificial dataset for the actual surrogate model training process.\n"
   ]
  },
  {
   "cell_type": "code",
   "execution_count": 37,
   "metadata": {},
   "outputs": [],
   "source": [
    "explainer = lime.lime_tabular.LimeTabularExplainer(\n",
    "    # Set the training dataset to be X_test.values (2-D Numpy array)\n",
    "    training_data=X_test.values,\n",
    "    # Set the mode to be classification\n",
    "    mode='classification',\n",
    "    # Set class names to be `Not Changing` and `Changing`\n",
    "    class_names = ['Not Changing', 'Changing'],\n",
    "    # Set feature names\n",
    "    feature_names=list(X_train.columns),\n",
    "    random_state=123,\n",
    "    verbose=True)"
   ]
  },
  {
   "cell_type": "markdown",
   "metadata": {},
   "source": [
    "Now, let's try to select an interested employee from `X_test`, and we want to understand its prediction using the `LimeTabularExplainer`.\n"
   ]
  },
  {
   "cell_type": "code",
   "execution_count": 38,
   "metadata": {},
   "outputs": [
    {
     "data": {
      "text/html": [
       "<div>\n",
       "<style scoped>\n",
       "    .dataframe tbody tr th:only-of-type {\n",
       "        vertical-align: middle;\n",
       "    }\n",
       "\n",
       "    .dataframe tbody tr th {\n",
       "        vertical-align: top;\n",
       "    }\n",
       "\n",
       "    .dataframe thead th {\n",
       "        text-align: right;\n",
       "    }\n",
       "</style>\n",
       "<table border=\"1\" class=\"dataframe\">\n",
       "  <thead>\n",
       "    <tr style=\"text-align: right;\">\n",
       "      <th></th>\n",
       "      <th>city_development_index</th>\n",
       "      <th>training_hours</th>\n",
       "      <th>company_size</th>\n",
       "      <th>experience</th>\n",
       "      <th>education_level</th>\n",
       "      <th>company_type_Early Stage Startup</th>\n",
       "      <th>company_type_Funded Startup</th>\n",
       "      <th>company_type_NGO</th>\n",
       "      <th>company_type_Other</th>\n",
       "      <th>company_type_Public Sector</th>\n",
       "      <th>company_type_Pvt Ltd</th>\n",
       "    </tr>\n",
       "  </thead>\n",
       "  <tbody>\n",
       "    <tr>\n",
       "      <th>8659</th>\n",
       "      <td>0.924</td>\n",
       "      <td>74.0</td>\n",
       "      <td>7.0</td>\n",
       "      <td>16.0</td>\n",
       "      <td>3.0</td>\n",
       "      <td>0.0</td>\n",
       "      <td>0.0</td>\n",
       "      <td>0.0</td>\n",
       "      <td>0.0</td>\n",
       "      <td>0.0</td>\n",
       "      <td>1.0</td>\n",
       "    </tr>\n",
       "  </tbody>\n",
       "</table>\n",
       "</div>"
      ],
      "text/plain": [
       "      city_development_index  training_hours  company_size  experience  \\\n",
       "8659                   0.924            74.0           7.0        16.0   \n",
       "\n",
       "      education_level  company_type_Early Stage Startup  \\\n",
       "8659              3.0                               0.0   \n",
       "\n",
       "      company_type_Funded Startup  company_type_NGO  company_type_Other  \\\n",
       "8659                          0.0               0.0                 0.0   \n",
       "\n",
       "      company_type_Public Sector  company_type_Pvt Ltd  \n",
       "8659                         0.0                   1.0  "
      ]
     },
     "execution_count": 38,
     "metadata": {},
     "output_type": "execute_result"
    }
   ],
   "source": [
    "instance_index = 19\n",
    "selected_instance = X_test.iloc[[instance_index]]\n",
    "lime_test_instance = selected_instance.values.reshape(-1)\n",
    "selected_instance"
   ]
  },
  {
   "cell_type": "code",
   "execution_count": 39,
   "metadata": {},
   "outputs": [
    {
     "data": {
      "text/plain": [
       "array([[0.96913043, 0.03086957]])"
      ]
     },
     "execution_count": 39,
     "metadata": {},
     "output_type": "execute_result"
    }
   ],
   "source": [
    "y_blackbox_pred = black_box_model.predict_proba(X_test.iloc[[instance_index]])\n",
    "y_blackbox_pred # 97% he/she wants to change his current job"
   ]
  },
  {
   "cell_type": "markdown",
   "metadata": {},
   "source": [
    "Let's make a quick summary about this employee:\n",
    "\n",
    "*   His/her city is well-developed with a city development index > 0.9\n",
    "*   His/her training hour is 74 hours\n",
    "*   His/her company is a very big company, 7 means more than 10,000 employees\n",
    "*   His/her experience is more than 16 years\n",
    "*   His/her company is a Pvt Ltd (Private) company\n",
    "*   His/her has Master's degree(s)\n",
    "\n",
    "and our black-box model predicts its probability of changing a job is `0.03`, that is, very unlikely to leave his or her current job.\n"
   ]
  },
  {
   "cell_type": "markdown",
   "metadata": {},
   "source": [
    "Then, let's use `LimeTabularExplainer` to explain why the black-box model thinks this employee won't leave his/her current job.\n"
   ]
  },
  {
   "cell_type": "code",
   "execution_count": 40,
   "metadata": {},
   "outputs": [
    {
     "name": "stderr",
     "output_type": "stream",
     "text": [
      "/opt/anaconda3/lib/python3.9/site-packages/sklearn/base.py:450: UserWarning: X does not have valid feature names, but RandomForestClassifier was fitted with feature names\n",
      "  warnings.warn(\n"
     ]
    },
    {
     "name": "stdout",
     "output_type": "stream",
     "text": [
      "Intercept 0.9292244657555583\n",
      "Prediction_local [0.48730243]\n",
      "Right: 0.030869565217391304\n"
     ]
    },
    {
     "data": {
      "image/png": "[encoded data removed]",
      "text/plain": [
       "<Figure size 640x480 with 1 Axes>"
      ]
     },
     "metadata": {},
     "output_type": "display_data"
    }
   ],
   "source": [
    "exp = explainer.explain_instance(\n",
    "                                 # Instance to explain\n",
    "                                 lime_test_instance, \n",
    "                                 # The prediction from black-box model\n",
    "                                 black_box_model.predict_proba,\n",
    "                                 # Use max 10 features\n",
    "                                 num_features=10)\n",
    "exp.as_pyplot_figure();"
   ]
  },
  {
   "cell_type": "markdown",
   "metadata": {},
   "source": [
    "`LimeTabularExplainer` outputs a bar chart similar to the coefficient or feature importance chart we plotted before.\n",
    "From its output, we can easily interpret why the black-box thinks this employe won't change job, based on the following main factors:\n",
    "\n",
    "*   His/her company is a very big company\n",
    "*   His/her city is well-developed with city development\n",
    "*   His/her highest degree is Master or above\n",
    "*   His/her experience is more than 15 years\n",
    "*   His/her company is not NGO or Startup\n",
    "\n",
    "This interpretation is also aligned with our common sense, that is, if a well-educated employee has been working in a very big/good private company, located in a big city, for more than 15 years, then he/she is probably very satisfied with current job and does not want to change it.\n"
   ]
  },
  {
   "cell_type": "markdown",
   "metadata": {},
   "source": [
    "### Exerice: Find other data instances and use LimeTabularExplainer to explain their predictions of black-box model\n"
   ]
  },
  {
   "cell_type": "code",
   "execution_count": 41,
   "metadata": {
    "scrolled": false
   },
   "outputs": [
    {
     "data": {
      "text/html": [
       "<div>\n",
       "<style scoped>\n",
       "    .dataframe tbody tr th:only-of-type {\n",
       "        vertical-align: middle;\n",
       "    }\n",
       "\n",
       "    .dataframe tbody tr th {\n",
       "        vertical-align: top;\n",
       "    }\n",
       "\n",
       "    .dataframe thead th {\n",
       "        text-align: right;\n",
       "    }\n",
       "</style>\n",
       "<table border=\"1\" class=\"dataframe\">\n",
       "  <thead>\n",
       "    <tr style=\"text-align: right;\">\n",
       "      <th></th>\n",
       "      <th>city_development_index</th>\n",
       "      <th>training_hours</th>\n",
       "      <th>company_size</th>\n",
       "      <th>experience</th>\n",
       "      <th>education_level</th>\n",
       "      <th>company_type_Early Stage Startup</th>\n",
       "      <th>company_type_Funded Startup</th>\n",
       "      <th>company_type_NGO</th>\n",
       "      <th>company_type_Other</th>\n",
       "      <th>company_type_Public Sector</th>\n",
       "      <th>company_type_Pvt Ltd</th>\n",
       "    </tr>\n",
       "  </thead>\n",
       "  <tbody>\n",
       "    <tr>\n",
       "      <th>10023</th>\n",
       "      <td>0.840885</td>\n",
       "      <td>100.0</td>\n",
       "      <td>2.0</td>\n",
       "      <td>3.0</td>\n",
       "      <td>2.732718</td>\n",
       "      <td>0.0</td>\n",
       "      <td>0.0</td>\n",
       "      <td>0.0</td>\n",
       "      <td>0.0</td>\n",
       "      <td>0.0</td>\n",
       "      <td>1.0</td>\n",
       "    </tr>\n",
       "  </tbody>\n",
       "</table>\n",
       "</div>"
      ],
      "text/plain": [
       "       city_development_index  training_hours  company_size  experience  \\\n",
       "10023                0.840885           100.0           2.0         3.0   \n",
       "\n",
       "       education_level  company_type_Early Stage Startup  \\\n",
       "10023         2.732718                               0.0   \n",
       "\n",
       "       company_type_Funded Startup  company_type_NGO  company_type_Other  \\\n",
       "10023                          0.0               0.0                 0.0   \n",
       "\n",
       "       company_type_Public Sector  company_type_Pvt Ltd  \n",
       "10023                         0.0                   1.0  "
      ]
     },
     "execution_count": 41,
     "metadata": {},
     "output_type": "execute_result"
    }
   ],
   "source": [
    "# Update instance_index, and rerun the explainer.explain_instance() method\n",
    "instance_index = 24\n",
    "selected_instance = X_test.iloc[[instance_index]]\n",
    "lime_test_instance = selected_instance.values.reshape(-1)\n",
    "selected_instance"
   ]
  },
  {
   "cell_type": "code",
   "execution_count": 42,
   "metadata": {},
   "outputs": [
    {
     "data": {
      "text/plain": [
       "array([[0.03, 0.97]])"
      ]
     },
     "execution_count": 42,
     "metadata": {},
     "output_type": "execute_result"
    }
   ],
   "source": [
    "y_blackbox_pred = black_box_model.predict_proba(X_test.iloc[[instance_index]])\n",
    "y_blackbox_pred # 97% he/she wants to change his current job"
   ]
  },
  {
   "cell_type": "markdown",
   "metadata": {},
   "source": [
    "A quick summary about this employee:\n",
    "\n",
    "*   His/her city is developed with a city development index > 0.84\n",
    "*   His/her training hour is 100 hours\n",
    "*   His/her company is a small company\n",
    "*   His/her experience is more than 13 years\n",
    "*   His/her company is a Pvt Ltd (Private) company\n",
    "*   His/her has Master's degree(s)\n",
    "\n",
    "and our black-box model predicts its probability of changing a job is `0.97`, that is, very unlikely to leave his or her current job.\n"
   ]
  },
  {
   "cell_type": "code",
   "execution_count": 43,
   "metadata": {},
   "outputs": [
    {
     "name": "stderr",
     "output_type": "stream",
     "text": [
      "/opt/anaconda3/lib/python3.9/site-packages/sklearn/base.py:450: UserWarning: X does not have valid feature names, but RandomForestClassifier was fitted with feature names\n",
      "  warnings.warn(\n"
     ]
    },
    {
     "name": "stdout",
     "output_type": "stream",
     "text": [
      "Intercept 0.7545083826293961\n",
      "Prediction_local [0.81371998]\n",
      "Right: 0.97\n"
     ]
    },
    {
     "data": {
      "image/png": "[encoded data removed]",
      "text/plain": [
       "<Figure size 640x480 with 1 Axes>"
      ]
     },
     "metadata": {},
     "output_type": "display_data"
    }
   ],
   "source": [
    "exp = explainer.explain_instance(\n",
    "                                 # Instance to explain\n",
    "                                 lime_test_instance, \n",
    "                                 # The prediction from black-box model\n",
    "                                 black_box_model.predict_proba,\n",
    "                                 # Use max 10 features\n",
    "                                 num_features=10)\n",
    "exp.as_pyplot_figure();"
   ]
  },
  {
   "cell_type": "code",
   "execution_count": 44,
   "metadata": {},
   "outputs": [],
   "source": [
    "## Most likely he/she will leave due to small company size, and low experience"
   ]
  },
  {
   "cell_type": "markdown",
   "metadata": {},
   "source": [
    "## Next Steps\n"
   ]
  },
  {
   "cell_type": "markdown",
   "metadata": {},
   "source": [
    "By now you have learned and applied various model-agnostic explanation algorithms such as Permutation Feature Importance, PDP, Global Surrogate Model, LIME, and others in this lab. There are many other such methods such as Feature Interactions, Individual Conditional Expectation, SHAP values, and so on, and we do not have enough time to explain them all in this course.\n",
    "\n",
    "We list the references to other popular model explanation methods which you may be interested:\n",
    "\n",
    "*   [Predictive learning via rule ensembles](https://arxiv.org/abs/0811.1679?utm_medium=Exinfluencer&utm_source=Exinfluencer&utm_content=000026UJ&utm_term=10006555&utm_id=NA-SkillsNetwork-Channel-SkillsNetworkCoursesIBMML241ENSkillsNetwork31576874-2022-01-01)\n",
    "*   [A Unified Approach to Interpreting Model Predictions](https://arxiv.org/abs/1705.07874?utm_medium=Exinfluencer&utm_source=Exinfluencer&utm_content=000026UJ&utm_term=10006555&utm_id=NA-SkillsNetwork-Channel-SkillsNetworkCoursesIBMML241ENSkillsNetwork31576874-2022-01-01)\n",
    "*   [Peeking Inside the Black Box: Visualizing Statistical Learning with Plots of Individual Conditional Expectation](https://arxiv.org/abs/1309.6392?utm_medium=Exinfluencer&utm_source=Exinfluencer&utm_content=000026UJ&utm_term=10006555&utm_id=NA-SkillsNetwork-Channel-SkillsNetworkCoursesIBMML241ENSkillsNetwork31576874-2022-01-01)\n"
   ]
  },
  {
   "cell_type": "markdown",
   "metadata": {},
   "source": [
    "## Authors\n"
   ]
  },
  {
   "cell_type": "markdown",
   "metadata": {},
   "source": [
    "[Yan Luo](https://www.linkedin.com/in/yan-luo-96288783/?utm_medium=Exinfluencer&utm_source=Exinfluencer&utm_content=000026UJ&utm_term=10006555&utm_id=NA-SkillsNetwork-Channel-SkillsNetworkCoursesIBMML241ENSkillsNetwork31576874-2022-01-01)\n"
   ]
  },
  {
   "cell_type": "markdown",
   "metadata": {},
   "source": [
    "### Other Contributors\n"
   ]
  },
  {
   "cell_type": "markdown",
   "metadata": {},
   "source": [
    "## Change Log\n"
   ]
  },
  {
   "cell_type": "markdown",
   "metadata": {},
   "source": [
    "| Date (YYYY-MM-DD) | Version | Changed By | Change Description          |          |     |            |         |\n",
    "| ----------------- | ------- | ---------- | --------------------------- | -------- | --- | ---------- | ------- |\n",
    "| 2021-8-23         | 1.0     | Yan        | Created the initial version | 2022-2-8 | 1.1 | Steve Hord | QA pass |\n"
   ]
  },
  {
   "cell_type": "markdown",
   "metadata": {},
   "source": [
    "Copyright © 2021 IBM Corporation. All rights reserved.\n"
   ]
  }
 ],
 "metadata": {
  "kernelspec": {
   "display_name": "Python 3 (ipykernel)",
   "language": "python",
   "name": "python3"
  },
  "language_info": {
   "codemirror_mode": {
    "name": "ipython",
    "version": 3
   },
   "file_extension": ".py",
   "mimetype": "text/x-python",
   "name": "python",
   "nbconvert_exporter": "python",
   "pygments_lexer": "ipython3",
   "version": "3.9.12"
  }
 },
 "nbformat": 4,
 "nbformat_minor": 4
}
