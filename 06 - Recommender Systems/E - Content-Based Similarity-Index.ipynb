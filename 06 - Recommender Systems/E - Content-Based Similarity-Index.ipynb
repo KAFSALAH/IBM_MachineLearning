{
 "cells": [
  {
   "cell_type": "markdown",
   "metadata": {},
   "source": [
    "<p style=\"text-align:center\">\n",
    "    <a href=\"https://skills.network/?utm_medium=Exinfluencer&utm_source=Exinfluencer&utm_content=000026UJ&utm_term=10006555&utm_id=NA-SkillsNetwork-Channel-SkillsNetworkCoursesIBMML321ENSkillsNetwork32585014-2022-01-01\" target=\"_blank\">\n",
    "    <img src=\"https://cf-courses-data.s3.us.cloud-object-storage.appdomain.cloud/assets/logos/SN_web_lightmode.png\" width=\"200\" alt=\"Skills Network Logo\"  />\n",
    "    </a>\n",
    "</p>\n"
   ]
  },
  {
   "cell_type": "markdown",
   "metadata": {},
   "source": [
    "# **Content-based Course Recommender System using Course Similarities**\n"
   ]
  },
  {
   "cell_type": "markdown",
   "metadata": {},
   "source": [
    "Estimated time needed: **45** minutes\n"
   ]
  },
  {
   "cell_type": "markdown",
   "metadata": {},
   "source": [
    "In one of the previous lab, you have learned and practiced how to calculate the similarity between two courses using Bag of Words (BoW) features. For example, the similarity between course1 `Machine Learning for Everyone` and course2 `Machine Learning for Beginners` are `75%` as shown below.\n"
   ]
  },
  {
   "cell_type": "markdown",
   "metadata": {},
   "source": [
    "![](https://cf-courses-data.s3.us.cloud-object-storage.appdomain.cloud/IBM-ML321EN-SkillsNetwork/labs/module\\_2/images/course_sim.png)\n"
   ]
  },
  {
   "cell_type": "markdown",
   "metadata": {},
   "source": [
    "As we mentioned before, the content-based recommender system is highly based on the similarity calculation among items. The similarity or closeness of items is measured based on the similarity in the content or features of those items. The course genres are important features, and in addition to that, the BoW value is another important type of feature to represent course textual content.\n"
   ]
  },
  {
   "cell_type": "markdown",
   "metadata": {},
   "source": [
    "In this lab, you will apply the course similarities metric to recommend  new courses which are similar to a user's presently enrolled courses.\n"
   ]
  },
  {
   "cell_type": "markdown",
   "metadata": {},
   "source": [
    "## Objectives\n"
   ]
  },
  {
   "cell_type": "markdown",
   "metadata": {},
   "source": [
    "After completing this lab you will be able to:\n"
   ]
  },
  {
   "cell_type": "markdown",
   "metadata": {},
   "source": [
    "*   Obtain the similarity between courses from a course similarity matrix\n",
    "*   Use the course similarity matrix to find and recommend new courses which are similar to enrolled courses\n"
   ]
  },
  {
   "cell_type": "markdown",
   "metadata": {},
   "source": [
    "***\n"
   ]
  },
  {
   "cell_type": "markdown",
   "metadata": {},
   "source": [
    "## Prepare and setup lab environment\n"
   ]
  },
  {
   "cell_type": "markdown",
   "metadata": {},
   "source": [
    "Let's first install and import the required libraries:\n"
   ]
  },
  {
   "cell_type": "code",
   "execution_count": 1,
   "metadata": {},
   "outputs": [],
   "source": [
    "# !pip install seaborn==0.11.1"
   ]
  },
  {
   "cell_type": "code",
   "execution_count": 2,
   "metadata": {},
   "outputs": [],
   "source": [
    "import seaborn as sns\n",
    "import matplotlib.pyplot as plt\n",
    "import pandas as pd\n",
    "import numpy as np\n",
    "\n",
    "%matplotlib inline"
   ]
  },
  {
   "cell_type": "code",
   "execution_count": 3,
   "metadata": {},
   "outputs": [],
   "source": [
    "# also set a random state\n",
    "rs = 123"
   ]
  },
  {
   "cell_type": "markdown",
   "metadata": {},
   "source": [
    "Next, let's load a pre-made course similarity matrix. If you are interested, you could easily calculate such a similarity matrix by iterating through all possible course pairs and calculating their similarities.\n"
   ]
  },
  {
   "cell_type": "code",
   "execution_count": 4,
   "metadata": {},
   "outputs": [],
   "source": [
    "sim_url = \"https://cf-courses-data.s3.us.cloud-object-storage.appdomain.cloud/IBM-ML321EN-SkillsNetwork/labs/datasets/sim.csv\""
   ]
  },
  {
   "cell_type": "code",
   "execution_count": 5,
   "metadata": {},
   "outputs": [
    {
     "data": {
      "text/html": [
       "<div>\n",
       "<style scoped>\n",
       "    .dataframe tbody tr th:only-of-type {\n",
       "        vertical-align: middle;\n",
       "    }\n",
       "\n",
       "    .dataframe tbody tr th {\n",
       "        vertical-align: top;\n",
       "    }\n",
       "\n",
       "    .dataframe thead th {\n",
       "        text-align: right;\n",
       "    }\n",
       "</style>\n",
       "<table border=\"1\" class=\"dataframe\">\n",
       "  <thead>\n",
       "    <tr style=\"text-align: right;\">\n",
       "      <th></th>\n",
       "      <th>0</th>\n",
       "      <th>1</th>\n",
       "      <th>2</th>\n",
       "      <th>3</th>\n",
       "      <th>4</th>\n",
       "      <th>5</th>\n",
       "      <th>6</th>\n",
       "      <th>7</th>\n",
       "      <th>8</th>\n",
       "      <th>9</th>\n",
       "      <th>...</th>\n",
       "      <th>297</th>\n",
       "      <th>298</th>\n",
       "      <th>299</th>\n",
       "      <th>300</th>\n",
       "      <th>301</th>\n",
       "      <th>302</th>\n",
       "      <th>303</th>\n",
       "      <th>304</th>\n",
       "      <th>305</th>\n",
       "      <th>306</th>\n",
       "    </tr>\n",
       "  </thead>\n",
       "  <tbody>\n",
       "    <tr>\n",
       "      <th>0</th>\n",
       "      <td>1.000000</td>\n",
       "      <td>0.088889</td>\n",
       "      <td>0.088475</td>\n",
       "      <td>0.065556</td>\n",
       "      <td>0.048810</td>\n",
       "      <td>0.104685</td>\n",
       "      <td>0.065202</td>\n",
       "      <td>0.143346</td>\n",
       "      <td>0.000000</td>\n",
       "      <td>0.024405</td>\n",
       "      <td>...</td>\n",
       "      <td>0.012695</td>\n",
       "      <td>0.070225</td>\n",
       "      <td>0.058224</td>\n",
       "      <td>0.046610</td>\n",
       "      <td>0.025850</td>\n",
       "      <td>0.033944</td>\n",
       "      <td>0.076825</td>\n",
       "      <td>0.072898</td>\n",
       "      <td>0.039276</td>\n",
       "      <td>0.121113</td>\n",
       "    </tr>\n",
       "    <tr>\n",
       "      <th>1</th>\n",
       "      <td>0.088889</td>\n",
       "      <td>1.000000</td>\n",
       "      <td>0.055202</td>\n",
       "      <td>0.057264</td>\n",
       "      <td>0.012182</td>\n",
       "      <td>0.078379</td>\n",
       "      <td>0.032545</td>\n",
       "      <td>0.119251</td>\n",
       "      <td>0.044162</td>\n",
       "      <td>0.000000</td>\n",
       "      <td>...</td>\n",
       "      <td>0.180593</td>\n",
       "      <td>0.124631</td>\n",
       "      <td>0.087187</td>\n",
       "      <td>0.093060</td>\n",
       "      <td>0.019354</td>\n",
       "      <td>0.028239</td>\n",
       "      <td>0.063911</td>\n",
       "      <td>0.138270</td>\n",
       "      <td>0.031367</td>\n",
       "      <td>0.076940</td>\n",
       "    </tr>\n",
       "    <tr>\n",
       "      <th>2</th>\n",
       "      <td>0.088475</td>\n",
       "      <td>0.055202</td>\n",
       "      <td>1.000000</td>\n",
       "      <td>0.026463</td>\n",
       "      <td>0.039406</td>\n",
       "      <td>0.000000</td>\n",
       "      <td>0.000000</td>\n",
       "      <td>0.154303</td>\n",
       "      <td>0.000000</td>\n",
       "      <td>0.000000</td>\n",
       "      <td>...</td>\n",
       "      <td>0.040996</td>\n",
       "      <td>0.037796</td>\n",
       "      <td>0.013430</td>\n",
       "      <td>0.037630</td>\n",
       "      <td>0.000000</td>\n",
       "      <td>0.018270</td>\n",
       "      <td>0.082698</td>\n",
       "      <td>0.133400</td>\n",
       "      <td>0.012684</td>\n",
       "      <td>0.000000</td>\n",
       "    </tr>\n",
       "    <tr>\n",
       "      <th>3</th>\n",
       "      <td>0.065556</td>\n",
       "      <td>0.057264</td>\n",
       "      <td>0.026463</td>\n",
       "      <td>1.000000</td>\n",
       "      <td>0.000000</td>\n",
       "      <td>0.250490</td>\n",
       "      <td>0.390038</td>\n",
       "      <td>0.000000</td>\n",
       "      <td>0.000000</td>\n",
       "      <td>0.000000</td>\n",
       "      <td>...</td>\n",
       "      <td>0.151882</td>\n",
       "      <td>0.420084</td>\n",
       "      <td>0.427908</td>\n",
       "      <td>0.055764</td>\n",
       "      <td>0.000000</td>\n",
       "      <td>0.094759</td>\n",
       "      <td>0.030638</td>\n",
       "      <td>0.017443</td>\n",
       "      <td>0.018796</td>\n",
       "      <td>0.158073</td>\n",
       "    </tr>\n",
       "    <tr>\n",
       "      <th>4</th>\n",
       "      <td>0.048810</td>\n",
       "      <td>0.012182</td>\n",
       "      <td>0.039406</td>\n",
       "      <td>0.000000</td>\n",
       "      <td>1.000000</td>\n",
       "      <td>0.000000</td>\n",
       "      <td>0.000000</td>\n",
       "      <td>0.085126</td>\n",
       "      <td>0.000000</td>\n",
       "      <td>0.000000</td>\n",
       "      <td>...</td>\n",
       "      <td>0.000000</td>\n",
       "      <td>0.000000</td>\n",
       "      <td>0.000000</td>\n",
       "      <td>0.096877</td>\n",
       "      <td>0.000000</td>\n",
       "      <td>0.060474</td>\n",
       "      <td>0.030415</td>\n",
       "      <td>0.129871</td>\n",
       "      <td>0.000000</td>\n",
       "      <td>0.000000</td>\n",
       "    </tr>\n",
       "    <tr>\n",
       "      <th>...</th>\n",
       "      <td>...</td>\n",
       "      <td>...</td>\n",
       "      <td>...</td>\n",
       "      <td>...</td>\n",
       "      <td>...</td>\n",
       "      <td>...</td>\n",
       "      <td>...</td>\n",
       "      <td>...</td>\n",
       "      <td>...</td>\n",
       "      <td>...</td>\n",
       "      <td>...</td>\n",
       "      <td>...</td>\n",
       "      <td>...</td>\n",
       "      <td>...</td>\n",
       "      <td>...</td>\n",
       "      <td>...</td>\n",
       "      <td>...</td>\n",
       "      <td>...</td>\n",
       "      <td>...</td>\n",
       "      <td>...</td>\n",
       "      <td>...</td>\n",
       "    </tr>\n",
       "    <tr>\n",
       "      <th>302</th>\n",
       "      <td>0.033944</td>\n",
       "      <td>0.028239</td>\n",
       "      <td>0.018270</td>\n",
       "      <td>0.094759</td>\n",
       "      <td>0.060474</td>\n",
       "      <td>0.064851</td>\n",
       "      <td>0.053856</td>\n",
       "      <td>0.039467</td>\n",
       "      <td>0.036539</td>\n",
       "      <td>0.060474</td>\n",
       "      <td>...</td>\n",
       "      <td>0.047186</td>\n",
       "      <td>0.116008</td>\n",
       "      <td>0.137406</td>\n",
       "      <td>0.211743</td>\n",
       "      <td>0.256220</td>\n",
       "      <td>1.000000</td>\n",
       "      <td>0.211520</td>\n",
       "      <td>0.168595</td>\n",
       "      <td>0.129766</td>\n",
       "      <td>0.263734</td>\n",
       "    </tr>\n",
       "    <tr>\n",
       "      <th>303</th>\n",
       "      <td>0.076825</td>\n",
       "      <td>0.063911</td>\n",
       "      <td>0.082698</td>\n",
       "      <td>0.030638</td>\n",
       "      <td>0.030415</td>\n",
       "      <td>0.000000</td>\n",
       "      <td>0.000000</td>\n",
       "      <td>0.119098</td>\n",
       "      <td>0.055132</td>\n",
       "      <td>0.045622</td>\n",
       "      <td>...</td>\n",
       "      <td>0.177989</td>\n",
       "      <td>0.092381</td>\n",
       "      <td>0.145126</td>\n",
       "      <td>0.527636</td>\n",
       "      <td>0.249675</td>\n",
       "      <td>0.211520</td>\n",
       "      <td>1.000000</td>\n",
       "      <td>0.242269</td>\n",
       "      <td>0.416067</td>\n",
       "      <td>0.178384</td>\n",
       "    </tr>\n",
       "    <tr>\n",
       "      <th>304</th>\n",
       "      <td>0.072898</td>\n",
       "      <td>0.138270</td>\n",
       "      <td>0.133400</td>\n",
       "      <td>0.017443</td>\n",
       "      <td>0.129871</td>\n",
       "      <td>0.009285</td>\n",
       "      <td>0.000000</td>\n",
       "      <td>0.254274</td>\n",
       "      <td>0.094165</td>\n",
       "      <td>0.025974</td>\n",
       "      <td>...</td>\n",
       "      <td>0.153128</td>\n",
       "      <td>0.105191</td>\n",
       "      <td>0.138692</td>\n",
       "      <td>0.281108</td>\n",
       "      <td>0.132977</td>\n",
       "      <td>0.168595</td>\n",
       "      <td>0.242269</td>\n",
       "      <td>1.000000</td>\n",
       "      <td>0.220159</td>\n",
       "      <td>0.128902</td>\n",
       "    </tr>\n",
       "    <tr>\n",
       "      <th>305</th>\n",
       "      <td>0.039276</td>\n",
       "      <td>0.031367</td>\n",
       "      <td>0.012684</td>\n",
       "      <td>0.018796</td>\n",
       "      <td>0.000000</td>\n",
       "      <td>0.015008</td>\n",
       "      <td>0.024926</td>\n",
       "      <td>0.082199</td>\n",
       "      <td>0.076102</td>\n",
       "      <td>0.055978</td>\n",
       "      <td>...</td>\n",
       "      <td>0.149234</td>\n",
       "      <td>0.093962</td>\n",
       "      <td>0.162170</td>\n",
       "      <td>0.476644</td>\n",
       "      <td>0.222350</td>\n",
       "      <td>0.129766</td>\n",
       "      <td>0.416067</td>\n",
       "      <td>0.220159</td>\n",
       "      <td>1.000000</td>\n",
       "      <td>0.126274</td>\n",
       "    </tr>\n",
       "    <tr>\n",
       "      <th>306</th>\n",
       "      <td>0.121113</td>\n",
       "      <td>0.076940</td>\n",
       "      <td>0.000000</td>\n",
       "      <td>0.158073</td>\n",
       "      <td>0.000000</td>\n",
       "      <td>0.126211</td>\n",
       "      <td>0.157219</td>\n",
       "      <td>0.000000</td>\n",
       "      <td>0.106668</td>\n",
       "      <td>0.039231</td>\n",
       "      <td>...</td>\n",
       "      <td>0.142850</td>\n",
       "      <td>0.250859</td>\n",
       "      <td>0.260731</td>\n",
       "      <td>0.099901</td>\n",
       "      <td>0.249325</td>\n",
       "      <td>0.263734</td>\n",
       "      <td>0.178384</td>\n",
       "      <td>0.128902</td>\n",
       "      <td>0.126274</td>\n",
       "      <td>1.000000</td>\n",
       "    </tr>\n",
       "  </tbody>\n",
       "</table>\n",
       "<p>307 rows × 307 columns</p>\n",
       "</div>"
      ],
      "text/plain": [
       "            0         1         2         3         4         5         6  \\\n",
       "0    1.000000  0.088889  0.088475  0.065556  0.048810  0.104685  0.065202   \n",
       "1    0.088889  1.000000  0.055202  0.057264  0.012182  0.078379  0.032545   \n",
       "2    0.088475  0.055202  1.000000  0.026463  0.039406  0.000000  0.000000   \n",
       "3    0.065556  0.057264  0.026463  1.000000  0.000000  0.250490  0.390038   \n",
       "4    0.048810  0.012182  0.039406  0.000000  1.000000  0.000000  0.000000   \n",
       "..        ...       ...       ...       ...       ...       ...       ...   \n",
       "302  0.033944  0.028239  0.018270  0.094759  0.060474  0.064851  0.053856   \n",
       "303  0.076825  0.063911  0.082698  0.030638  0.030415  0.000000  0.000000   \n",
       "304  0.072898  0.138270  0.133400  0.017443  0.129871  0.009285  0.000000   \n",
       "305  0.039276  0.031367  0.012684  0.018796  0.000000  0.015008  0.024926   \n",
       "306  0.121113  0.076940  0.000000  0.158073  0.000000  0.126211  0.157219   \n",
       "\n",
       "            7         8         9  ...       297       298       299  \\\n",
       "0    0.143346  0.000000  0.024405  ...  0.012695  0.070225  0.058224   \n",
       "1    0.119251  0.044162  0.000000  ...  0.180593  0.124631  0.087187   \n",
       "2    0.154303  0.000000  0.000000  ...  0.040996  0.037796  0.013430   \n",
       "3    0.000000  0.000000  0.000000  ...  0.151882  0.420084  0.427908   \n",
       "4    0.085126  0.000000  0.000000  ...  0.000000  0.000000  0.000000   \n",
       "..        ...       ...       ...  ...       ...       ...       ...   \n",
       "302  0.039467  0.036539  0.060474  ...  0.047186  0.116008  0.137406   \n",
       "303  0.119098  0.055132  0.045622  ...  0.177989  0.092381  0.145126   \n",
       "304  0.254274  0.094165  0.025974  ...  0.153128  0.105191  0.138692   \n",
       "305  0.082199  0.076102  0.055978  ...  0.149234  0.093962  0.162170   \n",
       "306  0.000000  0.106668  0.039231  ...  0.142850  0.250859  0.260731   \n",
       "\n",
       "          300       301       302       303       304       305       306  \n",
       "0    0.046610  0.025850  0.033944  0.076825  0.072898  0.039276  0.121113  \n",
       "1    0.093060  0.019354  0.028239  0.063911  0.138270  0.031367  0.076940  \n",
       "2    0.037630  0.000000  0.018270  0.082698  0.133400  0.012684  0.000000  \n",
       "3    0.055764  0.000000  0.094759  0.030638  0.017443  0.018796  0.158073  \n",
       "4    0.096877  0.000000  0.060474  0.030415  0.129871  0.000000  0.000000  \n",
       "..        ...       ...       ...       ...       ...       ...       ...  \n",
       "302  0.211743  0.256220  1.000000  0.211520  0.168595  0.129766  0.263734  \n",
       "303  0.527636  0.249675  0.211520  1.000000  0.242269  0.416067  0.178384  \n",
       "304  0.281108  0.132977  0.168595  0.242269  1.000000  0.220159  0.128902  \n",
       "305  0.476644  0.222350  0.129766  0.416067  0.220159  1.000000  0.126274  \n",
       "306  0.099901  0.249325  0.263734  0.178384  0.128902  0.126274  1.000000  \n",
       "\n",
       "[307 rows x 307 columns]"
      ]
     },
     "execution_count": 5,
     "metadata": {},
     "output_type": "execute_result"
    }
   ],
   "source": [
    "sim_df = pd.read_csv(sim_url)\n",
    "sim_df"
   ]
  },
  {
   "cell_type": "markdown",
   "metadata": {},
   "source": [
    "The similarity matrix is a real number, symmetric metric with each element representing the similarity value (ranged 0 to 1) between course index `i` and course index `j`.\n"
   ]
  },
  {
   "cell_type": "markdown",
   "metadata": {},
   "source": [
    "We could use `seaborn` to visualize the similarity metric, and since it is symmetric, we can just show the triangular  matrix (lower left):\n"
   ]
  },
  {
   "cell_type": "code",
   "execution_count": 6,
   "metadata": {},
   "outputs": [
    {
     "data": {
      "text/plain": [
       "<AxesSubplot:>"
      ]
     },
     "execution_count": 6,
     "metadata": {},
     "output_type": "execute_result"
    },
    {
     "data": {
      "image/png": "[encoded data removed]",
      "text/plain": [
       "<Figure size 792x648 with 2 Axes>"
      ]
     },
     "metadata": {},
     "output_type": "display_data"
    }
   ],
   "source": [
    "# Configure seaborn\n",
    "sns.set_theme(style=\"white\")\n",
    "mask = np.triu(np.ones_like(sim_df, dtype=bool))\n",
    "_, ax = plt.subplots(figsize=(11, 9))\n",
    "cmap = sns.diverging_palette(230, 20, as_cmap=True)\n",
    "# Plot a similarity heat map\n",
    "sns.heatmap(sim_df, mask=mask, cmap=cmap, vmin=0.01, vmax=1, center=0,\n",
    "            square=True)"
   ]
  },
  {
   "cell_type": "markdown",
   "metadata": {},
   "source": [
    "As we can see from the heatmap; there are many hot spots, which means many courses are similar to each other. Such patterns suggest that it is possible to build a recommender system based on course similarities.\n"
   ]
  },
  {
   "cell_type": "markdown",
   "metadata": {},
   "source": [
    "Let's take a look at a quick example:\n"
   ]
  },
  {
   "cell_type": "code",
   "execution_count": 7,
   "metadata": {},
   "outputs": [
    {
     "data": {
      "text/html": [
       "<div>\n",
       "<style scoped>\n",
       "    .dataframe tbody tr th:only-of-type {\n",
       "        vertical-align: middle;\n",
       "    }\n",
       "\n",
       "    .dataframe tbody tr th {\n",
       "        vertical-align: top;\n",
       "    }\n",
       "\n",
       "    .dataframe thead th {\n",
       "        text-align: right;\n",
       "    }\n",
       "</style>\n",
       "<table border=\"1\" class=\"dataframe\">\n",
       "  <thead>\n",
       "    <tr style=\"text-align: right;\">\n",
       "      <th></th>\n",
       "      <th>COURSE_ID</th>\n",
       "      <th>TITLE</th>\n",
       "      <th>DESCRIPTION</th>\n",
       "    </tr>\n",
       "  </thead>\n",
       "  <tbody>\n",
       "    <tr>\n",
       "      <th>0</th>\n",
       "      <td>ML0201EN</td>\n",
       "      <td>robots are coming  build iot apps with watson ...</td>\n",
       "      <td>have fun with iot and learn along the way  if ...</td>\n",
       "    </tr>\n",
       "    <tr>\n",
       "      <th>1</th>\n",
       "      <td>ML0122EN</td>\n",
       "      <td>accelerating deep learning with gpu</td>\n",
       "      <td>training complex deep learning models with lar...</td>\n",
       "    </tr>\n",
       "    <tr>\n",
       "      <th>2</th>\n",
       "      <td>GPXX0ZG0EN</td>\n",
       "      <td>consuming restful services using the reactive ...</td>\n",
       "      <td>learn how to use a reactive jax rs client to a...</td>\n",
       "    </tr>\n",
       "    <tr>\n",
       "      <th>3</th>\n",
       "      <td>RP0105EN</td>\n",
       "      <td>analyzing big data in r using apache spark</td>\n",
       "      <td>apache spark is a popular cluster computing fr...</td>\n",
       "    </tr>\n",
       "    <tr>\n",
       "      <th>4</th>\n",
       "      <td>GPXX0Z2PEN</td>\n",
       "      <td>containerizing  packaging  and running a sprin...</td>\n",
       "      <td>learn how to containerize  package  and run a ...</td>\n",
       "    </tr>\n",
       "    <tr>\n",
       "      <th>...</th>\n",
       "      <td>...</td>\n",
       "      <td>...</td>\n",
       "      <td>...</td>\n",
       "    </tr>\n",
       "    <tr>\n",
       "      <th>302</th>\n",
       "      <td>excourse89</td>\n",
       "      <td>javascript  jquery  and json</td>\n",
       "      <td>in this course  we ll look at the javascript l...</td>\n",
       "    </tr>\n",
       "    <tr>\n",
       "      <th>303</th>\n",
       "      <td>excourse90</td>\n",
       "      <td>programming foundations with javascript  html ...</td>\n",
       "      <td>learn foundational programming concepts  e g  ...</td>\n",
       "    </tr>\n",
       "    <tr>\n",
       "      <th>304</th>\n",
       "      <td>excourse91</td>\n",
       "      <td>front end web development with react</td>\n",
       "      <td>this course explores javascript based front en...</td>\n",
       "    </tr>\n",
       "    <tr>\n",
       "      <th>305</th>\n",
       "      <td>excourse92</td>\n",
       "      <td>introduction to web development</td>\n",
       "      <td>this course is designed to start you on a path...</td>\n",
       "    </tr>\n",
       "    <tr>\n",
       "      <th>306</th>\n",
       "      <td>excourse93</td>\n",
       "      <td>interactivity with javascript and jquery</td>\n",
       "      <td>this course is the third in our javascript for...</td>\n",
       "    </tr>\n",
       "  </tbody>\n",
       "</table>\n",
       "<p>307 rows × 3 columns</p>\n",
       "</div>"
      ],
      "text/plain": [
       "      COURSE_ID                                              TITLE  \\\n",
       "0      ML0201EN  robots are coming  build iot apps with watson ...   \n",
       "1      ML0122EN                accelerating deep learning with gpu   \n",
       "2    GPXX0ZG0EN  consuming restful services using the reactive ...   \n",
       "3      RP0105EN         analyzing big data in r using apache spark   \n",
       "4    GPXX0Z2PEN  containerizing  packaging  and running a sprin...   \n",
       "..          ...                                                ...   \n",
       "302  excourse89                       javascript  jquery  and json   \n",
       "303  excourse90  programming foundations with javascript  html ...   \n",
       "304  excourse91               front end web development with react   \n",
       "305  excourse92                    introduction to web development   \n",
       "306  excourse93           interactivity with javascript and jquery   \n",
       "\n",
       "                                           DESCRIPTION  \n",
       "0    have fun with iot and learn along the way  if ...  \n",
       "1    training complex deep learning models with lar...  \n",
       "2    learn how to use a reactive jax rs client to a...  \n",
       "3    apache spark is a popular cluster computing fr...  \n",
       "4    learn how to containerize  package  and run a ...  \n",
       "..                                                 ...  \n",
       "302  in this course  we ll look at the javascript l...  \n",
       "303  learn foundational programming concepts  e g  ...  \n",
       "304  this course explores javascript based front en...  \n",
       "305  this course is designed to start you on a path...  \n",
       "306  this course is the third in our javascript for...  \n",
       "\n",
       "[307 rows x 3 columns]"
      ]
     },
     "metadata": {},
     "output_type": "display_data"
    },
    {
     "data": {
      "text/html": [
       "<div>\n",
       "<style scoped>\n",
       "    .dataframe tbody tr th:only-of-type {\n",
       "        vertical-align: middle;\n",
       "    }\n",
       "\n",
       "    .dataframe tbody tr th {\n",
       "        vertical-align: top;\n",
       "    }\n",
       "\n",
       "    .dataframe thead th {\n",
       "        text-align: right;\n",
       "    }\n",
       "</style>\n",
       "<table border=\"1\" class=\"dataframe\">\n",
       "  <thead>\n",
       "    <tr style=\"text-align: right;\">\n",
       "      <th></th>\n",
       "      <th>doc_index</th>\n",
       "      <th>doc_id</th>\n",
       "      <th>token</th>\n",
       "      <th>bow</th>\n",
       "    </tr>\n",
       "  </thead>\n",
       "  <tbody>\n",
       "    <tr>\n",
       "      <th>0</th>\n",
       "      <td>0</td>\n",
       "      <td>ML0201EN</td>\n",
       "      <td>ai</td>\n",
       "      <td>2</td>\n",
       "    </tr>\n",
       "    <tr>\n",
       "      <th>1</th>\n",
       "      <td>0</td>\n",
       "      <td>ML0201EN</td>\n",
       "      <td>apps</td>\n",
       "      <td>2</td>\n",
       "    </tr>\n",
       "    <tr>\n",
       "      <th>2</th>\n",
       "      <td>0</td>\n",
       "      <td>ML0201EN</td>\n",
       "      <td>build</td>\n",
       "      <td>2</td>\n",
       "    </tr>\n",
       "    <tr>\n",
       "      <th>3</th>\n",
       "      <td>0</td>\n",
       "      <td>ML0201EN</td>\n",
       "      <td>cloud</td>\n",
       "      <td>1</td>\n",
       "    </tr>\n",
       "    <tr>\n",
       "      <th>4</th>\n",
       "      <td>0</td>\n",
       "      <td>ML0201EN</td>\n",
       "      <td>coming</td>\n",
       "      <td>1</td>\n",
       "    </tr>\n",
       "    <tr>\n",
       "      <th>...</th>\n",
       "      <td>...</td>\n",
       "      <td>...</td>\n",
       "      <td>...</td>\n",
       "      <td>...</td>\n",
       "    </tr>\n",
       "    <tr>\n",
       "      <th>10361</th>\n",
       "      <td>306</td>\n",
       "      <td>excourse93</td>\n",
       "      <td>modifying</td>\n",
       "      <td>1</td>\n",
       "    </tr>\n",
       "    <tr>\n",
       "      <th>10362</th>\n",
       "      <td>306</td>\n",
       "      <td>excourse93</td>\n",
       "      <td>objectives</td>\n",
       "      <td>1</td>\n",
       "    </tr>\n",
       "    <tr>\n",
       "      <th>10363</th>\n",
       "      <td>306</td>\n",
       "      <td>excourse93</td>\n",
       "      <td>pieces</td>\n",
       "      <td>1</td>\n",
       "    </tr>\n",
       "    <tr>\n",
       "      <th>10364</th>\n",
       "      <td>306</td>\n",
       "      <td>excourse93</td>\n",
       "      <td>plugins</td>\n",
       "      <td>1</td>\n",
       "    </tr>\n",
       "    <tr>\n",
       "      <th>10365</th>\n",
       "      <td>306</td>\n",
       "      <td>excourse93</td>\n",
       "      <td>populate</td>\n",
       "      <td>1</td>\n",
       "    </tr>\n",
       "  </tbody>\n",
       "</table>\n",
       "<p>10366 rows × 4 columns</p>\n",
       "</div>"
      ],
      "text/plain": [
       "       doc_index      doc_id       token  bow\n",
       "0              0    ML0201EN          ai    2\n",
       "1              0    ML0201EN        apps    2\n",
       "2              0    ML0201EN       build    2\n",
       "3              0    ML0201EN       cloud    1\n",
       "4              0    ML0201EN      coming    1\n",
       "...          ...         ...         ...  ...\n",
       "10361        306  excourse93   modifying    1\n",
       "10362        306  excourse93  objectives    1\n",
       "10363        306  excourse93      pieces    1\n",
       "10364        306  excourse93     plugins    1\n",
       "10365        306  excourse93    populate    1\n",
       "\n",
       "[10366 rows x 4 columns]"
      ]
     },
     "metadata": {},
     "output_type": "display_data"
    }
   ],
   "source": [
    "# Let's first load the course content and BoW dataset\n",
    "course_url = \"https://cf-courses-data.s3.us.cloud-object-storage.appdomain.cloud/IBM-ML321EN-SkillsNetwork/labs/datasets/course_processed.csv\"\n",
    "course_df = pd.read_csv(course_url)\n",
    "display(course_df)\n",
    "bow_url = \"https://cf-courses-data.s3.us.cloud-object-storage.appdomain.cloud/IBM-ML321EN-SkillsNetwork/labs/datasets/courses_bows.csv\"\n",
    "bow_df = pd.read_csv(bow_url)\n",
    "display(bow_df)"
   ]
  },
  {
   "cell_type": "markdown",
   "metadata": {},
   "source": [
    "First, we want to mention that the matrix indices are course indices (such as `0, 1, 2, 3`). Very often we need to query the actual course ids (such as `ML0151EN` and `ML0101ENv3`) based on course indices and vice versa. We can save the course id's and indices into two dictionaries for late queries:\n"
   ]
  },
  {
   "cell_type": "markdown",
   "metadata": {},
   "source": [
    "Then, based on the `doc_index` and `doc_id` columns, we create an index to id mapping and another id to index mapping in two Python dictionaries:\n"
   ]
  },
  {
   "cell_type": "code",
   "execution_count": 8,
   "metadata": {},
   "outputs": [],
   "source": [
    "# Create course id to index and index to id mappings\n",
    "def get_doc_dicts(bow_df):\n",
    "    grouped_df = bow_df.groupby(['doc_index', 'doc_id']).max().reset_index(drop=False)\n",
    "    idx_id_dict = grouped_df[['doc_id']].to_dict()['doc_id']\n",
    "    id_idx_dict = {v: k for k, v in idx_id_dict.items()}\n",
    "    del grouped_df\n",
    "    return idx_id_dict, id_idx_dict"
   ]
  },
  {
   "cell_type": "markdown",
   "metadata": {},
   "source": [
    "Now suppose we have two example courses:\n"
   ]
  },
  {
   "cell_type": "code",
   "execution_count": 9,
   "metadata": {},
   "outputs": [
    {
     "data": {
      "text/html": [
       "<div>\n",
       "<style scoped>\n",
       "    .dataframe tbody tr th:only-of-type {\n",
       "        vertical-align: middle;\n",
       "    }\n",
       "\n",
       "    .dataframe tbody tr th {\n",
       "        vertical-align: top;\n",
       "    }\n",
       "\n",
       "    .dataframe thead th {\n",
       "        text-align: right;\n",
       "    }\n",
       "</style>\n",
       "<table border=\"1\" class=\"dataframe\">\n",
       "  <thead>\n",
       "    <tr style=\"text-align: right;\">\n",
       "      <th></th>\n",
       "      <th>COURSE_ID</th>\n",
       "      <th>TITLE</th>\n",
       "      <th>DESCRIPTION</th>\n",
       "    </tr>\n",
       "  </thead>\n",
       "  <tbody>\n",
       "    <tr>\n",
       "      <th>200</th>\n",
       "      <td>ML0151EN</td>\n",
       "      <td>machine learning with r</td>\n",
       "      <td>this machine learning with r course dives into...</td>\n",
       "    </tr>\n",
       "  </tbody>\n",
       "</table>\n",
       "</div>"
      ],
      "text/plain": [
       "    COURSE_ID                    TITLE  \\\n",
       "200  ML0151EN  machine learning with r   \n",
       "\n",
       "                                           DESCRIPTION  \n",
       "200  this machine learning with r course dives into...  "
      ]
     },
     "execution_count": 9,
     "metadata": {},
     "output_type": "execute_result"
    }
   ],
   "source": [
    "course1 = course_df[course_df['COURSE_ID'] == \"ML0151EN\"]\n",
    "course1"
   ]
  },
  {
   "cell_type": "code",
   "execution_count": 10,
   "metadata": {},
   "outputs": [
    {
     "data": {
      "text/html": [
       "<div>\n",
       "<style scoped>\n",
       "    .dataframe tbody tr th:only-of-type {\n",
       "        vertical-align: middle;\n",
       "    }\n",
       "\n",
       "    .dataframe tbody tr th {\n",
       "        vertical-align: top;\n",
       "    }\n",
       "\n",
       "    .dataframe thead th {\n",
       "        text-align: right;\n",
       "    }\n",
       "</style>\n",
       "<table border=\"1\" class=\"dataframe\">\n",
       "  <thead>\n",
       "    <tr style=\"text-align: right;\">\n",
       "      <th></th>\n",
       "      <th>COURSE_ID</th>\n",
       "      <th>TITLE</th>\n",
       "      <th>DESCRIPTION</th>\n",
       "    </tr>\n",
       "  </thead>\n",
       "  <tbody>\n",
       "    <tr>\n",
       "      <th>158</th>\n",
       "      <td>ML0101ENv3</td>\n",
       "      <td>machine learning with python</td>\n",
       "      <td>machine learning can be an incredibly benefici...</td>\n",
       "    </tr>\n",
       "  </tbody>\n",
       "</table>\n",
       "</div>"
      ],
      "text/plain": [
       "      COURSE_ID                         TITLE  \\\n",
       "158  ML0101ENv3  machine learning with python   \n",
       "\n",
       "                                           DESCRIPTION  \n",
       "158  machine learning can be an incredibly benefici...  "
      ]
     },
     "execution_count": 10,
     "metadata": {},
     "output_type": "execute_result"
    }
   ],
   "source": [
    "course2 = course_df[course_df['COURSE_ID'] == \"ML0101ENv3\"]\n",
    "course2"
   ]
  },
  {
   "cell_type": "markdown",
   "metadata": {},
   "source": [
    "From their titles we can see they are all about machine learning. As such, they should be very similar to each other. Let's try to find their similarity in the similarity matrix.\n",
    "\n",
    "With their course ids, we can use the `id_idx_dict` dictionary to query their row and column index on the similarity matrix:\n"
   ]
  },
  {
   "cell_type": "code",
   "execution_count": 11,
   "metadata": {},
   "outputs": [
    {
     "name": "stdout",
     "output_type": "stream",
     "text": [
      "Course 1's index is 200 and Course 2's index is 158\n"
     ]
    }
   ],
   "source": [
    "# Finding the document index\n",
    "\n",
    "idx_id_dict, id_idx_dict = get_doc_dicts(bow_df)\n",
    "idx1 = id_idx_dict[\"ML0151EN\"]\n",
    "idx2 = id_idx_dict[\"ML0101ENv3\"]\n",
    "\n",
    "print(f\"Course 1's index is {idx1} and Course 2's index is {idx2}\")"
   ]
  },
  {
   "cell_type": "markdown",
   "metadata": {},
   "source": [
    "Then we can locate their similarity value in row 200 and col 158, `sim_matrix[200][158]`:\n"
   ]
  },
  {
   "cell_type": "code",
   "execution_count": 12,
   "metadata": {},
   "outputs": [],
   "source": [
    "sim_matrix = sim_df.to_numpy()"
   ]
  },
  {
   "cell_type": "code",
   "execution_count": 13,
   "metadata": {},
   "outputs": [
    {
     "data": {
      "text/plain": [
       "0.6626221399549089"
      ]
     },
     "execution_count": 13,
     "metadata": {},
     "output_type": "execute_result"
    }
   ],
   "source": [
    "sim = sim_matrix[idx1][idx2] # Accessing the Numpy array through the index directly (no need to use iloc as in pandas)\n",
    "sim # Finding similarity index"
   ]
  },
  {
   "cell_type": "code",
   "execution_count": 14,
   "metadata": {},
   "outputs": [
    {
     "data": {
      "text/plain": [
       "0.6626221399549089"
      ]
     },
     "execution_count": 14,
     "metadata": {},
     "output_type": "execute_result"
    }
   ],
   "source": [
    "# using pandas\n",
    "sim_df.iloc[idx1,idx2]"
   ]
  },
  {
   "cell_type": "markdown",
   "metadata": {},
   "source": [
    "It's about 66% meaning these two courses are quite similar to each other.\n"
   ]
  },
  {
   "cell_type": "markdown",
   "metadata": {},
   "source": [
    "### TASK: Find courses which are similar enough to your enrolled courses.\n"
   ]
  },
  {
   "cell_type": "markdown",
   "metadata": {},
   "source": [
    "Now you know how to easily use the pre-computed similarity matrix to query the similarity between any two courses. Do you want to make some course recommendations for yourself?\n",
    "\n",
    "Let's assume you are an end-user of the online course platform and already audited or completed some courses previously. Next, you expect the system would recommend similar courses based on your enrollments history.\n"
   ]
  },
  {
   "cell_type": "markdown",
   "metadata": {},
   "source": [
    "From the full course list, choose any courses that may interest you, such as those machine learning related courses:\n"
   ]
  },
  {
   "cell_type": "code",
   "execution_count": 15,
   "metadata": {},
   "outputs": [
    {
     "data": {
      "text/html": [
       "<div>\n",
       "<style scoped>\n",
       "    .dataframe tbody tr th:only-of-type {\n",
       "        vertical-align: middle;\n",
       "    }\n",
       "\n",
       "    .dataframe tbody tr th {\n",
       "        vertical-align: top;\n",
       "    }\n",
       "\n",
       "    .dataframe thead th {\n",
       "        text-align: right;\n",
       "    }\n",
       "</style>\n",
       "<table border=\"1\" class=\"dataframe\">\n",
       "  <thead>\n",
       "    <tr style=\"text-align: right;\">\n",
       "      <th></th>\n",
       "      <th>COURSE_ID</th>\n",
       "      <th>TITLE</th>\n",
       "    </tr>\n",
       "  </thead>\n",
       "  <tbody>\n",
       "    <tr>\n",
       "      <th>0</th>\n",
       "      <td>ML0201EN</td>\n",
       "      <td>robots are coming  build iot apps with watson  swift  and node red</td>\n",
       "    </tr>\n",
       "    <tr>\n",
       "      <th>1</th>\n",
       "      <td>ML0122EN</td>\n",
       "      <td>accelerating deep learning with gpu</td>\n",
       "    </tr>\n",
       "    <tr>\n",
       "      <th>2</th>\n",
       "      <td>GPXX0ZG0EN</td>\n",
       "      <td>consuming restful services using the reactive jax rs client</td>\n",
       "    </tr>\n",
       "    <tr>\n",
       "      <th>3</th>\n",
       "      <td>RP0105EN</td>\n",
       "      <td>analyzing big data in r using apache spark</td>\n",
       "    </tr>\n",
       "    <tr>\n",
       "      <th>4</th>\n",
       "      <td>GPXX0Z2PEN</td>\n",
       "      <td>containerizing  packaging  and running a spring boot application</td>\n",
       "    </tr>\n",
       "    <tr>\n",
       "      <th>5</th>\n",
       "      <td>CNSC02EN</td>\n",
       "      <td>cloud native security conference   data security</td>\n",
       "    </tr>\n",
       "    <tr>\n",
       "      <th>6</th>\n",
       "      <td>DX0106EN</td>\n",
       "      <td>data science bootcamp with r for university proffesors</td>\n",
       "    </tr>\n",
       "    <tr>\n",
       "      <th>7</th>\n",
       "      <td>GPXX0FTCEN</td>\n",
       "      <td>learn how to use docker containers for iterative development</td>\n",
       "    </tr>\n",
       "    <tr>\n",
       "      <th>8</th>\n",
       "      <td>RAVSCTEST1</td>\n",
       "      <td>scorm test 1</td>\n",
       "    </tr>\n",
       "    <tr>\n",
       "      <th>9</th>\n",
       "      <td>GPXX06RFEN</td>\n",
       "      <td>create your first mongodb database</td>\n",
       "    </tr>\n",
       "    <tr>\n",
       "      <th>10</th>\n",
       "      <td>GPXX0SDXEN</td>\n",
       "      <td>testing microservices with the arquillian managed container</td>\n",
       "    </tr>\n",
       "    <tr>\n",
       "      <th>11</th>\n",
       "      <td>CC0271EN</td>\n",
       "      <td>cloud pak for integration essentials</td>\n",
       "    </tr>\n",
       "    <tr>\n",
       "      <th>12</th>\n",
       "      <td>WA0103EN</td>\n",
       "      <td>watson analytics for social media</td>\n",
       "    </tr>\n",
       "    <tr>\n",
       "      <th>13</th>\n",
       "      <td>DX0108EN</td>\n",
       "      <td>data science bootcamp with python for university professors  advance</td>\n",
       "    </tr>\n",
       "    <tr>\n",
       "      <th>14</th>\n",
       "      <td>GPXX0PICEN</td>\n",
       "      <td>create a cryptocurrency trading algorithm in python</td>\n",
       "    </tr>\n",
       "    <tr>\n",
       "      <th>15</th>\n",
       "      <td>DAI101EN</td>\n",
       "      <td>data   ai essentials</td>\n",
       "    </tr>\n",
       "    <tr>\n",
       "      <th>16</th>\n",
       "      <td>GPXX0W7KEN</td>\n",
       "      <td>securing java microservices with eclipse microprofile json web token  microprofile jwt</td>\n",
       "    </tr>\n",
       "    <tr>\n",
       "      <th>17</th>\n",
       "      <td>GPXX0QR3EN</td>\n",
       "      <td>enabling distributed tracing in microservices with zipkin</td>\n",
       "    </tr>\n",
       "    <tr>\n",
       "      <th>18</th>\n",
       "      <td>BD0145EN</td>\n",
       "      <td>sql access for hadoop</td>\n",
       "    </tr>\n",
       "    <tr>\n",
       "      <th>19</th>\n",
       "      <td>HCC105EN</td>\n",
       "      <td>hybrid cloud conference  ai pipelines lab</td>\n",
       "    </tr>\n",
       "  </tbody>\n",
       "</table>\n",
       "</div>"
      ],
      "text/plain": [
       "     COURSE_ID  \\\n",
       "0     ML0201EN   \n",
       "1     ML0122EN   \n",
       "2   GPXX0ZG0EN   \n",
       "3     RP0105EN   \n",
       "4   GPXX0Z2PEN   \n",
       "5     CNSC02EN   \n",
       "6     DX0106EN   \n",
       "7   GPXX0FTCEN   \n",
       "8   RAVSCTEST1   \n",
       "9   GPXX06RFEN   \n",
       "10  GPXX0SDXEN   \n",
       "11    CC0271EN   \n",
       "12    WA0103EN   \n",
       "13    DX0108EN   \n",
       "14  GPXX0PICEN   \n",
       "15    DAI101EN   \n",
       "16  GPXX0W7KEN   \n",
       "17  GPXX0QR3EN   \n",
       "18    BD0145EN   \n",
       "19    HCC105EN   \n",
       "\n",
       "                                                                                      TITLE  \n",
       "0                        robots are coming  build iot apps with watson  swift  and node red  \n",
       "1                                                       accelerating deep learning with gpu  \n",
       "2                               consuming restful services using the reactive jax rs client  \n",
       "3                                                analyzing big data in r using apache spark  \n",
       "4                          containerizing  packaging  and running a spring boot application  \n",
       "5                                          cloud native security conference   data security  \n",
       "6                                    data science bootcamp with r for university proffesors  \n",
       "7                              learn how to use docker containers for iterative development  \n",
       "8                                                                              scorm test 1  \n",
       "9                                                        create your first mongodb database  \n",
       "10                              testing microservices with the arquillian managed container  \n",
       "11                                                     cloud pak for integration essentials  \n",
       "12                                                        watson analytics for social media  \n",
       "13                    data science bootcamp with python for university professors  advance   \n",
       "14                                      create a cryptocurrency trading algorithm in python  \n",
       "15                                                                     data   ai essentials  \n",
       "16  securing java microservices with eclipse microprofile json web token  microprofile jwt   \n",
       "17                                enabling distributed tracing in microservices with zipkin  \n",
       "18                                                                    sql access for hadoop  \n",
       "19                                                hybrid cloud conference  ai pipelines lab  "
      ]
     },
     "execution_count": 15,
     "metadata": {},
     "output_type": "execute_result"
    }
   ],
   "source": [
    "pd.set_option('display.max_rows', None)\n",
    "pd.set_option('max_colwidth', None)\n",
    "course_df[['COURSE_ID', 'TITLE']].head(20)"
   ]
  },
  {
   "cell_type": "code",
   "execution_count": 16,
   "metadata": {},
   "outputs": [],
   "source": [
    "# Reset pandas settings\n",
    "pd.reset_option('display.max_rows')\n",
    "pd.reset_option('max_colwidth')"
   ]
  },
  {
   "cell_type": "markdown",
   "metadata": {},
   "source": [
    "*TODO: Browse the course list and choose your interested courses*\n"
   ]
  },
  {
   "cell_type": "code",
   "execution_count": 17,
   "metadata": {},
   "outputs": [
    {
     "data": {
      "text/plain": [
       "['GPXX0Z2PEN', 'GPXX0FTCEN', 'GPXX06RFEN', 'BD0145EN']"
      ]
     },
     "execution_count": 17,
     "metadata": {},
     "output_type": "execute_result"
    }
   ],
   "source": [
    "enrolled_course_ids = ['GPXX0Z2PEN','GPXX0FTCEN','GPXX06RFEN','BD0145EN'] # add your interested coures id to the list\n",
    "enrolled_course_ids"
   ]
  },
  {
   "cell_type": "code",
   "execution_count": 18,
   "metadata": {},
   "outputs": [
    {
     "data": {
      "text/html": [
       "<div>\n",
       "<style scoped>\n",
       "    .dataframe tbody tr th:only-of-type {\n",
       "        vertical-align: middle;\n",
       "    }\n",
       "\n",
       "    .dataframe tbody tr th {\n",
       "        vertical-align: top;\n",
       "    }\n",
       "\n",
       "    .dataframe thead th {\n",
       "        text-align: right;\n",
       "    }\n",
       "</style>\n",
       "<table border=\"1\" class=\"dataframe\">\n",
       "  <thead>\n",
       "    <tr style=\"text-align: right;\">\n",
       "      <th></th>\n",
       "      <th>COURSE_ID</th>\n",
       "      <th>TITLE</th>\n",
       "      <th>DESCRIPTION</th>\n",
       "    </tr>\n",
       "  </thead>\n",
       "  <tbody>\n",
       "    <tr>\n",
       "      <th>4</th>\n",
       "      <td>GPXX0Z2PEN</td>\n",
       "      <td>containerizing  packaging  and running a sprin...</td>\n",
       "      <td>learn how to containerize  package  and run a ...</td>\n",
       "    </tr>\n",
       "    <tr>\n",
       "      <th>7</th>\n",
       "      <td>GPXX0FTCEN</td>\n",
       "      <td>learn how to use docker containers for iterati...</td>\n",
       "      <td>learn how to use docker containers for iterati...</td>\n",
       "    </tr>\n",
       "    <tr>\n",
       "      <th>9</th>\n",
       "      <td>GPXX06RFEN</td>\n",
       "      <td>create your first mongodb database</td>\n",
       "      <td>in this guided project  you will get started w...</td>\n",
       "    </tr>\n",
       "    <tr>\n",
       "      <th>18</th>\n",
       "      <td>BD0145EN</td>\n",
       "      <td>sql access for hadoop</td>\n",
       "      <td>big sql is another tool to work with your hado...</td>\n",
       "    </tr>\n",
       "  </tbody>\n",
       "</table>\n",
       "</div>"
      ],
      "text/plain": [
       "     COURSE_ID                                              TITLE  \\\n",
       "4   GPXX0Z2PEN  containerizing  packaging  and running a sprin...   \n",
       "7   GPXX0FTCEN  learn how to use docker containers for iterati...   \n",
       "9   GPXX06RFEN                 create your first mongodb database   \n",
       "18    BD0145EN                              sql access for hadoop   \n",
       "\n",
       "                                          DESCRIPTION  \n",
       "4   learn how to containerize  package  and run a ...  \n",
       "7   learn how to use docker containers for iterati...  \n",
       "9   in this guided project  you will get started w...  \n",
       "18  big sql is another tool to work with your hado...  "
      ]
     },
     "execution_count": 18,
     "metadata": {},
     "output_type": "execute_result"
    }
   ],
   "source": [
    "enrolled_courses = course_df[course_df['COURSE_ID'].isin(enrolled_course_ids)] # When we have more than one row condition, we use isin instead of ==\n",
    "enrolled_courses"
   ]
  },
  {
   "cell_type": "markdown",
   "metadata": {},
   "source": [
    "Given the full course list, we can find those unselected courses:\n"
   ]
  },
  {
   "cell_type": "code",
   "execution_count": 19,
   "metadata": {},
   "outputs": [],
   "source": [
    "all_courses = set(course_df['COURSE_ID'])"
   ]
  },
  {
   "cell_type": "code",
   "execution_count": 20,
   "metadata": {},
   "outputs": [],
   "source": [
    "unselected_course_ids = all_courses.difference(enrolled_course_ids) # unenrolled ids - enrolled ids = remaining ids\n",
    "# unselected_course_ids"
   ]
  },
  {
   "cell_type": "markdown",
   "metadata": {},
   "source": [
    "Now, you can iterate each unselect course and check if it is similar enough to any of your selected courses. If the similarity is larger than a threshold such as 0.5 or 0.6, then add it to your course recommendation list:\n"
   ]
  },
  {
   "cell_type": "markdown",
   "metadata": {},
   "source": [
    "*TODO: Complete the following method to recommend courses which are similar to your enrolled courses*\n"
   ]
  },
  {
   "cell_type": "code",
   "execution_count": 21,
   "metadata": {},
   "outputs": [
    {
     "data": {
      "text/plain": [
       "0.0"
      ]
     },
     "execution_count": 21,
     "metadata": {},
     "output_type": "execute_result"
    }
   ],
   "source": [
    "sim = sim_matrix[32][12]\n",
    "sim # An example"
   ]
  },
  {
   "cell_type": "code",
   "execution_count": 22,
   "metadata": {},
   "outputs": [
    {
     "data": {
      "text/plain": [
       "0.0851256530758748"
      ]
     },
     "execution_count": 22,
     "metadata": {},
     "output_type": "execute_result"
    }
   ],
   "source": [
    "sim = sim_matrix[id_idx_dict['GPXX0FTCEN']][id_idx_dict['GPXX0Z2PEN']] # it is like above cell\n",
    "sim # An example"
   ]
  },
  {
   "cell_type": "code",
   "execution_count": 23,
   "metadata": {},
   "outputs": [],
   "source": [
    "def generate_recommendations_for_one_user(enrolled_course_ids, unselected_course_ids, id_idx_dict, sim_matrix):\n",
    "    # Create a dictionary to store your recommendation results\n",
    "    res = {}\n",
    "    threshold = 0.6\n",
    "#     sim_df = sim_matrix.to_numpy()\n",
    "    for enrolled_course in enrolled_course_ids: # looping through the previous courses which I did\n",
    "        for unselect_course in unselected_course_ids: # looping through the courses which I didn't audit or complete\n",
    "            if enrolled_course in id_idx_dict and unselect_course in id_idx_dict:\n",
    "                \n",
    "                \n",
    "                # Find the two indices for each enrolled_course and unselect_course, based on their two ids\n",
    "                # Calculate the similarity between an enrolled_course and an unselect_course\n",
    "                # e.g., Course ML0151EN's index is 200 and Course ML0101ENv3's index is 158\n",
    "                sim = sim_matrix[id_idx_dict[enrolled_course]][id_idx_dict[unselect_course]]\n",
    "                \n",
    "                \n",
    "                # Find the similarity value from the sim_matrix\n",
    "                # sim = sim_matrix[200][158]\n",
    "                \n",
    "                if sim > threshold:\n",
    "                    if unselect_course not in res:\n",
    "                        res[unselect_course] = sim\n",
    "                    else:\n",
    "                        if sim >= res[unselect_course]:\n",
    "                            res[unselect_course] = sim\n",
    "                            \n",
    "    # Sort the results by similarity\n",
    "    res = {k: v for k, v in sorted(res.items(), key=lambda item: item[1], reverse=True)}\n",
    "    return res"
   ]
  },
  {
   "cell_type": "markdown",
   "metadata": {},
   "source": [
    "The completed `generate_recommendations_user(...)` may ouput a dictionary like this:\n"
   ]
  },
  {
   "cell_type": "markdown",
   "metadata": {},
   "source": [
    "{'ML0151EN': 0.6626221399549089,\n",
    "'excourse47': 0.6347547807096177,\n",
    "'excourse46': 0.6120541193300345}\n"
   ]
  },
  {
   "cell_type": "code",
   "execution_count": 24,
   "metadata": {},
   "outputs": [
    {
     "data": {
      "text/plain": [
       "{'excourse72': 0.7036476305124202, 'BD0101EN': 0.623543584505046}"
      ]
     },
     "execution_count": 24,
     "metadata": {},
     "output_type": "execute_result"
    }
   ],
   "source": [
    "generate_recommendations_for_one_user(enrolled_course_ids, unselected_course_ids, id_idx_dict, sim_matrix)"
   ]
  },
  {
   "cell_type": "code",
   "execution_count": 25,
   "metadata": {},
   "outputs": [],
   "source": [
    "outcome = generate_recommendations_for_one_user(enrolled_course_ids, unselected_course_ids, id_idx_dict, sim_matrix)"
   ]
  },
  {
   "cell_type": "code",
   "execution_count": 26,
   "metadata": {},
   "outputs": [],
   "source": [
    "courses, sim_scores = list(outcome.keys()), list(outcome.values())"
   ]
  },
  {
   "cell_type": "code",
   "execution_count": 27,
   "metadata": {},
   "outputs": [
    {
     "data": {
      "text/plain": [
       "['excourse72', 'BD0101EN']"
      ]
     },
     "metadata": {},
     "output_type": "display_data"
    },
    {
     "data": {
      "text/plain": [
       "[0.7036476305124202, 0.623543584505046]"
      ]
     },
     "metadata": {},
     "output_type": "display_data"
    }
   ],
   "source": [
    "display(courses)\n",
    "display(sim_scores)"
   ]
  },
  {
   "cell_type": "markdown",
   "metadata": {},
   "source": [
    "### TASK: Generate course recommendations based on course similarities for all test uesrs\n"
   ]
  },
  {
   "cell_type": "markdown",
   "metadata": {},
   "source": [
    "In the previous task, you made some recommendations for yourself. Next, let's try to make recommendations for all the test users in the test dataset.\n"
   ]
  },
  {
   "cell_type": "code",
   "execution_count": 28,
   "metadata": {},
   "outputs": [
    {
     "data": {
      "text/html": [
       "<div>\n",
       "<style scoped>\n",
       "    .dataframe tbody tr th:only-of-type {\n",
       "        vertical-align: middle;\n",
       "    }\n",
       "\n",
       "    .dataframe tbody tr th {\n",
       "        vertical-align: top;\n",
       "    }\n",
       "\n",
       "    .dataframe thead th {\n",
       "        text-align: right;\n",
       "    }\n",
       "</style>\n",
       "<table border=\"1\" class=\"dataframe\">\n",
       "  <thead>\n",
       "    <tr style=\"text-align: right;\">\n",
       "      <th></th>\n",
       "      <th>user</th>\n",
       "      <th>item</th>\n",
       "      <th>rating</th>\n",
       "    </tr>\n",
       "  </thead>\n",
       "  <tbody>\n",
       "    <tr>\n",
       "      <th>0</th>\n",
       "      <td>1502801</td>\n",
       "      <td>RP0105EN</td>\n",
       "      <td>3.0</td>\n",
       "    </tr>\n",
       "    <tr>\n",
       "      <th>1</th>\n",
       "      <td>1609720</td>\n",
       "      <td>CNSC02EN</td>\n",
       "      <td>2.0</td>\n",
       "    </tr>\n",
       "    <tr>\n",
       "      <th>2</th>\n",
       "      <td>1347188</td>\n",
       "      <td>CO0301EN</td>\n",
       "      <td>3.0</td>\n",
       "    </tr>\n",
       "    <tr>\n",
       "      <th>3</th>\n",
       "      <td>755067</td>\n",
       "      <td>ML0103EN</td>\n",
       "      <td>3.0</td>\n",
       "    </tr>\n",
       "    <tr>\n",
       "      <th>4</th>\n",
       "      <td>538595</td>\n",
       "      <td>BD0115EN</td>\n",
       "      <td>3.0</td>\n",
       "    </tr>\n",
       "  </tbody>\n",
       "</table>\n",
       "</div>"
      ],
      "text/plain": [
       "      user      item  rating\n",
       "0  1502801  RP0105EN     3.0\n",
       "1  1609720  CNSC02EN     2.0\n",
       "2  1347188  CO0301EN     3.0\n",
       "3   755067  ML0103EN     3.0\n",
       "4   538595  BD0115EN     3.0"
      ]
     },
     "execution_count": 28,
     "metadata": {},
     "output_type": "execute_result"
    }
   ],
   "source": [
    "test_users_url = \"https://cf-courses-data.s3.us.cloud-object-storage.appdomain.cloud/IBM-ML321EN-SkillsNetwork/labs/datasets/rs_content_test.csv\"\n",
    "test_users_df = pd.read_csv(test_users_url)\n",
    "test_users_df.head()"
   ]
  },
  {
   "cell_type": "markdown",
   "metadata": {},
   "source": [
    "Let's look at how many test users we have in the dataset.\n"
   ]
  },
  {
   "cell_type": "code",
   "execution_count": 29,
   "metadata": {},
   "outputs": [
    {
     "name": "stdout",
     "output_type": "stream",
     "text": [
      "Total numbers of test users 1000\n"
     ]
    }
   ],
   "source": [
    "test_users = test_users_df.groupby(['user']).max().reset_index(drop=False)\n",
    "test_user_ids = test_users['user'].to_list() # Creating a list of users ids [unique values only]\n",
    "print(f\"Total numbers of test users {len(test_user_ids)}\")"
   ]
  },
  {
   "cell_type": "markdown",
   "metadata": {},
   "source": [
    "*TODO: Complete the `generate_recommendations_for_all()` method to generate recommendations for all users. You may implement the task with different solutions*\n"
   ]
  },
  {
   "cell_type": "code",
   "execution_count": 30,
   "metadata": {},
   "outputs": [],
   "source": [
    "# WRITE YOUR CODE HERE\n",
    "def generate_recommendations_for_all():\n",
    "    users = []\n",
    "    courses = []\n",
    "    sim_scores = []\n",
    "    # Test user dataframe\n",
    "    test_users_df = pd.read_csv(test_users_url)\n",
    "    # Course similarity matrix\n",
    "    sim_df = pd.read_csv(sim_url)\n",
    "    sim_matrix = sim_df.to_numpy()\n",
    "    # Course content dataframe\n",
    "    course_df = pd.read_csv(course_url)\n",
    "    # Course BoW features\n",
    "    bow_df = pd.read_csv(bow_url)\n",
    "    test_users = test_users_df.groupby(['user']).max().reset_index(drop=False)\n",
    "    test_user_ids = test_users['user'].to_list() # list of users unique IDs\n",
    "    idx_id_dict, id_idx_dict = get_doc_dicts(bow_df)\n",
    "\n",
    "    # ...\n",
    "    all_courses = set(course_df['COURSE_ID'])\n",
    "    for user_id in test_user_ids:\n",
    "        users.append(user_id)\n",
    "        # For each user, call generate_recommendations_for_one_user() to generate the recommendation results\n",
    "        # Save the result to courses, sim_scores list\n",
    "        enrolled_course_ids = test_users_df[test_users_df.user==user_id].item.tolist() #Extract the enrolled courses by the user\n",
    "        unselected_course_ids = all_courses.difference(enrolled_course_ids) #unselected_course_ids\n",
    "        outcome = generate_recommendations_for_one_user(enrolled_course_ids, unselected_course_ids, id_idx_dict, sim_matrix) # Function from above\n",
    "        courses.append(list(outcome.keys())) # courses names\n",
    "        sim_scores.append(list(outcome.values())) # courses similarity index\n",
    "        pass\n",
    "    \n",
    "    return users, courses, sim_scores"
   ]
  },
  {
   "cell_type": "markdown",
   "metadata": {},
   "source": [
    "After you completed the `generate_recommendations_for_all()` function, you can call it to save the results into a dataframe:\n"
   ]
  },
  {
   "cell_type": "code",
   "execution_count": 32,
   "metadata": {},
   "outputs": [
    {
     "data": {
      "text/html": [
       "<div>\n",
       "<style scoped>\n",
       "    .dataframe tbody tr th:only-of-type {\n",
       "        vertical-align: middle;\n",
       "    }\n",
       "\n",
       "    .dataframe tbody tr th {\n",
       "        vertical-align: top;\n",
       "    }\n",
       "\n",
       "    .dataframe thead th {\n",
       "        text-align: right;\n",
       "    }\n",
       "</style>\n",
       "<table border=\"1\" class=\"dataframe\">\n",
       "  <thead>\n",
       "    <tr style=\"text-align: right;\">\n",
       "      <th></th>\n",
       "      <th>USER</th>\n",
       "      <th>COURSE_ID</th>\n",
       "      <th>SCORE</th>\n",
       "    </tr>\n",
       "  </thead>\n",
       "  <tbody>\n",
       "    <tr>\n",
       "      <th>0</th>\n",
       "      <td>37465</td>\n",
       "      <td>[DS0110EN, excourse67, excourse63, excourse72,...</td>\n",
       "      <td>[0.7329409123199365, 0.7082138557765277, 0.694...</td>\n",
       "    </tr>\n",
       "    <tr>\n",
       "      <th>1</th>\n",
       "      <td>50348</td>\n",
       "      <td>[CB0101EN, DS0110EN, CL0101EN, excourse67, exc...</td>\n",
       "      <td>[0.9233805168766388, 0.7329409123199365, 0.732...</td>\n",
       "    </tr>\n",
       "    <tr>\n",
       "      <th>2</th>\n",
       "      <td>52091</td>\n",
       "      <td>[ML0120ENv3, CB0101EN, excourse24, excourse36,...</td>\n",
       "      <td>[1.0, 0.9233805168766388, 0.7526312050490548, ...</td>\n",
       "    </tr>\n",
       "    <tr>\n",
       "      <th>3</th>\n",
       "      <td>70434</td>\n",
       "      <td>[excourse67, excourse72, excourse74, excourse68]</td>\n",
       "      <td>[0.7082138557765277, 0.7036476305124202, 0.650...</td>\n",
       "    </tr>\n",
       "    <tr>\n",
       "      <th>4</th>\n",
       "      <td>85625</td>\n",
       "      <td>[TMP0101EN, excourse72, TA0105EN, BD0151EN, BD...</td>\n",
       "      <td>[0.8894991799933215, 0.7036476305124202, 0.659...</td>\n",
       "    </tr>\n",
       "    <tr>\n",
       "      <th>...</th>\n",
       "      <td>...</td>\n",
       "      <td>...</td>\n",
       "      <td>...</td>\n",
       "    </tr>\n",
       "    <tr>\n",
       "      <th>995</th>\n",
       "      <td>2061096</td>\n",
       "      <td>[DS0110EN, excourse67, excourse63, excourse72,...</td>\n",
       "      <td>[0.7329409123199365, 0.7082138557765277, 0.694...</td>\n",
       "    </tr>\n",
       "    <tr>\n",
       "      <th>996</th>\n",
       "      <td>2074313</td>\n",
       "      <td>[excourse36, excourse23, DS0110EN, DV0151EN, e...</td>\n",
       "      <td>[0.7397041774816828, 0.7397041774816828, 0.732...</td>\n",
       "    </tr>\n",
       "    <tr>\n",
       "      <th>997</th>\n",
       "      <td>2074462</td>\n",
       "      <td>[CL0101EN, excourse22, excourse62, excourse24]</td>\n",
       "      <td>[0.7327907262791404, 0.6475015976638527, 0.647...</td>\n",
       "    </tr>\n",
       "    <tr>\n",
       "      <th>998</th>\n",
       "      <td>2082818</td>\n",
       "      <td>[DV0151EN, ML0115EN, ML0122EN]</td>\n",
       "      <td>[0.7235359517703827, 0.7071067811865475, 0.681...</td>\n",
       "    </tr>\n",
       "    <tr>\n",
       "      <th>999</th>\n",
       "      <td>2087663</td>\n",
       "      <td>[CB0103EN, excourse24, DS0110EN, CL0101EN, exc...</td>\n",
       "      <td>[0.9233805168766388, 0.7526312050490548, 0.732...</td>\n",
       "    </tr>\n",
       "  </tbody>\n",
       "</table>\n",
       "<p>1000 rows × 3 columns</p>\n",
       "</div>"
      ],
      "text/plain": [
       "        USER                                          COURSE_ID  \\\n",
       "0      37465  [DS0110EN, excourse67, excourse63, excourse72,...   \n",
       "1      50348  [CB0101EN, DS0110EN, CL0101EN, excourse67, exc...   \n",
       "2      52091  [ML0120ENv3, CB0101EN, excourse24, excourse36,...   \n",
       "3      70434   [excourse67, excourse72, excourse74, excourse68]   \n",
       "4      85625  [TMP0101EN, excourse72, TA0105EN, BD0151EN, BD...   \n",
       "..       ...                                                ...   \n",
       "995  2061096  [DS0110EN, excourse67, excourse63, excourse72,...   \n",
       "996  2074313  [excourse36, excourse23, DS0110EN, DV0151EN, e...   \n",
       "997  2074462     [CL0101EN, excourse22, excourse62, excourse24]   \n",
       "998  2082818                     [DV0151EN, ML0115EN, ML0122EN]   \n",
       "999  2087663  [CB0103EN, excourse24, DS0110EN, CL0101EN, exc...   \n",
       "\n",
       "                                                 SCORE  \n",
       "0    [0.7329409123199365, 0.7082138557765277, 0.694...  \n",
       "1    [0.9233805168766388, 0.7329409123199365, 0.732...  \n",
       "2    [1.0, 0.9233805168766388, 0.7526312050490548, ...  \n",
       "3    [0.7082138557765277, 0.7036476305124202, 0.650...  \n",
       "4    [0.8894991799933215, 0.7036476305124202, 0.659...  \n",
       "..                                                 ...  \n",
       "995  [0.7329409123199365, 0.7082138557765277, 0.694...  \n",
       "996  [0.7397041774816828, 0.7397041774816828, 0.732...  \n",
       "997  [0.7327907262791404, 0.6475015976638527, 0.647...  \n",
       "998  [0.7235359517703827, 0.7071067811865475, 0.681...  \n",
       "999  [0.9233805168766388, 0.7526312050490548, 0.732...  \n",
       "\n",
       "[1000 rows x 3 columns]"
      ]
     },
     "execution_count": 32,
     "metadata": {},
     "output_type": "execute_result"
    }
   ],
   "source": [
    "res_dict = {}\n",
    "users, courses, sim_scores = generate_recommendations_for_all()\n",
    "res_dict['USER'] = users\n",
    "res_dict['COURSE_ID'] = courses\n",
    "res_dict['SCORE'] = sim_scores\n",
    "res_df = pd.DataFrame(res_dict, columns=['USER', 'COURSE_ID', 'SCORE'])\n",
    "res_df"
   ]
  },
  {
   "cell_type": "markdown",
   "metadata": {},
   "source": [
    "Similar to the previous user profile and course genre lab, with the recommendations generated for each user, you need to write some extra analytic code to answer the following questions:\n"
   ]
  },
  {
   "cell_type": "markdown",
   "metadata": {},
   "source": [
    "*   On average, how many new/unseen courses have been recommended to each user?\n",
    "*   What are the most frequently recommended courses? Return the top-10 commonly recommended courses across all users?\n"
   ]
  },
  {
   "cell_type": "markdown",
   "metadata": {},
   "source": [
    "For example, suppose we have only 3 test users, each user receives the following recommendations:\n"
   ]
  },
  {
   "cell_type": "markdown",
   "metadata": {},
   "source": [
    "*   User1: \\['course1', 'course2']\n",
    "*   User2: \\['course3', 'course4']\n",
    "*   User3: \\['course3', 'course4', 'course5']\n"
   ]
  },
  {
   "cell_type": "markdown",
   "metadata": {},
   "source": [
    "Then, the average recommended courses per user is $(2 + 2 + 3) / 3 = 2.33$. The top-2 recommended courses are: `course3`: 2 times, and `course4`: 2 times.\n"
   ]
  },
  {
   "cell_type": "markdown",
   "metadata": {},
   "source": [
    "Note that the answers may depend on your similarity threshold (default is 0.6). A lower similarity threshold yields more recommended courses but with smaller irrelevance.\n",
    "\n",
    "Ideally, we should limit the maximum course recommendations for each user to be less than 20 courses per user.\n"
   ]
  },
  {
   "cell_type": "markdown",
   "metadata": {},
   "source": [
    "## Authors\n"
   ]
  },
  {
   "cell_type": "markdown",
   "metadata": {},
   "source": [
    "[Yan Luo](https://www.linkedin.com/in/yan-luo-96288783/?utm_medium=Exinfluencer&utm_source=Exinfluencer&utm_content=000026UJ&utm_term=10006555&utm_id=NA-SkillsNetwork-Channel-SkillsNetworkCoursesIBMML321ENSkillsNetwork32585014-2022-01-01)\n"
   ]
  },
  {
   "cell_type": "markdown",
   "metadata": {},
   "source": [
    "### Other Contributors\n"
   ]
  },
  {
   "cell_type": "markdown",
   "metadata": {},
   "source": [
    "## Change Log\n"
   ]
  },
  {
   "cell_type": "markdown",
   "metadata": {},
   "source": [
    "| Date (YYYY-MM-DD) | Version | Changed By | Change Description          |\n",
    "| ----------------- | ------- | ---------- | --------------------------- |\n",
    "| 2021-10-25        | 1.0     | Yan        | Created the initial version |\n"
   ]
  },
  {
   "cell_type": "markdown",
   "metadata": {},
   "source": [
    "Copyright © 2021 IBM Corporation. All rights reserved.\n"
   ]
  }
 ],
 "metadata": {
  "kernelspec": {
   "display_name": "Python 3 (ipykernel)",
   "language": "python",
   "name": "python3"
  },
  "language_info": {
   "codemirror_mode": {
    "name": "ipython",
    "version": 3
   },
   "file_extension": ".py",
   "mimetype": "text/x-python",
   "name": "python",
   "nbconvert_exporter": "python",
   "pygments_lexer": "ipython3",
   "version": "3.9.12"
  }
 },
 "nbformat": 4,
 "nbformat_minor": 4
}
